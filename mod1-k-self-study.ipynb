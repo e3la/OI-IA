{
 "cells": [
  {
   "cell_type": "markdown",
   "metadata": {},
   "source": [
    "Self-Study: Examples of Organization in Practice\n",
    "================================================\n",
    "\n",
    "![](https://missouri.instructure.com/courses/45003/files/7748332/download)  \n",
    "To wrap up this module, study how three different organizations present information to their users through the web. For each, spend about five minutes to look around, follow the links, etc.\n",
    "\n",
    "#### Library Catalog Resource\n",
    "\n",
    "The first \"retrieval tool\" to examine is an academic library's catalog—the link is to a \"record\" (the next module will cover these terms) for a research bulletin through MERLIN, the University of Missouri's online catalog\n",
    "\n",
    "MERLIN record: [http://merlin.lib.umsystem.edu/record=b2198267~S8 (Links to an external site.)](http://merlin.lib.umsystem.edu/record=b2198267~S8)\n",
    "\n",
    "*   This is one of the bibliographic records in the online catalog.\n",
    "*   From looking at this record, what do you learn about the information resource?\n",
    "    *   How many pages it is?\n",
    "    *   What is it about?\n",
    "    *   Who wrote it?\n",
    "    *   Who published it?\n",
    "*   Note the search options available in MERLIN.\n",
    "\n",
    "#### Archival Collection\n",
    "\n",
    "Next, look to the University of Minnesota archives to learn about their collection of information resources supporting study of the organization called the Great Alkali Plainsmen: [https://archives.lib.umn.edu/repositories/12/resources/449 (Links to an external site.)](https://archives.lib.umn.edu/repositories/12/resources/449)\n",
    "\n",
    "*   What is contained in an archival collection, based on what you see here?\n",
    "*   What is this collection about?\n",
    "*   What does this collection include?\n",
    "\n",
    "Contrast the information in this record used in an archive with the information in the MERLIN record. The system has different functionality, too.\n",
    "\n",
    "#### Museum Collection\n",
    "\n",
    "Finally, look to an image of an artifact in the collections at the Nelson Atkins Museum: [https://art.nelson-atkins.org/objects/20749/air?ctx=82d6c2ab-88d1-41c6-8a43-929c15048f5c&idx=3 (Links to an external site.)](https://art.nelson-atkins.org/objects/20749/air?ctx=82d6c2ab-88d1-41c6-8a43-929c15048f5c&idx=3)\n",
    "\n",
    "*   What can you learn about this artifact from the description?\n",
    "*   What is it made from?\n",
    "*   When and where was it made?\n",
    "\n",
    "#### **Next**\n",
    "\n",
    "_This module described information and talked about how it is organized in the information professions. The next page provides some very short optional readings (very engaging blog posts) to help situate the cognitive processes in play and the need for organizing._"
   ]
  },
  {
   "cell_type": "code",
   "execution_count": null,
   "metadata": {},
   "outputs": [],
   "source": []
  }
 ],
 "metadata": {
  "kernelspec": {
   "display_name": "Python 3",
   "language": "python",
   "name": "python3"
  },
  "language_info": {
   "codemirror_mode": {
    "name": "ipython",
    "version": 3
   },
   "file_extension": ".py",
   "mimetype": "text/x-python",
   "name": "python",
   "nbconvert_exporter": "python",
   "pygments_lexer": "ipython3",
   "version": "3.8.5"
  }
 },
 "nbformat": 4,
 "nbformat_minor": 4
}
