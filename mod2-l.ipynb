{
 "cells": [
  {
   "cell_type": "markdown",
   "metadata": {},
   "source": [
    "# Self Study: The IO/IR Definition of Browse\n",
    "\n",
    "![](https://missouri.instructure.com/courses/45003/files/7748332/download)  \n",
    "Think back to that IO/IR definition of browse. Again, it's NOT the online equivalent of window shopping and it's NOT simply what a browser permits online. A browse search places the user, based on a query, into a spot in the database's index, allowing the user to continue to refine a query from there.\n",
    "\n",
    "> This is not an easy concept, so devote the time needed to figuring it out. Use the timer provided here and take at least five minutes to use an institutional repository to browse for content (versus simply \"searching\").\n",
    "\n",
    "This screenshot is of the University of Missouri's institutional repository MOspace—and the community shown is the School of Information Science and Learning Technologies electronic theses and dissertations (MU).\n",
    "\n",
    "Users can query the community directly by typing in the name of a graduate, for example, or can browse a number of indexes (remember this term is used in computing to identify certain fields of a record that are searched at once) such as the title, subject, or author. Click on the image to try for yourself!\n",
    "\n",
    "[![MOspace Community with browse](https://missouri.instructure.com/courses/45003/files/7748367/preview)](https://mospace.umsystem.edu/xmlui/handle/10355/5240)\n",
    "\n",
    "*   For this exercise, choose one of the options under the collection name, identified as \"Browse by.\" Note that when you chose one of the options, you immediately retrieve a list of the entries in that index. You also have the option to enter a search term to place yourself in a specific place in the list. \n",
    "*   See if you can browse around to find the advisor with the most graduates.\n",
    "*   Are there only doctoral dissertations in this collection?\n",
    "*   How many students defended in the past five years?\n",
    "*   Try a keyword search, using the \"Search within this collection\" search box and compare the results to browsing.\n",
    "*   If you know Boolean searching—is it possible to do \"Boolean browsing\"? Why not?\n",
    "\n",
    "Now, stop and reflect on how these browse activities, in which you can see a number of results at once are a different kind of query from simply entering the name of the advisor (that you would have to know already), the level of study, and the year. In short, searching requires you to know A WHOLE LOT upfront (and if there's an error, you would get zero hits), whereas browsing allows for more exploration within the database.\n",
    "\n",
    "#### **Next**\n",
    "\n",
    "_Specialized databases like the ones used in the information professions also allow for additional search and browse functionalities based on terms assigned to the resources by information intermediaries. These terms, called _descriptors_ or _subject headings_, allow for much more precise results to be returned if used correctly._"
   ]
  }
 ],
 "metadata": {
  "kernelspec": {
   "display_name": "Python 3",
   "language": "python",
   "name": "python3"
  },
  "language_info": {
   "codemirror_mode": {
    "name": "ipython",
    "version": 3
   },
   "file_extension": ".py",
   "mimetype": "text/x-python",
   "name": "python",
   "nbconvert_exporter": "python",
   "pygments_lexer": "ipython3",
   "version": "3.8.5"
  }
 },
 "nbformat": 4,
 "nbformat_minor": 4
}
