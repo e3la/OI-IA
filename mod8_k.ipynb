{
  "nbformat": 4,
  "nbformat_minor": 0,
  "metadata": {
    "colab": {
      "name": "mod8-k.ipynb",
      "provenance": [],
      "authorship_tag": "ABX9TyOVhYCJPfzXKay3IVvV6CSk",
      "include_colab_link": true
    },
    "kernelspec": {
      "name": "python3",
      "display_name": "Python 3"
    }
  },
  "cells": [
    {
      "cell_type": "markdown",
      "metadata": {
        "id": "view-in-github",
        "colab_type": "text"
      },
      "source": [
        "<a href=\"https://colab.research.google.com/github/e3la/Organizing-Information-in-Information-Agencies/blob/master/mod8_k.ipynb\" target=\"_parent\"><img src=\"https://colab.research.google.com/assets/colab-badge.svg\" alt=\"Open In Colab\"/></a>"
      ]
    },
    {
      "cell_type": "markdown",
      "metadata": {
        "id": "LsGQYeriiCVz"
      },
      "source": [
        "\"Integrated Library System\" (Wikipedia, 2021)\r\n",
        "=============================================\r\n",
        "\r\n",
        "> Integrated library system. (2021, January 3). In _Wikipedia._ [https://en.wikipedia.org/w/index.php?title=Integrated\\_library\\_system&oldid=997981562](https://en.wikipedia.org/w/index.php?title=Integrated_library_system&oldid=997981562) \r\n",
        "\r\n",
        "#### Notes\r\n",
        "\r\n",
        "*   This is a short Wikipedia article on integrated library systems and their predecessors. The most interesting part is the history of catalogs by decade.\r\n",
        "*   Another useful term: Turnkey system.\r\n",
        "    *   Wikipedia defines \"Turnkey\" as \"a type of project that is constructed so that it can be sold to any buyer as a completed product.\" ([https://en.wikipedia.org/wiki/Turnkey](https://en.wikipedia.org/wiki/Turnkey))\r\n",
        "    *   In reference to an ILS, this means that the system comes ready for use, though usually different features can be customized. This is the same concept as \"out of the box.\"\r\n",
        "\r\n",
        "#### **Next**\r\n",
        "\r\n",
        "_This module has looked closely at the back-end decisions and work carried out in libraries as it pertains to the online catalog. Next, explore an integrated library system (ILS), from the public point of view._"
      ]
    }
  ]
}