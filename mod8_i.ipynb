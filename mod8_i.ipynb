{
  "nbformat": 4,
  "nbformat_minor": 0,
  "metadata": {
    "colab": {
      "name": "mod8-i.ipynb",
      "provenance": [],
      "authorship_tag": "ABX9TyOmpewyLcWBvNRC2Y53dHiS",
      "include_colab_link": true
    },
    "kernelspec": {
      "name": "python3",
      "display_name": "Python 3"
    }
  },
  "cells": [
    {
      "cell_type": "markdown",
      "metadata": {
        "id": "view-in-github",
        "colab_type": "text"
      },
      "source": [
        "<a href=\"https://colab.research.google.com/github/e3la/Organizing-Information-in-Information-Agencies/blob/master/mod8_i.ipynb\" target=\"_parent\"><img src=\"https://colab.research.google.com/assets/colab-badge.svg\" alt=\"Open In Colab\"/></a>"
      ]
    },
    {
      "cell_type": "markdown",
      "metadata": {
        "id": "SwuNPCtBeMDj"
      },
      "source": [
        "OPAC Design Decisions: Display\r\n",
        "==============================\r\n",
        "\r\n",
        "The indexes you saw on the last page help users with the \"find\" user task (Remember the user tasks introduced at the beginning of this OER?).\r\n",
        "\r\n",
        "Display of search results and bibliographic records plays a part in assisting users to \"identify\" and \"select\" appropriate information resources (\"Identify\" and \"select\" were other user tasks, you will recall).\r\n",
        "\r\n",
        "Libraries often will be able to customize what information is displayed in different views, especially based on \r\n",
        "\r\n",
        "**Search Results**\r\n",
        "------------------\r\n",
        "\r\n",
        "*   What fields should display in browse and keyword results?\r\n",
        "    *   Study the display of search results for browse searches (author or title) and for keyword searches. Use general words so that you get a lot of hits.\r\n",
        "        *   MERLIN: [http://merlin.lib.umsystem.edu/search/X](http://merlin.lib.umsystem.edu/search/X)\r\n",
        "    *   Are the fields displayed adequate or would you add additional fields? User convenience: you need to balance the value of additional information and not making your users scroll a lot to see the results.\r\n",
        "\r\n",
        "**Record Display**\r\n",
        "------------------\r\n",
        "\r\n",
        "*   [http://merlin.lib.umsystem.edu/record=b2722508~S8](http://merlin.lib.umsystem.edu/record=b2722508~S8)\r\n",
        "*   Again, libraries will determine what fields to display on the webpage and in what order.\r\n",
        "\r\n",
        "And do not forget color schemes and branding.\r\n",
        "\r\n",
        "Also, additional features, such as the inclusion of book jacket images and help pages, can help users find, identify, select, obtain, and explore which allows the catalog to be customized to meet user tasks in the most appropriate way possible.\r\n",
        "\r\n",
        "### ![](now-this-dark.png)  \r\n",
        "**Putting It All Together**\r\n",
        "\r\n",
        "These links are for the same book title in different installations of Innovative Interfaces systems. Note the different displays. Compare the indexes available in each, too. \r\n",
        "\r\n",
        "*   [https://spokane.wustl.edu/search/o49936209](https://spokane.wustl.edu/search/o49936209)\r\n",
        "*   [https://kc-towers.searchmobius.org/record=b1194208~S1](https://kc-towers.searchmobius.org/record=b1194208~S1)\r\n",
        "*   [http://merlin.lib.umsystem.edu/record=b2722508~S8](http://merlin.lib.umsystem.edu/record=b2722508~S8)\r\n",
        "*   [https://arcade.nyarc.org/record=b540857~S8](https://arcade.nyarc.org/record=b540857~S8)\r\n",
        "*   [http://ilsstaff.nypl.org/record=b12333760](http://ilsstaff.nypl.org/record=b12333760)\r\n",
        "\r\n",
        "#### **Next**\r\n",
        "\r\n",
        "_OPACs may stand alone -- they are, after all, simply the online catalog. Or, they may be one of many modules in a much more complex integrated library system (ILS). The next pages focuses on other functions in an ILS._"
      ]
    }
  ]
}