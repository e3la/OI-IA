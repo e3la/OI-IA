{
 "cells": [
  {
   "cell_type": "markdown",
   "metadata": {},
   "source": [
    "# Key Ideas in IR: Search Engines and Queries—Searching and Browsing\n",
    "\n",
    "Search engines work when users input queries. Usually, but not always, those queries are text strings typed into the search box.\n",
    "\n",
    "## Database Search Engines\n",
    "\n",
    "In the section on databases, queries were mentioned as being important, because information cannot be retrieved if the database cannot be searched.\n",
    "\n",
    "With the advent of the web, a number of ways of searching and browsing appeared in the late 1990s, but the notion of _search engine_ had been around a long time before that. In fact, the use of a search engine was, and still is, a way databases are searched.\n",
    "\n",
    "Here's the [search engine](https://www.abc-clio.com/ODLIS/odlis_s.aspx#searchengine) entry from the ODLIS:\n",
    "\n",
    "> [**search engine**](https://www.abc-clio.com/ODLIS/odlis_s.aspx#searchengine)  \n",
    "> Originally, a [hardware](https://www.abc-clio.com/ODLIS/odlis_h.aspx#hardware) [device](https://www.abc-clio.com/ODLIS/odlis_d.aspx#device) designed to [search](https://www.abc-clio.com/ODLIS/odlis_s.aspx#search) a [text](https://www.abc-clio.com/ODLIS/odlis_t.aspx#text)\\-based [database](https://www.abc-clio.com/ODLIS/odlis_d.aspx#database) for specific [character](https://www.abc-clio.com/ODLIS/odlis_c.aspx#character) strings ([queries](https://www.abc-clio.com/ODLIS/odlis_q.aspx#query)) typed as input by the user. More recently, computer [software](https://www.abc-clio.com/ODLIS/odlis_s.aspx#software) designed to help the user locate information available at sites on the [World Wide Web](https://www.abc-clio.com/ODLIS/odlis_w.aspx#www) by selecting categories from a [hierarchical](https://www.abc-clio.com/ODLIS/odlis_h.aspx#hierarchy) [directory](https://www.abc-clio.com/ODLIS/odlis_d.aspx#directory) of [subject](https://www.abc-clio.com/ODLIS/odlis_s.aspx#subject)s (_example_: _[Yahoo!](https://www.abc-clio.com/ODLIS/odlis_xyz.aspx#yahoo)_) or by entering appropriate [keywords](https://www.abc-clio.com/ODLIS/odlis_jk.aspx#keywords) or [phrase](https://www.abc-clio.com/ODLIS/odlis_p.aspx#phrase)s (_[Google](http://www.google.com/)_, _[Hotbot](http://www.hotbot.com/)_, etc.). Most Web search engines allow the searcher to use [Boolean](https://www.abc-clio.com/ODLIS/odlis_b.aspx#boolean) logic and [truncation](https://www.abc-clio.com/ODLIS/odlis_t.aspx#truncation) in [search statement](https://www.abc-clio.com/ODLIS/odlis_s.aspx#searchstatement)s. Results may be [ranked](https://www.abc-clio.com/ODLIS/odlis_r.aspx#ranking) according to [relevance](https://www.abc-clio.com/ODLIS/odlis_r.aspx#relevance) or some other criterion. [Functionality](https://www.abc-clio.com/ODLIS/odlis_f.aspx#functionality) varies, but many search engines provide both basic and advanced [search modes](https://www.abc-clio.com/ODLIS/odlis_s.aspx#searchmode). For more information about search engines, see the [entry](https://www.abc-clio.com/ODLIS/odlis_e.aspx#entry) by Mark Hepworth and Ian Murray in the _International Encyclopedia of Information and Library Science_ (Routledge, 2003) or try _[HowStuffWorks](http://www.howstuffworks.com/search-engine.htm)_. See also _[SearchEngineWatch.com](http://searchenginewatch.com/)_. **_See also_**: [crawler](https://www.abc-clio.com/ODLIS/odlis_c.aspx#crawler) and [metasearch](https://www.abc-clio.com/ODLIS/odlis_m.aspx#metasearch).\n",
    "\n",
    "```{admonition} Amazon example\n",
    "In Amazon, the query is launched in the white box after entering the terms, and, depending on the options available, users may be able to [limit](https://www.abc-clio.com/ODLIS/odlis_l.aspx#limiting) the query to a particular index, like Books, Electronics, or Gift cards. Limiting is a feature available in both ERIC and MOspace.\n",
    "```\n",
    "\n",
    "**Queries in Information Retrieval**\n",
    "------------------------------------\n",
    "\n",
    "Database queries can be launched in search engines. These queries may use specific operators, such as Boolean operators (see the [LibGuide at MIT Libraries](https://libguides.mit.edu/c.php?g=175963&p=1158594) for more information), as well as limiters that limit to a certain field or area of the record. No matter what, the query usually starts using some kind of search term included in the search string.\n",
    "\n",
    "### Search\n",
    "\n",
    "The ODLIS defines [search term](https://www.abc-clio.com/ODLIS/odlis_s.aspx#searchterm) in the following way: \n",
    "\n",
    "> [**search term**](https://www.abc-clio.com/ODLIS/odlis_s.aspx#searchterm)  \n",
    "> A word or [phrase](https://www.abc-clio.com/ODLIS/odlis_p.aspx#phrase) representing one of the main concepts in a [research](https://www.abc-clio.com/ODLIS/odlis_r.aspx#research) [topic](https://www.abc-clio.com/ODLIS/odlis_t.aspx#topic), used alone or in combination with other [terms](https://www.abc-clio.com/ODLIS/odlis_t.aspx#term) in a [search statement](https://www.abc-clio.com/ODLIS/odlis_s.aspx#searchstatement), to [query](https://www.abc-clio.com/ODLIS/odlis_q.aspx#query) an [online catalog](https://www.abc-clio.com/ODLIS/odlis_o.aspx#onlinecatalog), [bibliographic database](https://www.abc-clio.com/ODLIS/odlis_b.aspx#bibdatabase), or [search engine](https://www.abc-clio.com/ODLIS/odlis_s.aspx#searchengine) and [retrieve](https://www.abc-clio.com/ODLIS/odlis_i.aspx#inforetrieval) [relevant](https://www.abc-clio.com/ODLIS/odlis_r.aspx#relevance) [information](https://www.abc-clio.com/ODLIS/odlis_i.aspx#information). A search term can be a [keyword](https://www.abc-clio.com/ODLIS/odlis_jk.aspx#keywords) or phrase supplied by the user, an authorized [subject heading](https://www.abc-clio.com/ODLIS/odlis_s.aspx#subjectheading) or [descriptor](https://www.abc-clio.com/ODLIS/odlis_d.aspx#descriptor) selected from a prescribed list, or a word or phrase found in a [thesaurus](https://www.abc-clio.com/ODLIS/odlis_t.aspx#thesaurus), for example, _The Contemporary Thesaurus of Search Terms and Synonyms_ by Sara Knapp (Oryx, 2000).\n",
    "\n",
    "### Browse\n",
    "\n",
    "Searching often requires specific search terms in order to retrieve good results. Not everyone knows these terms (or what the desired results are) when starting out. Browse functionalities allow the user to be placed within a list of the results of a database search, and to investigate from there. As with _fields_, there are a number of definitions of _browse_ in LIS. Here's the relevant definition for browse in a database environment like a library catalog, from the ODLIS ([https://www.abc-clio.com/ODLIS/odlis\\_b.aspx#browse](https://www.abc-clio.com/ODLIS/odlis_b.aspx#browse)):\n",
    "\n",
    "> [**browse**](https://www.abc-clio.com/ODLIS/odlis_b.aspx#browse)  \n",
    "> In [information retrieval](https://www.abc-clio.com/ODLIS/odlis_i.aspx#inforetrieval), to conduct a directed search in a dynamic but casual way. A clearly formulated [query](https://www.abc-clio.com/ODLIS/odlis_q.aspx#query) may determine the initial point of entry into an index or [database](https://www.abc-clio.com/ODLIS/odlis_d.aspx#database), but searches that begin systematically often give way to an exploratory approach as new [terminology](https://www.abc-clio.com/ODLIS/odlis_t.aspx#terminology) is revealed by the results retrieved. Some [researchers](https://www.abc-clio.com/ODLIS/odlis_r.aspx#researcher) consider [printed](https://www.abc-clio.com/ODLIS/odlis_p.aspx#printing) indexes to be more [browsable](https://www.abc-clio.com/ODLIS/odlis_b.aspx#browsability) than electronic databases because [page](https://www.abc-clio.com/ODLIS/odlis_p.aspx#page) [format](https://www.abc-clio.com/ODLIS/odlis_f.aspx#format) allows the user to scan with ease the [heading](https://www.abc-clio.com/ODLIS/odlis_h.aspx#heading)s and [entries](https://www.abc-clio.com/ODLIS/odlis_e.aspx#entry) that precede and follow the initial [point of access](https://www.abc-clio.com/ODLIS/odlis_a.aspx#accesspoint).\n",
    "\n",
    "Is this what you generally mean when you say \"browse\"? If you are an avid user of Amazon, you probably do not think of browse in this way.\n",
    "\n",
    "Amazon is great at letting users browse results. Here's a page of snippets (almost like mini-surrogates) that show users some of the options associated with the query as launched ([click here](https://www.amazon.com/s?k=where+the+crawdads+sing&i=stripbooks&crid=AN4MHQCGSNUN&sprefix=where+the+cra%2Cstripbooks%2C189&ref=nb_sb_ss_i_1_13)). From this page, it is possible to limit further—to items available through Prime, to items with a certain number of star ratings, etc.\n",
    "\n",
    "#### **Next**\n",
    "\n",
    "_Searching and browsing are terms that can have a variety of meanings. The next page begins to zero in on the specifics of what is meant by each term in the context of IO/IR._"
   ]
  },
  {
   "cell_type": "code",
   "execution_count": null,
   "metadata": {},
   "outputs": [],
   "source": []
  }
 ],
 "metadata": {
  "kernelspec": {
   "display_name": "Python 3",
   "language": "python",
   "name": "python3"
  },
  "language_info": {
   "codemirror_mode": {
    "name": "ipython",
    "version": 3
   },
   "file_extension": ".py",
   "mimetype": "text/x-python",
   "name": "python",
   "nbconvert_exporter": "python",
   "pygments_lexer": "ipython3",
   "version": "3.8.5"
  }
 },
 "nbformat": 4,
 "nbformat_minor": 4
}
