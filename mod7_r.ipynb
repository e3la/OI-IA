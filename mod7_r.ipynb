{
  "nbformat": 4,
  "nbformat_minor": 0,
  "metadata": {
    "colab": {
      "name": "mod7-r.ipynb",
      "provenance": [],
      "authorship_tag": "ABX9TyOT5PpgkmF59j8DZXg1gire",
      "include_colab_link": true
    },
    "kernelspec": {
      "name": "python3",
      "display_name": "Python 3"
    }
  },
  "cells": [
    {
      "cell_type": "markdown",
      "metadata": {
        "id": "view-in-github",
        "colab_type": "text"
      },
      "source": [
        "<a href=\"https://colab.research.google.com/github/e3la/Organizing-Information-in-Information-Agencies/blob/master/mod7_r.ipynb\" target=\"_parent\"><img src=\"https://colab.research.google.com/assets/colab-badge.svg\" alt=\"Open In Colab\"/></a>"
      ]
    },
    {
      "cell_type": "markdown",
      "metadata": {
        "id": "GWkofSoF_bE2"
      },
      "source": [
        "Self Study: Metadata in Word Files\r\n",
        "==================================\r\n",
        "\r\n",
        "### ![](self-study-dark.png)  \r\n",
        "**Examples of Structural Metadata: Self-Study**\r\n",
        "\r\n",
        "The Word file that you submitted for the Short Paper assignment in this class contained loads of information about you. Did you know that? \r\n",
        "\r\n",
        "First, read the following post from Concordia University:\r\n",
        "\r\n",
        "> Concordia University-Portland. (n.d.). Scrub metadata from Word documents. [https://support.cu-portland.edu/hc/en-us/articles/360011611633-Scrub-metadata-from-Word-documents](https://support.cu-portland.edu/hc/en-us/articles/360011611633-Scrub-metadata-from-Word-documents)\r\n",
        "\r\n",
        "Now, open the file you submitted for the assignment. Take a look and discover the information available to your instructor, and potentially to all of your anonymous peer-reviewers.\r\n",
        "\r\n",
        "*   What metadata did you find in the file?\r\n",
        "*   Now that you know about this, what will you do in the future when you wish for documents to be completely anonymous?\r\n",
        "\r\n",
        "#### **Next**\r\n",
        "\r\n",
        "_This module concludes with a quick look and interoperability and  standards, with an exercise designed to get you to consider the variety of standards needed for shared metadata._"
      ]
    }
  ]
}