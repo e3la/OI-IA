{
  "nbformat": 4,
  "nbformat_minor": 0,
  "metadata": {
    "colab": {
      "name": "mod9-h-embedyoutube.ipynb",
      "provenance": [],
      "authorship_tag": "ABX9TyO9yUeZo479d3hn8ADQZdGx",
      "include_colab_link": true
    },
    "kernelspec": {
      "name": "python3",
      "display_name": "Python 3"
    },
    "language_info": {
      "name": "python"
    }
  },
  "cells": [
    {
      "cell_type": "markdown",
      "metadata": {
        "id": "view-in-github",
        "colab_type": "text"
      },
      "source": [
        "<a href=\"https://colab.research.google.com/github/e3la/Organizing-Information-in-Information-Agencies/blob/master/mod9_h_embedyoutube.ipynb\" target=\"_parent\"><img src=\"https://colab.research.google.com/assets/colab-badge.svg\" alt=\"Open In Colab\"/></a>"
      ]
    },
    {
      "cell_type": "markdown",
      "metadata": {
        "id": "-5ngys-gJuA9"
      },
      "source": [
        "Key Ideas in IO: Metadata Application Profiles\n",
        "==============================================\n",
        "\n",
        "Watch the following video by Karen Coyle about metadata application profiles. She defines the term in the video, so look there for everything you need to get started with this concept.\n",
        "\n",
        "**Content starts at 19:45 minutes. Jump to 21:40 to skip the host's introduction to the session.**\n",
        "\n",
        "https://youtu.be/hEOBRUcfApg?t=1183\n",
        "\n",
        "#### **Notes**\n",
        "\n",
        "*   **Focus on the ten minutes after 21:40 and summary at 56:10.**\n",
        "*   Coyle mentions data silos. Think of various library catalogs, digital libraries, digital repositories, etc. The information of these is siloed (remember back to the discussion of discovery services -- how do these play a role in silo-busting, do you think?). \n",
        "*   Even when multiple agencies adopt the same standard, local adaptations will lead to differences in what agencies do, so application profiles can help in these situations. They are a way to record choices related to the local application of metadata, can be used to develop a consensus about metadata, and tell consumers of the metadata what to expect.\n",
        "*   There is not a standard for application profiles. They will have different looks.\n",
        "\n",
        "#### **Next**\n",
        "\n",
        " _Application profiles are increasingly important in IO environments. The next page takes a closer look at application profiles along with other mechanisms to support interoperability._"
      ]
    }
  ]
}