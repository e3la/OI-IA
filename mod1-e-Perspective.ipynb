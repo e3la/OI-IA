{
 "cells": [
  {
   "cell_type": "markdown",
   "metadata": {},
   "source": [
    "# Perspectives on Information\n",
    "\n",
    "## Have You Ever Tried to Define _Information_?\n",
    "\n",
    "What does it really mean? Take a moment, grab a pen or a keyboard, and try to write up an explanation of what information is—or, if that's not so easy, what information is not.\n",
    "\n",
    "There's no quiz on this and you do not have to submit what you came up with (though you can!). The point is to think really deeply about information at the beginning of the semester, before we get too far in. Why? Because _information_ is what we're organizing, so we need to know what that is before we can continue.\n",
    "\n",
    "![Comma Rules - Better Writing Tips](http://www.better-writing-tips.com/wp-content/uploads/2013/06/play-pause.jpg)\n"
   ]
  },
  {
   "cell_type": "markdown",
   "metadata": {},
   "source": [
    "How did you do? Were you very satisfied with your response? If you found _information_ an elusive concept to define, you are not alone. And frankly, if you thought it was easy... there is a lot to consider in the readings this week that might make you ultimately change your mind.\n",
    "\n",
    "**What _IS_ Information?**\n",
    "--------------------------\n",
    "\n",
    "Ultimately, the question of what information is has challenged thinkers in the field of Library and Information Science for a long time! It is probably the defining question in LIS today—and its answer does not have much agreement, either, unfortunately.\n",
    "\n",
    "### Questions For Self-Study\n",
    "\n",
    "To help pin down what we mean by \"information,\" based on your knowledge of libraries, archives, and museums, identify one or two examples of things that might be collected in each of the following: a large research library (e.g., electronic access to a scholarly journal); a rural public library (e.g., a paperback novel); an archives (e.g., a handwritten manuscript); and a museum (e.g., a necklace from Imperial Russia).\n",
    "\n",
    "Make note of your answers:\n",
    "\n",
    "*   large research library\n",
    "*   rural public library\n",
    "*   archives\n",
    "*   museum\n",
    "\n",
    "Now, reflect on what is similar and what is different about each of these things. In what ways is each _information_? Is there a special or specialized user group for each? Could there be more than one user group? What background will the user group(s) have to have in order to get the most of the thing (e.g., specialized knowledge of a field), or is some basic interest in the item enough to begin learning. What about things that are for enjoyment, like the novel? Or arguably for some, the necklace?\n",
    "\n",
    "\n",
    "\n",
    "**Spend about five minutes on this.**\n"
   ]
  },
  {
   "cell_type": "code",
   "execution_count": 2,
   "metadata": {},
   "outputs": [
    {
     "ename": "NameError",
     "evalue": "name 'HTML' is not defined",
     "output_type": "error",
     "traceback": [
      "\u001b[1;31m---------------------------------------------------------------------------\u001b[0m",
      "\u001b[1;31mNameError\u001b[0m                                 Traceback (most recent call last)",
      "\u001b[1;32m<ipython-input-2-b2cd5b129111>\u001b[0m in \u001b[0;36m<module>\u001b[1;34m\u001b[0m\n\u001b[1;32m----> 1\u001b[1;33m \u001b[0mHTML\u001b[0m\u001b[1;33m(\u001b[0m\u001b[1;34m'<iframe width=\"560\" height=\"315\" src=\"https://www.youtube.com/embed/_W0bSen8Qjg?rel=0&amp;controls=0&amp;showinfo=0\" frameborder=\"0\" allowfullscreen></iframe>'\u001b[0m\u001b[1;33m)\u001b[0m\u001b[1;33m\u001b[0m\u001b[1;33m\u001b[0m\u001b[0m\n\u001b[0m",
      "\u001b[1;31mNameError\u001b[0m: name 'HTML' is not defined"
     ]
    }
   ],
   "source": [
    "HTML('<iframe width=\"560\" height=\"315\" src=\"https://www.youtube.com/embed/_W0bSen8Qjg?rel=0&amp;controls=0&amp;showinfo=0\" frameborder=\"0\" allowfullscreen></iframe>')"
   ]
  },
  {
   "cell_type": "markdown",
   "metadata": {},
   "source": [
    "You may have noticed we jumped from a discussion about \"information\" to a question about \"things.\" What is the connection? Michael Buckland (a GIANT in our field, and someone whose ideas have changed a bit throughout his career) stated in 1991 that there are three kinds of information (p. 351). This is taken from the next reading:\n",
    "\n",
    "![Information as Thing (Buckland, 1991)](https://missouri.instructure.com/courses/45003/files/7748371/download)\n",
    "\n",
    "#### _**Information-as-Thing**_\n",
    "\n",
    "In this class, we will be focusing on _information-as-thing_. The takeaway is that the information WE organize in this class is not only informative, it is also recorded. As such, it can be curated, selected, preserved, retrieved, evaluated, and any of a number of other things _information professionals_ do when working with _information resources_ to support their users.\n",
    "\n",
    "**Where Does _Information_ Fit In?**\n",
    "------------------------------------\n",
    "\n",
    "Recorded information is the purview of information professionals. We collect and organize instances of recorded information (or things that are informative), that will be useful to the users we serve—the focus is definitely on information resources, though we might also be working directly with an artifact that is, in and of itself, informative.\n",
    "\n",
    "The data-information-knowledge-wisdom (DIKW) hierarchy is one way to consider information's place in our lives.\n",
    "\n",
    "This example gives the four main aspects of the hierarchy as well as some ideas for how each might be interpreted in the real world. A number of criticisms of the DIKW hierarchy have been put forth, but for now, as we begin to consider what is covered in this class, it can serve as a useful point of departure.\n",
    "\n",
    "![Software Development: Relationship Between DIKW Hierarchy ](http://4.bp.blogspot.com/-121Js06FPac/VOwYkVGa6UI/AAAAAAAACFk/RHNQp1Je5T4/s1600/dikw.png)\n",
    "\n",
    "#### **Next**\n",
    "\n",
    "_This page introduced information from Buckland and about the DKIW hierarchy. The next two readings are the sources from which the information came._"
   ]
  }
 ],
 "metadata": {
  "kernelspec": {
   "display_name": "Python 3",
   "language": "python",
   "name": "python3"
  },
  "language_info": {
   "codemirror_mode": {
    "name": "ipython",
    "version": 3
   },
   "file_extension": ".py",
   "mimetype": "text/x-python",
   "name": "python",
   "nbconvert_exporter": "python",
   "pygments_lexer": "ipython3",
   "version": "3.8.5"
  }
 },
 "nbformat": 4,
 "nbformat_minor": 4
}
