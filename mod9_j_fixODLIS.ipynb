{
  "nbformat": 4,
  "nbformat_minor": 0,
  "metadata": {
    "colab": {
      "name": "mod9-j-fixODLIS.ipynb",
      "provenance": [],
      "authorship_tag": "ABX9TyOXDVeal7BP6FeuDar9tLLQ",
      "include_colab_link": true
    },
    "kernelspec": {
      "name": "python3",
      "display_name": "Python 3"
    },
    "language_info": {
      "name": "python"
    }
  },
  "cells": [
    {
      "cell_type": "markdown",
      "metadata": {
        "id": "view-in-github",
        "colab_type": "text"
      },
      "source": [
        "<a href=\"https://colab.research.google.com/github/e3la/Organizing-Information-in-Information-Agencies/blob/master/mod9_j_fixODLIS.ipynb\" target=\"_parent\"><img src=\"https://colab.research.google.com/assets/colab-badge.svg\" alt=\"Open In Colab\"/></a>"
      ]
    },
    {
      "cell_type": "markdown",
      "metadata": {
        "id": "FeRbOqhILTbN"
      },
      "source": [
        "Interoperability in Action: OAI-PMH\n",
        "===================================\n",
        "\n",
        "Digital libraries and other systems that aggregate metadata from other systems have been mentioned. How does this aggregation of metadata occur? One protocol that is used is the Open Archives Initiative (OAI) Protocol for Metadata Harvesting.  \n",
        "\n",
        "The ODLIS defines [OAI](https://products.abc-clio.com/ODLIS/odlis_o.aspx#oai%C2%A0) (of OAI-PMH) in the following way:\n",
        "\n",
        "> An organization funded by the [Digital Library Federation](https://products.abc-clio.com/ODLIS/odlis_d.aspx#dlf), the [Coalition for Networked Information](https://products.abc-clio.com/ODLIS/odlis_c.aspx#cni), and the [National Science Foundation](http://www.nsf.gov/) to develop and promote [interoperability](https://products.abc-clio.com/ODLIS/odlis_i.aspx#interoperability) [standards](https://products.abc-clio.com/ODLIS/odlis_s.aspx#standards) as a means of facilitating the exchange of [digital](https://products.abc-clio.com/ODLIS/odlis_d.aspx#digital) [information](https://products.abc-clio.com/ODLIS/odlis_i.aspx#information) [content](https://products.abc-clio.com/ODLIS/odlis_c.aspx#content). Its program originated in the desire to advance [scholarly communication](https://products.abc-clio.com/ODLIS/odlis_s.aspx#scholarlycommunication) by improving access to distributed [repositories](https://products.abc-clio.com/ODLIS/odlis_r.aspx#repository) of [e-print](https://products.abc-clio.com/ODLIS/odlis_e.aspx#eprint)s, known as \"[archive](https://products.abc-clio.com/ODLIS/odlis_d.aspx#digitalarchives)s.\" The main product of the OAI is a framework for [harvesting](https://products.abc-clio.com/ODLIS/odlis_h.aspx#harvesting) and aggregating [metadata](https://products.abc-clio.com/ODLIS/odlis_m.aspx#metadata) from multiple repositories and a harvesting [protocol](https://products.abc-clio.com/ODLIS/odlis_p.aspx#protocol) known as the [OAI Protocol for Metadata Harvesting (OAI-PMH)](http://www.openarchives.org/pmh/). [Click here](http://www.openarchives.org/) to learn more about OAI. **_See also_**: [open access](https://products.abc-clio.com/ODLIS/odlis_o.aspx#openaccess) and [Scholarly Publishing and Academic Resources Coalition](https://products.abc-clio.com/ODLIS/odlis_s.aspx#sparc).\n",
        "\n",
        "More about OAI-PMH from the [Open Archives Initiative Organization](https://www.openarchives.org/pmh/):\n",
        "\n",
        "> **Interoperability through Metadata Exchange**\n",
        "> \n",
        "> The Open Archives Initiative Protocol for Metadata Harvesting (OAI-PMH) is a low-barrier mechanism for repository interoperability. _Data Providers_ are repositories that expose structured metadata via OAI-PMH. _Service Providers_ then make OAI-PMH service requests to harvest that metadata. OAI-PMH is a set of six verbs or services that are invoked within HTTP.\n",
        "\n",
        "In plain English, this means that the settings in a digital library system are set to allow an outside system to access and harvest its metadata, which can then be added to or used by another system. OAI-PMH uses an automated process, allowing regular updates to harvested content.\n",
        "\n",
        "#### **Next**\n",
        "\n",
        "_The final design consideration to address here is the notion of how much metadata to include in the digital library—for the item, for the collection, etc. This will play a role in the metadata standards and software platforms that can be considered, and needs to be addressed in terms of the DL's user needs._"
      ]
    }
  ]
}