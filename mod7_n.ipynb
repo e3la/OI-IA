{
  "nbformat": 4,
  "nbformat_minor": 0,
  "metadata": {
    "colab": {
      "name": "mod7-n.ipynb",
      "provenance": [],
      "authorship_tag": "ABX9TyMoXloWE9xh0H02lCXqBCEK",
      "include_colab_link": true
    },
    "kernelspec": {
      "name": "python3",
      "display_name": "Python 3"
    }
  },
  "cells": [
    {
      "cell_type": "markdown",
      "metadata": {
        "id": "view-in-github",
        "colab_type": "text"
      },
      "source": [
        "<a href=\"https://colab.research.google.com/github/e3la/Organizing-Information-in-Information-Agencies/blob/master/mod7_n.ipynb\" target=\"_parent\"><img src=\"https://colab.research.google.com/assets/colab-badge.svg\" alt=\"Open In Colab\"/></a>"
      ]
    },
    {
      "cell_type": "markdown",
      "metadata": {
        "id": "lkVu0uxnv5HX"
      },
      "source": [
        "Key Standards in IO: XML\r\n",
        "========================\r\n",
        "\r\n",
        "Module 4 introduced the idea of standards, including encoding standards. MARC was presented as the quintessential standard used to organize library materials, and HTML was mentioned as an encoding standard used on the web. Are these the best tools for the job in information agencies? What problems have been identified, and how can they be addressed?\r\n",
        "\r\n",
        "**MARC Must Die**\r\n",
        "-----------------\r\n",
        "\r\n",
        "Way back in 2002 (that's a long time ago!), Roy Tennant published an article that rocked the IO library community. Take a moment to read it, and reflect on why libraries and other information agencies continue to use MARC anyway. \r\n",
        "\r\n",
        "> Tennant, R. (2002). MARC must die. _Library Journal, 127_(17). [https://www.libraryjournal.com/?detailStory=marc-must-die](https://www.libraryjournal.com/?detailStory=marc-must-die) (reprint); [http://soiscompsfall2007.pbworks.com/f/marc%20must%20die.pdf](http://soiscompsfall2007.pbworks.com/f/marc%20must%20die.pdf). \r\n",
        "\r\n",
        "Later Modules explore more thoroughly some of the proposed solutions (namely, linked data). For now, though, even if library catalogs still rely on MARC, digital library infrastructures, which are databases, primarily use XML to encode the metadata and resources they contain. All of this is behind the scenes, so it might be a very new idea to you.\r\n",
        "\r\n",
        "**What Is XML?**\r\n",
        "----------------\r\n",
        "\r\n",
        "Watch the following video: \r\n",
        "\r\n",
        "![](https://missouri.instructure.com/courses/49361/files/8633278/download)  \r\n",
        "Many students say they enjoy videos, but others learn better through reading. Information to supplement what you just learned is available in a short article/webpage on the W3Schools site: [https://www.w3schools.com/XML/xml\\_whatis.asp](https://www.w3schools.com/XML/xml_whatis.asp)\r\n",
        "\r\n",
        "Both of these resources (the video and the W3Schools page) point out that XML is extensible. This is how the information community is able to choose labels and tags to be used for their resources. \r\n",
        "\r\n",
        "#### **Next**\r\n",
        "\r\n",
        "_Next, we look to Dublin Core for some particulars._"
      ]
    }
  ]
}