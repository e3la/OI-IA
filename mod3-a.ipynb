{
 "cells": [
  {
   "cell_type": "markdown",
   "metadata": {},
   "source": [
    "# Welcome to Module 3. Organization in Information Agencies\n",
    "\n",
    "## Organization in Information Agencies\n",
    "\n",
    "Although the technology supporting storage and retrieval is important—and one could argue that it is essential in most information agencies these days—our users take center stage when we carry out processes in organizing information resources, and they have certain expectations about the resources, the way they can access them, and the technology in use.\n",
    "\n",
    "Fortunately, over the years, a number of principles have emerged from the practice. Not surprisingly, those practices will depend on the institutions in question, the users (who are different from institution to institution) and the kinds of resources being accessed. As a result, different kinds of information agencies take different approaches to organization. With the lesson on IR and retrieval systems and tools in mind, this Module aims to give a broad overview of organization in a number of different contexts.\n",
    "\n",
    "**![](objectives-icon.png)Learning Objectives**\n",
    "\n",
    "After completing this module, you will be able to:\n",
    "\n",
    "*   Understand the importance of IO in facilitating access to information resources in agencies such as libraries, archives, and museums (LAMs). \n",
    "*   Understand big-picture ideas, and systems and tools for organizing materials in LAM contexts, in a way that users can find and use them. \n",
    "\n",
    "**![](essential-questions-icon.png)Essential Questions**\n",
    "\n",
    "*   What are some important tools used for accessing different kinds of information, and why have these tools evolved as they have in the digital environment?\n",
    "*   Information takes many forms, and the institutions that organize and make available these resources are highly specialized in the service of their users. How do differences in the characteristics of different kinds of information resources affect their organization? And the expectations that users have in these environments? \n",
    "\n",
    "![](rationale-icon.png)\n",
    "\n",
    "**Rationale**\n",
    "-------------\n",
    "\n",
    "This Module focuses on some of the big-picture aspects of providing access to resources, and will review some of the important ideas from previous two Modules.  It also begins a deeper dive into some of the environments in which information professionals carry out their work—namely, library catalogs, but also contexts specific to archives and museums."
   ]
  },
  {
   "cell_type": "code",
   "execution_count": null,
   "metadata": {},
   "outputs": [],
   "source": []
  },
  {
   "cell_type": "code",
   "execution_count": null,
   "metadata": {},
   "outputs": [],
   "source": []
  }
 ],
 "metadata": {
  "kernelspec": {
   "display_name": "Python 3",
   "language": "python",
   "name": "python3"
  },
  "language_info": {
   "codemirror_mode": {
    "name": "ipython",
    "version": 3
   },
   "file_extension": ".py",
   "mimetype": "text/x-python",
   "name": "python",
   "nbconvert_exporter": "python",
   "pygments_lexer": "ipython3",
   "version": "3.8.5"
  }
 },
 "nbformat": 4,
 "nbformat_minor": 4
}
