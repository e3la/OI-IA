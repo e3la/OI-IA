{
  "nbformat": 4,
  "nbformat_minor": 0,
  "metadata": {
    "colab": {
      "name": "mod9-g.ipynb",
      "provenance": [],
      "authorship_tag": "ABX9TyOGbYJYYeazzCzuVv2tCkEL",
      "include_colab_link": true
    },
    "kernelspec": {
      "name": "python3",
      "display_name": "Python 3"
    },
    "language_info": {
      "name": "python"
    }
  },
  "cells": [
    {
      "cell_type": "markdown",
      "metadata": {
        "id": "view-in-github",
        "colab_type": "text"
      },
      "source": [
        "<a href=\"https://colab.research.google.com/github/e3la/Organizing-Information-in-Information-Agencies/blob/master/mod9_g.ipynb\" target=\"_parent\"><img src=\"https://colab.research.google.com/assets/colab-badge.svg\" alt=\"Open In Colab\"/></a>"
      ]
    },
    {
      "cell_type": "markdown",
      "metadata": {
        "id": "5vwbEpgaJT_1"
      },
      "source": [
        "\"Next Generation Repositories\" (COAR) and DL Design\n",
        "===================================================\n",
        "\n",
        "The previous Module noted the lack of agreed upon standards for the _design_ of online catalogs. COAR—the Confederation of Next Generation Repositories—is sponsoring an initiative to identify functionalities needed in improved repository systems.\n",
        "\n",
        "Take time to explore the COAR website and the companion Next Generation Repositories website.\n",
        "\n",
        "**COAR** — [https://www.coar-repositories.org/](https://www.coar-repositories.org/)\n",
        "\n",
        "*   While the site does not define \"repository,\" the focus on scholarly communication points to a focus on institutional and disciplinary research repositories. \n",
        "*   Metadata and vocabularies—[https://www.coar-repositories.org/news-updates/what-we-do/controlled-vocabularies/](https://www.coar-repositories.org/news-updates/what-we-do/controlled-vocabularies/)\n",
        "    *   Note the focus on metadata and controlled vocabularies! The FAQ on controlled vocabularies highlights the continuing value placed on the use of standardized terms.\n",
        "*   Explore the sections on the issues identified, including technical issues (research data management) and social (inclusion). \n",
        "\n",
        "**Next Generation Repositories** —[https://ngr.coar-repositories.org/](https://ngr.coar-repositories.org/)\n",
        "\n",
        "*   Review the content under each tab. You will see information about interoperability, user needs, preservation, and other concepts you have encountered in this course.\n",
        "*   User Stories: Identifying users and what they want to accomplish through scenarios or stories is a useful way to identify and prioritize needed functionality in a repository system. \n",
        "\n",
        "#### **Next**\n",
        "\n",
        "_If so many decisions are being made on a collection-by-collection level, then how do these systems ensure interoperability? The next page looks at application profiles, which are as important to digital libraries as they are/will be to online catalogs. A video will help explain application profiles in this context, after which this OER will explore some additional ideas in detail._"
      ]
    }
  ]
}