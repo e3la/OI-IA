{
  "nbformat": 4,
  "nbformat_minor": 0,
  "metadata": {
    "colab": {
      "name": "mod8-p.ipynb",
      "provenance": [],
      "authorship_tag": "ABX9TyM1PfkczBbVHRwmWpRg5cLw",
      "include_colab_link": true
    },
    "kernelspec": {
      "name": "python3",
      "display_name": "Python 3"
    }
  },
  "cells": [
    {
      "cell_type": "markdown",
      "metadata": {
        "id": "view-in-github",
        "colab_type": "text"
      },
      "source": [
        "<a href=\"https://colab.research.google.com/github/e3la/Organizing-Information-in-Information-Agencies/blob/master/mod8_p.ipynb\" target=\"_parent\"><img src=\"https://colab.research.google.com/assets/colab-badge.svg\" alt=\"Open In Colab\"/></a>"
      ]
    },
    {
      "cell_type": "markdown",
      "metadata": {
        "id": "Y3TgKxhHJKAN"
      },
      "source": [
        "Module 8. Further Study\r\n",
        "=======================\r\n",
        "\r\n",
        " **![](recommend-icon.png) For Further Study**\r\n",
        "=================================================================================================\r\n",
        "\r\n",
        "#### Self-Study\r\n",
        "\r\n",
        "> [Online Catalogs and Integrated Library Systems: Products](https://missouri.instructure.com/courses/49361/pages/online-catalogs-and-integrated-library-systems-products \"Online Catalogs and Integrated Library Systems: Products\")\r\n",
        "\r\n",
        "##### Notes\r\n",
        "\r\n",
        "*   Self-study opportunity: Explore online catalog systems on this [page.](https://missouri.instructure.com/courses/49361/pages/online-catalogs-and-integrated-library-systems-products?module_item_id=g85286c84bd3db9a162c7264f2f1b1ceb)  \r\n",
        "\r\n",
        "* * *\r\n",
        "\r\n",
        "#### Integrated Library Systems\r\n",
        "\r\n",
        "> Breeding, M. (2019, May 1). Library systems report 2019: Cycles of innovation. _American Libraries Magazine._ [https://americanlibrariesmagazine.org/2019/05/01/library-systems-report-2019/](https://americanlibrariesmagazine.org/2019/05/01/library-systems-report-2019/) \r\n",
        "> \r\n",
        "> Breeding, M. (2020, May 1). 2020 library systems report: Fresh opportunities amid consolidation. _American Libraries Magazine._ [https://americanlibrariesmagazine.org/2020/05/01/2020-library-systems-report/](https://americanlibrariesmagazine.org/2020/05/01/2020-library-systems-report/) \r\n",
        "\r\n",
        "##### Notes\r\n",
        "\r\n",
        "*   Breeding is the world’s preeminent expert in ILSs and discovery… Also a great writer and sought-after speaker. He worked for many years as a systems librarian at Vanderbilt University in Nashville, Tennessee, USA, but now spends his time exclusively on travel and speaking, etc.\r\n",
        "\r\n",
        "> Go through Marshall Breeding’s [_Library Technology Guides_](https://librarytechnology.org/)\r\n",
        "\r\n",
        "##### Notes\r\n",
        "\r\n",
        "*   Read anything of interest you find.\r\n",
        "\r\n",
        "* * *\r\n",
        "\r\n",
        "#### International Perspectives on Library Catalogs as Systems\r\n",
        "\r\n",
        "> Bianchini, C. (2017). \"It works like Google, right?\": First survey on the user-catalog interaction in the library of the Department of Musicology and Cultural hHeritage (Cremona) of Pavia University. _AIB Studi, 57_(1), [https://doi.org/10.2426/aibstudi-11557](https://doi.org/10.2426/aibstudi-11557)\r\n",
        "\r\n",
        "##### Notes\r\n",
        "\r\n",
        "*   No surprises, but still interesting: \"Results show that users of the library of the Department of musicology and cultural heritage prefer searches by a ‘Google like’ interface, that they search only known items, and that most used search data are author surname (21,9%), or author name and surname (21,9%), or author surname and a word from title (15,6%). \"\r\n",
        "\r\n",
        "* * *\r\n",
        "\r\n",
        "> Cabonero, D. A., Austria, R. M., Bayang, J. M. L. & Bumanghat, R. P. (2020). Knowledge, satisfaction and challenges on online public access catalog in an academic library in northern Philippines. _Library Philosophy and Practice, 3852._ [https://digitalcommons.unl.edu/libphilprac/3852/](https://digitalcommons.unl.edu/libphilprac/3852/)\r\n",
        "\r\n",
        "##### Notes\r\n",
        "\r\n",
        "*   \"Results revealed that students have low level of knowledge; slightly satisfied; and experienced challenges in using the OPAC.\"\r\n",
        "\r\n",
        "* * *\r\n",
        "\r\n",
        "> Courbieres, C., Roux, S. & Berthou, B. (2016). Towards augmented document: Expressive function of catalog. _Proceedings from the Document Academy,_ _3_(2), article 6. [https://ideaexchange.uakron.edu/docam/vol3/iss2/6/](https://ideaexchange.uakron.edu/docam/vol3/iss2/6/)\r\n",
        "\r\n",
        "##### Notes\r\n",
        "\r\n",
        "*   Advocates expanding the value of the OPAC by \"pool\\[ing\\] the resources associated with a given work.\" \r\n",
        "\r\n",
        "* * *\r\n",
        "\r\n",
        "> Kasimani, C. & Rajentran, N. (2019).  Use of online public access catalogue (OPAC) services in District Central Library, Chennai, (Tamilnadu). _Library Philosophy and Practice, 3016._ [https://digitalcommons.unl.edu/libphilprac/3016](https://digitalcommons.unl.edu/libphilprac/3016)\r\n",
        "\r\n",
        "##### Notes\r\n",
        "\r\n",
        "*   This study found that users found the OPAC to be the best way to find needed information. \r\n",
        "\r\n",
        "* * *\r\n",
        "\r\n",
        "> Nero, M.D., & He, J. (2018). Is it necessary: Quality control in cataloging? _International Journal of Librarianship, 3_(2), 85-95. [https://journal.calaijol.org/index.php/ijol/article/view/96/189](https://journal.calaijol.org/index.php/ijol/article/view/96/189)\r\n",
        "\r\n",
        "##### Notes\r\n",
        "\r\n",
        "*   While relevant to previous modules about metadata, this article fits with this module, also, in providing an overview of how library staff interact with the ILS."
      ]
    }
  ]
}