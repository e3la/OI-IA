{
  "nbformat": 4,
  "nbformat_minor": 0,
  "metadata": {
    "colab": {
      "name": "mod12-c-checkCambridgeDictionary-fixODLIS.ipynb",
      "provenance": [],
      "authorship_tag": "ABX9TyMsq0hk7cF/yN//JHPTKP7p",
      "include_colab_link": true
    },
    "kernelspec": {
      "name": "python3",
      "display_name": "Python 3"
    },
    "language_info": {
      "name": "python"
    }
  },
  "cells": [
    {
      "cell_type": "markdown",
      "metadata": {
        "id": "view-in-github",
        "colab_type": "text"
      },
      "source": [
        "<a href=\"https://colab.research.google.com/github/e3la/Organizing-Information-in-Information-Agencies/blob/master/mod12_c_checkCambridgeDictionary_fixODLIS.ipynb\" target=\"_parent\"><img src=\"https://colab.research.google.com/assets/colab-badge.svg\" alt=\"Open In Colab\"/></a>"
      ]
    },
    {
      "cell_type": "markdown",
      "metadata": {
        "id": "vTMyTLLCRDv8"
      },
      "source": [
        "IO as an Enterprise Fraught with Bias\n",
        "=====================================\n",
        "\n",
        "**What Is Bias? A Reprise**\n",
        "---------------------------\n",
        "\n",
        "In the information professions (as in the rest of the English language), _bias_ as a kind of preference can really mean two very closely-related things. The Cambridge Dictionary gives these definitions of [bias](https://dictionary.cambridge.org/us/dictionary/english/bias) in the context of preferences:\n",
        "\n",
        "> 1\\. the [action](https://dictionary.cambridge.org/us/dictionary/english/action \"action\") of [supporting](https://dictionary.cambridge.org/us/dictionary/english/supporting \"supporting\") or [opposing](https://dictionary.cambridge.org/us/dictionary/english/oppose \"opposing\") a [particular](https://dictionary.cambridge.org/us/dictionary/english/particular \"particular\") [person](https://dictionary.cambridge.org/us/dictionary/english/person \"person\") or thing in an [unfair](https://dictionary.cambridge.org/us/dictionary/english/unfair \"unfair\") way, because of [allowing](https://dictionary.cambridge.org/us/dictionary/english/allow \"allowing\") [personal](https://dictionary.cambridge.org/us/dictionary/english/personal \"personal\") [opinions](https://dictionary.cambridge.org/us/dictionary/english/opinion \"opinions\") to [influence](https://dictionary.cambridge.org/us/dictionary/english/influence \"influence\") [your](https://dictionary.cambridge.org/us/dictionary/english/your \"your\") [judgment](https://dictionary.cambridge.org/us/dictionary/english/judgment \"judgment\"):\n",
        "> \n",
        "> *   The [senator](https://dictionary.cambridge.org/us/dictionary/english/senator \"senator\") has [accused](https://dictionary.cambridge.org/us/dictionary/english/accused \"accused\") the [media](https://dictionary.cambridge.org/us/dictionary/english/media \"media\") of bias.\n",
        "> *   Reporters need to be [impartial](https://dictionary.cambridge.org/us/dictionary/english/impartial \"impartial\") and not show [political](https://dictionary.cambridge.org/us/dictionary/english/political \"political\") bias.\n",
        "> *   There was [clear](https://dictionary.cambridge.org/us/dictionary/english/clear \"clear\") [evidence](https://dictionary.cambridge.org/us/dictionary/english/evidence \"evidence\") of a [strong](https://dictionary.cambridge.org/us/dictionary/english/strong \"strong\") bias against her.\n",
        "> *   There has always been a [slight](https://dictionary.cambridge.org/us/dictionary/english/slight \"slight\") bias **in [favor](https://dictionary.cambridge.org/us/dictionary/english/favor \"favor\") of/toward** [employing](https://dictionary.cambridge.org/us/dictionary/english/employ \"employing\") [liberal](https://dictionary.cambridge.org/us/dictionary/english/liberal \"liberal\") [arts](https://dictionary.cambridge.org/us/dictionary/english/arts \"arts\") [graduates](https://dictionary.cambridge.org/us/dictionary/english/graduate \"graduates\") in the [company](https://dictionary.cambridge.org/us/dictionary/english/company \"company\").\n",
        "> *   **Unconscious** bias (= that the [person](https://dictionary.cambridge.org/us/dictionary/english/person \"person\") with the bias is not [aware](https://dictionary.cambridge.org/us/dictionary/english/aware \"aware\") of) can [influence](https://dictionary.cambridge.org/us/dictionary/english/influence \"influence\") [decisions](https://dictionary.cambridge.org/us/dictionary/english/decision \"decisions\") in [recruitment](https://dictionary.cambridge.org/us/dictionary/english/recruitment \"recruitment\"), [promotion](https://dictionary.cambridge.org/us/dictionary/english/promotion \"promotion\"), and [performance](https://dictionary.cambridge.org/us/dictionary/english/performance \"performance\") [management](https://dictionary.cambridge.org/us/dictionary/english/management \"management\").\n",
        "> \n",
        "> 2\\. the [fact](https://dictionary.cambridge.org/us/dictionary/english/fact \"fact\") of [preferring](https://dictionary.cambridge.org/us/dictionary/english/preferring \"preferring\") a [particular](https://dictionary.cambridge.org/us/dictionary/english/particular \"particular\") [subject](https://dictionary.cambridge.org/us/dictionary/english/subject \"subject\") or thing:\n",
        "> \n",
        "> She [showed](https://dictionary.cambridge.org/us/dictionary/english/show \"showed\") a [scientific](https://dictionary.cambridge.org/us/dictionary/english/scientific \"scientific\") bias at an early [age](https://dictionary.cambridge.org/us/dictionary/english/age \"age\").\n",
        "> \n",
        "> More examples\n",
        "> \n",
        "> *   The [radio](https://dictionary.cambridge.org/us/dictionary/english/radio \"radio\") [station](https://dictionary.cambridge.org/us/dictionary/english/station \"station\") was said to have a [strong](https://dictionary.cambridge.org/us/dictionary/english/strong \"strong\") [left-wing](https://dictionary.cambridge.org/us/dictionary/english/left-wing \"left-wing\") bias.\n",
        "> *   Have you [noticed](https://dictionary.cambridge.org/us/dictionary/english/notice \"noticed\") any bias in the [reporting](https://dictionary.cambridge.org/us/dictionary/english/reporting \"reporting\") of the [Middle](https://dictionary.cambridge.org/us/dictionary/english/midwest \"Middle\") [East](https://dictionary.cambridge.org/us/dictionary/english/east-coast \"East\") [situation](https://dictionary.cambridge.org/us/dictionary/english/situation \"situation\") in the [media](https://dictionary.cambridge.org/us/dictionary/english/media \"media\")?\n",
        "> *   There was a [clear](https://dictionary.cambridge.org/us/dictionary/english/clear \"clear\") [racial](https://dictionary.cambridge.org/us/dictionary/english/racial \"racial\") bias in the [selection](https://dictionary.cambridge.org/us/dictionary/english/selection \"selection\") of [candidates](https://dictionary.cambridge.org/us/dictionary/english/candidate \"candidates\").\n",
        "> *   The [teacher](https://dictionary.cambridge.org/us/dictionary/english/teacher \"teacher\") [seems](https://dictionary.cambridge.org/us/dictionary/english/seem \"seems\") to have a bias towards the [girls](https://dictionary.cambridge.org/us/dictionary/english/girl \"girls\") in her [class](https://dictionary.cambridge.org/us/dictionary/english/class \"class\").\n",
        "> *   This is a [clear](https://dictionary.cambridge.org/us/dictionary/english/clear \"clear\") [example](https://dictionary.cambridge.org/us/dictionary/english/example \"example\") of the bias [found](https://dictionary.cambridge.org/us/dictionary/english/found \"found\") in [historical](https://dictionary.cambridge.org/us/dictionary/english/historical \"historical\") [accounts](https://dictionary.cambridge.org/us/dictionary/english/accounts \"accounts\") of the [war](https://dictionary.cambridge.org/us/dictionary/english/war \"war\").\n",
        "\n",
        "Biases can be preferences, often (but not always) that are unfair or unjustified. \n",
        "\n",
        "The ODLIS definition of [bias](https://www.merriam-webster.com/dictionary/bias) describes primarily the first definition with the emphasis on the unfair perspective:\n",
        "\n",
        "> Judgment unfairly influenced by subjective opinion when the situation calls for reliance on objective fact. Bias exists even in [reference book](https://products.abc-clio.com/ODLIS/odlis_r.aspx#refbook)s (compare the [entries](https://products.abc-clio.com/ODLIS/odlis_e.aspx#entry) for \"Holocaust\" and \"Inquisition\" in the **_Encyclopedia Judaica_**, **_Encyclopedia of Religion_**, and **_New Catholic Encyclopedia_**). In publicly supported [libraries](https://products.abc-clio.com/ODLIS/odlis_l.aspx#library) in the United States, bias in employment practices is prohibited by law. **_See also_**: [affirmative action](https://products.abc-clio.com/ODLIS/odlis_a.aspx#affirmative) and [collection development bias](https://products.abc-clio.com/ODLIS/odlis_c.aspx#collecdevelbias).\n",
        "\n",
        "Intuitively, in IO, an objective system that is free from unfair bias will be the most ethical, and the most socially just.\n",
        "\n",
        "In IO, however, biases (not necessarily unjust biases, but rather preferences or ways of seeing the world) support grouping topics for the purposes of classification. Bias provides a point of view, and everyone has certain, innate biases—for organizing, for retrieval, and for the content being described and organized. Objective systems for IO cannot be imagined, but ethical ones most certainly can! \n",
        "\n",
        "In what other ways are bias, either fair or unfair, applied in information agencies and in information retrieval? How do systems play a role, and how does technology support or hinder just access to information?\n",
        "\n",
        "#### **Next**\n",
        "\n",
        "_Information agencies rely on web engines and other for-profit vendors of search technology. The next page introduces the idea of bias in web search engines through a short TED Talk video._"
      ]
    }
  ]
}