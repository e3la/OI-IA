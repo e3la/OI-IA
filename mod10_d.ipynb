{
  "nbformat": 4,
  "nbformat_minor": 0,
  "metadata": {
    "colab": {
      "name": "mod10-d.ipynb",
      "provenance": [],
      "authorship_tag": "ABX9TyMMWkhh1rTaDkN+IEiWXlb4",
      "include_colab_link": true
    },
    "kernelspec": {
      "name": "python3",
      "display_name": "Python 3"
    },
    "language_info": {
      "name": "python"
    }
  },
  "cells": [
    {
      "cell_type": "markdown",
      "metadata": {
        "id": "view-in-github",
        "colab_type": "text"
      },
      "source": [
        "<a href=\"https://colab.research.google.com/github/e3la/Organizing-Information-in-Information-Agencies/blob/master/mod10_d.ipynb\" target=\"_parent\"><img src=\"https://colab.research.google.com/assets/colab-badge.svg\" alt=\"Open In Colab\"/></a>"
      ]
    },
    {
      "cell_type": "markdown",
      "metadata": {
        "id": "6hLNzqp0Za_8"
      },
      "source": [
        "\"Norwegian Artist Names Authority List of Artists in Norwegian Art Collections\" (Brenden Hansen et al., 2019)\n",
        "=============================================================================================================\n",
        "\n",
        "The last two pages and resources studied focused on linked data as the instantiaton of the semantic web ideal. But how does this relate to libraries and cultural heritage institutions? \n",
        "\n",
        "The answer is that there are a surprising number of ways that linked data can be used in LAMs. Once data is published as linked data, it can be harvested by others, including by other LAMs. The following article describes work that was carried out using linked data datastores in Norway. \n",
        "\n",
        "> Brenden Hansen, Y., Hensten, D., Pedersen, G. B., & Bognerud, M. (2019). Norwegian artist names authority list of artists in Norwegian art collections. Heritage, 2(1), 490–506. [https://doi.org/10.3390/heritage2010033](https://doi.org/10.3390/heritage2010033) \n",
        "\n",
        "##### Notes\n",
        "\n",
        "*   You might not be familiar with COPE (Create Once, Publish Everywhere), but given what you know about 1) standards, 2) interoperability, and 3) cooperative initiatives to share work, how does this approach harmonize with work already being done in LAMs?\n",
        "*   What are the benefits and drawbacks to this particular experience as described? \n",
        "\n",
        "#### **Next**\n",
        "\n",
        "_Next, consider how linked data might be used in library catalogs._"
      ]
    }
  ]
}