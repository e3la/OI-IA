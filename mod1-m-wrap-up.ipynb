{
 "cells": [
  {
   "cell_type": "markdown",
   "metadata": {},
   "source": [
    "# Module 1. Wrap-Up\n",
    "\n",
    "![congrats-icon](congrats.png)  \n",
    "\n",
    "**Wrapping Up Perspectives on Information (and Its Organization)**\n",
    "\n",
    "This module looked at what information professionals mean by \"information\" and began to present ways in which they organize it for users. At the beginning of this module, you were asked to keep in mind these objectives.\n",
    "\n",
    "**![objectives-icon](objectives-icon.png)Learning Objectives**\n",
    "-------------------------------------------------------------------------------------------------\n",
    "\n",
    "Now that the module is over, ensure that you can:\n",
    "\n",
    "*   Understand what _information_ means in the context of the information professions.\n",
    "*   Understand basic ideas about organizing information in several professional environments."
   ]
  },
  {
   "cell_type": "code",
   "execution_count": null,
   "metadata": {},
   "outputs": [],
   "source": []
  }
 ],
 "metadata": {
  "kernelspec": {
   "display_name": "Python 3",
   "language": "python",
   "name": "python3"
  },
  "language_info": {
   "codemirror_mode": {
    "name": "ipython",
    "version": 3
   },
   "file_extension": ".py",
   "mimetype": "text/x-python",
   "name": "python",
   "nbconvert_exporter": "python",
   "pygments_lexer": "ipython3",
   "version": "3.8.5"
  }
 },
 "nbformat": 4,
 "nbformat_minor": 4
}
