{
  "nbformat": 4,
  "nbformat_minor": 0,
  "metadata": {
    "colab": {
      "name": "mod7-b.ipynb",
      "provenance": [],
      "authorship_tag": "ABX9TyObzfyQX2H3QT/i+FmAqCm6",
      "include_colab_link": true
    },
    "kernelspec": {
      "name": "python3",
      "display_name": "Python 3"
    }
  },
  "cells": [
    {
      "cell_type": "markdown",
      "metadata": {
        "id": "view-in-github",
        "colab_type": "text"
      },
      "source": [
        "<a href=\"https://colab.research.google.com/github/e3la/Organizing-Information-in-Information-Agencies/blob/master/mod7_b.ipynb\" target=\"_parent\"><img src=\"https://colab.research.google.com/assets/colab-badge.svg\" alt=\"Open In Colab\"/></a>"
      ]
    },
    {
      "cell_type": "markdown",
      "metadata": {
        "id": "vszwZHwUD7iE"
      },
      "source": [
        "Purposes of Metadata\r\n",
        "====================\r\n",
        "\r\n",
        "In the past two modules, the focus was on descriptive metadata. Moving into module 7 is a good time to take a step back and revisit the purpose of metadata. \r\n",
        "\r\n",
        "**Metadata and Its Many Purposes**\r\n",
        "----------------------------------\r\n",
        "\r\n",
        "Metadata can describe a number of aspects of a resource.\r\n",
        "\r\n",
        "Metadata does not have to be formatted as a surrogate that someone creates about a resource.\r\n",
        "\r\n",
        "In fact, metadata is somewhat all-purpose, and there are a lot of folks, not just information professionals, who use metadata extensively!\r\n",
        "\r\n",
        "The image in Figure 1 is a graphic from the U.S. Fish and Wildlife Services National Wetlands Inventory website. In this site, data about wetlands is made available for those interested in understanding more. It includes cartographic data, and also information about kinds and counts of different flora and fauna. Researchers studying these topics can visit the site to search for data they need for their work. \r\n",
        "\r\n",
        "But, to ensure the findability of the data and its long-term accessibility and usability, metadata needs to be available.  For example, information about rare and endangered animals hunted for prey might not be made publicly available in an attempt to discourage poaching. Who can access and use what data, and what restrictions exist?  Rights metadata can help with that purpose. \r\n",
        "\r\n",
        "**Figure 1 [U.S. Fish and Wildlife Service's (Links to an external site.)](https://www.fws.gov/) Purposes of Metadata**\r\n",
        "\r\n",
        "[![U.S. Fish & Wildlife: Purpose of Metadata](https://missouri.instructure.com/courses/49361/files/8633277/preview)](https://www.fws.gov/wetlands/data/metadata.html)\r\n",
        "\r\n",
        "_Note._ Retrieved February 19, 2020, from [https://www.fws.gov/wetlands/data/metadata.html. (Links to an external site.)](https://www.fws.gov/wetlands/data/metadata.html)\r\n",
        "\r\n",
        "In thinking about metadata in a broad way, ask yourself how each of these purposes might tie into the notions of IO discussed so far in this class. \r\n",
        "\r\n",
        "*   **Information Retrieval and Dissemination:** Finding a data file (or any other resource) in a retrieval tool is essentially impossible without the help of metadata. Search is enabled (primarily, but not exclusively) by descriptive metadata in a system, and metadata allows that resource to be retrieved from the location where it is stored, and metadata provides enough information about the format that the resource can be used.\r\n",
        "*   **Resource Description:** Users of the retrieval system can learn enough about the nature and contents of the resource to know it if will be relevant, or at least to know if it is worth investigating. \r\n",
        "*   **Preservation and Retention:** Preserving content, especially digital files, requires knowledge of the file itself, plus (especially for sensitive information) whether the file can be shared, whether it is current, when it can or should be destroyed, etc.\r\n",
        "    *   Think about your transcripts—institutions of higher education are required to maintain them indefinitely. \r\n",
        "    *   Think about your personal information relating to your student status—that information might not need to be maintained indefinitely.\r\n",
        "*   **Managing Users:** Not everyone has access to everything in a system. Content behind a firewall might be \"members only\" or only accessible my those with a certain status or login. Metadata about the sensitivity of a resource can support access by the correct users.\r\n",
        "*   **Ownership and Rights Management:** Digital files might be accessible by users, but not reusable by them. Including information about rights helps users know what can be done with a resource. \r\n",
        "\r\n",
        "The purposes identified by the U.S. Fish and Wildlife Services are the purposes they find important to bring forth in organizing geographic data (e.g., digital maps).\r\n",
        "\r\n",
        "Information agencies are similar in the purposes they have for creating and maintaining metadata for the resources they steward. Compare the purposes identified by the U.S. Fish and Wildlife Services with what you have learned about metadata so far. To support the purposes an organization might have for creating and maintaining metadata, different kinds of metadata can be identified.\r\n",
        "\r\n",
        "#### **Next**\r\n",
        "\r\n",
        "_The next page revisits the discussion of what metadata is and how it can support the many purposes an information agency might have._"
      ]
    }
  ]
}