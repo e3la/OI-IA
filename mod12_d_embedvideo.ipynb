{
  "nbformat": 4,
  "nbformat_minor": 0,
  "metadata": {
    "colab": {
      "name": "mod12-d-embedvideo.ipynb",
      "provenance": [],
      "authorship_tag": "ABX9TyO5PA16oKQMUXE/OjSU65a6",
      "include_colab_link": true
    },
    "kernelspec": {
      "name": "python3",
      "display_name": "Python 3"
    },
    "language_info": {
      "name": "python"
    }
  },
  "cells": [
    {
      "cell_type": "markdown",
      "metadata": {
        "id": "view-in-github",
        "colab_type": "text"
      },
      "source": [
        "<a href=\"https://colab.research.google.com/github/e3la/Organizing-Information-in-Information-Agencies/blob/master/mod12_d_embedvideo.ipynb\" target=\"_parent\"><img src=\"https://colab.research.google.com/assets/colab-badge.svg\" alt=\"Open In Colab\"/></a>"
      ]
    },
    {
      "cell_type": "markdown",
      "metadata": {
        "id": "vTMyTLLCRDv8"
      },
      "source": [
        "Bias in Web Search Engines\n",
        "==========================\n",
        "\n",
        "Start by watching this TED Talk by Andreas Ekström about the problem of bias. In this case, Ekström is talking about Google, the web search engine. As students of IO, though, you know that all retrieval systems have some kind of \"search engine\" meaning that they are all potentially subject to these same kinds of bias.  \n",
        "https://www.ted.com/talks/andreas_ekstrom_the_moral_bias_behind_your_search_results\n",
        "\n",
        "#### Notes\n",
        "\n",
        "*   Ekström tells a powerful tale—in this case, applied to Google. In the case of information agencies, it also applies to the vendors that are used.\n",
        "*   At the very end, Ekström states: \"You need to identify your own personal bias. You need to understand that you are human and take responsibility accordingly. \\[...\\] And, if nothing else, to remind us that that wonderfully seductive idea of the unbiased, clean search result is, and is likely to remain, a myth.\"\n",
        "*   How do your own biases play in to how you think you seek information? How can you ensure that you use metadata effectively as an information professional to provide the best possible service to your clients and users?\n",
        "\n",
        "#### **Next**\n",
        "\n",
        "_Consider bias in retrieval systems._"
      ]
    }
  ]
}