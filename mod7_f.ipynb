{
  "nbformat": 4,
  "nbformat_minor": 0,
  "metadata": {
    "colab": {
      "name": "mod7-f.ipynb",
      "provenance": [],
      "authorship_tag": "ABX9TyO8AuE3psLj3QQyFwgmPmdS",
      "include_colab_link": true
    },
    "kernelspec": {
      "name": "python3",
      "display_name": "Python 3"
    }
  },
  "cells": [
    {
      "cell_type": "markdown",
      "metadata": {
        "id": "view-in-github",
        "colab_type": "text"
      },
      "source": [
        "<a href=\"https://colab.research.google.com/github/e3la/Organizing-Information-in-Information-Agencies/blob/master/mod7_f.ipynb\" target=\"_parent\"><img src=\"https://colab.research.google.com/assets/colab-badge.svg\" alt=\"Open In Colab\"/></a>"
      ]
    },
    {
      "cell_type": "markdown",
      "metadata": {
        "id": "3pUZGs56VVRZ"
      },
      "source": [
        "\\\\\r\n",
        "\r\n",
        "\"Recommended Formats Statements\" (LOC, 2020)\r\n",
        "============================================\r\n",
        "\r\n",
        "The Library of Congress site, \"Recommended Formats Statements,\" will help you appreciate the complexity of the information that may be included in technical metadata.\r\n",
        "\r\n",
        "> [https://www.loc.gov/preservation/resources/rfs/](https://www.loc.gov/preservation/resources/rfs/) \r\n",
        "\r\n",
        "#### Notes\r\n",
        "\r\n",
        "*   Browse through a few of the pages for different types of formats.\r\n",
        "*   See the menu near the top that lists format types (e.g., Textual Works).\r\n",
        "*   Not only is the information presented here complex, some of the pages point users to additional resources to be consulted in describing that format.\r\n",
        "\r\n",
        "#### **Next**\r\n",
        "\r\n",
        "_Another kind of administrative metadata, preservation metadata, will be explored._"
      ]
    }
  ]
}