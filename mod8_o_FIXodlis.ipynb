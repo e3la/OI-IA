{
  "nbformat": 4,
  "nbformat_minor": 0,
  "metadata": {
    "colab": {
      "name": "mod8-o-FIXodlis.ipynb",
      "provenance": [],
      "authorship_tag": "ABX9TyNoJsupne+LQEBGC4zPFOEq",
      "include_colab_link": true
    },
    "kernelspec": {
      "name": "python3",
      "display_name": "Python 3"
    }
  },
  "cells": [
    {
      "cell_type": "markdown",
      "metadata": {
        "id": "view-in-github",
        "colab_type": "text"
      },
      "source": [
        "<a href=\"https://colab.research.google.com/github/e3la/Organizing-Information-in-Information-Agencies/blob/master/mod8_o_FIXodlis.ipynb\" target=\"_parent\"><img src=\"https://colab.research.google.com/assets/colab-badge.svg\" alt=\"Open In Colab\"/></a>"
      ]
    },
    {
      "cell_type": "code",
      "metadata": {
        "id": "Cf_eMsL0IfWY"
      },
      "source": [
        ""
      ],
      "execution_count": null,
      "outputs": []
    },
    {
      "cell_type": "markdown",
      "metadata": {
        "id": "zS1ED3rAIf_O"
      },
      "source": [
        "Key Ideas in IO: Cooperative Cataloging\r\n",
        "=======================================\r\n",
        "\r\n",
        "**Sources of Bibliographic Records**\r\n",
        "------------------------------------\r\n",
        "\r\n",
        "Q: What are the sources of the bibliographic records in library catalogs?\r\n",
        "\r\n",
        "A: Bibliographic records may be a) imported from another source one-by-one, b) created in-house as original records, or c) added in batches, often with the help of a vendor.\r\n",
        "\r\n",
        "One of the benefits of adhering to library practices is the ability to share bibliographic records, enabling a) and c) above. Cooperative cataloging (or _shared_ cataloging) is one primary way this happens in the information community. The ODLIS definition of [cooperative cataloging](https://products.abc-clio.com/ODLIS/odlis_c.aspx#cooperativecat)\r\n",
        "\r\n",
        "begins\r\n",
        "\r\n",
        "> An arrangement in which a [library](https://products.abc-clio.com/ODLIS/odlis_l.aspx#library) or [library system](https://products.abc-clio.com/ODLIS/odlis_l.aspx#librarysystem) agrees to follow established [cataloging](https://products.abc-clio.com/ODLIS/odlis_c.aspx#cataloging) practices and work in [automated](https://products.abc-clio.com/ODLIS/odlis_l.aspx#libautomation) systems or utilities that facilitate the creation of [bibliographic](https://products.abc-clio.com/ODLIS/odlis_b.aspx#bibrecord) and [authority record](https://products.abc-clio.com/ODLIS/odlis_a.aspx#authorityrecord)s in a form that can be shared with other libraries.\r\n",
        "\r\n",
        "Standards allow for established cataloging practices to be followed, making shared cataloging possible.\r\n",
        "\r\n",
        "Common scenarios can depend on the nature of the resource, and they include:\r\n",
        "\r\n",
        "*   For tangible materials\r\n",
        "    *   Library orders and receives single items. These may be books or monographs, videos, journal titles, etc. When received, catalogers add a bibliographic record to the library catalog. The bibliographic record may be imported from a [bibliographic utility](https://dictionary.archivists.org/entry/bibliographic-utility.html) such as WorldCat. If a matching record is not found, the cataloger will create an original record.\r\n",
        "    *   In the same scenario as above, library orders and receives single monographs. Rather than cataloging each item in house, the library contracts with a vendor to provide bibliographic records. WorldCat is one such vendor, with its [cataloging partner](https://help.oclc.org/Metadata_Services/WorldShare_Collection_Manager/Choose_your_Collection_Manager_workflow/Use_Collection_Manager_for_content_from_a_specific_provider/Material_providers_for_cataloging_partner_collections) program. Bibliographic records are received in conjunction with the library resources.\r\n",
        "*   For online resources\r\n",
        "    *   Libraries often subscribe to online resources in packages. For example, Academic Search Premier in a package from EBSCO and includes about 7,000 journal titles. The vendor may provide bibliographic records or the library may purchase the bibliographic records from another vendor. Large libraries may even purchase one set of records for all the online titles in different packages. \r\n",
        "\r\n",
        "_Bibliographic utilities_ are one principal way this sharing takes place behind the scenes; records are created and then held in a bibliographic utility so that members of that group can access them as needed.\r\n",
        "\r\n",
        "**What Is a Bibliographic Utility?**\r\n",
        "------------------------------------\r\n",
        "\r\n",
        "The ODLIS defines [bibliographic utilitiy](https://products.abc-clio.com/ODLIS/odlis_b.aspx#bibutility) as\r\n",
        "\r\n",
        "> An organization that provides [access](https://products.abc-clio.com/ODLIS/odlis_a.aspx#access) to and support for [bibliographic database](https://products.abc-clio.com/ODLIS/odlis_b.aspx#bibdatabase)s directly to member [libraries](https://products.abc-clio.com/ODLIS/odlis_l.aspx#library) or through a [network](https://products.abc-clio.com/ODLIS/odlis_n.aspx#network) of regional [bibliographic service center](https://products.abc-clio.com/ODLIS/odlis_b.aspx#bibservice)s, usually via a [proprietary](https://products.abc-clio.com/ODLIS/odlis_p.aspx#proprietary) [interface](https://products.abc-clio.com/ODLIS/odlis_i.aspx#interface). Relying on [machine-readable cataloging](https://products.abc-clio.com/ODLIS/odlis_m.aspx#machinecat) provided by the [Library of Congress](https://products.abc-clio.com/ODLIS/odlis_l.aspx#lc), the major bibliographic utilities offer [software](https://products.abc-clio.com/ODLIS/odlis_s.aspx#software) for [download](https://products.abc-clio.com/ODLIS/odlis_d.aspx#download)ing, editing, and local [record](https://products.abc-clio.com/ODLIS/odlis_b.aspx#bibrecord) creation; [authority control](https://products.abc-clio.com/ODLIS/odlis_a.aspx#authoritycontrol) utilizing the Library of Congress [authority file](https://products.abc-clio.com/ODLIS/odlis_a.aspx#authorityfile)s; and services to facilitate [interlibrary loan](https://products.abc-clio.com/ODLIS/odlis_i.aspx#interlibrary) based on [holdings](https://products.abc-clio.com/ODLIS/odlis_h.aspx#holdings) [information](https://products.abc-clio.com/ODLIS/odlis_i.aspx#information) included in each record. The largest bibliographic utilities in North America are [OCLC](https://products.abc-clio.com/ODLIS/odlis_o.aspx#oclc) and [A-G Canada Ltd.](https://products.abc-clio.com/ODLIS/odlis_a.aspx#agcanada)\r\n",
        "\r\n",
        "From this definition, you can see that bibliographic utilities allow libraries to work cooperatively to catalog resources. As long as all the libraries in the group are using the same standards, or as long as it is clear which standards they are using, sharing is very, very possible. Sharing records in one centralized location allows for efficiencies, a win-win all around! \r\n",
        "\r\n",
        "**WorldCat: A Bibliographic Utility**\r\n",
        "-------------------------------------\r\n",
        "\r\n",
        "OCLC's WorldCat is a bibliographic utility with member organizations from around the world. The [Inside WorldCat](https://www.oclc.org/en/worldcat/inside-worldcat.html) page gives historical information and statistics. As of July 2020, WorldCat had 494,998,740 bibliographic records, representing 483 languages!\r\n",
        "\r\n",
        "A strength of the WorldCat bibliographic database is the cooperative nature of its content. Member libraries add records for unique materials. That record is then available for use by other libraries that acquire the resource. \r\n",
        "\r\n",
        "WorldCat has been a resounding success in streamlining work and creating efficiencies for libraries.\r\n",
        "\r\n",
        "**Z39.50**\r\n",
        "----------\r\n",
        "\r\n",
        "Another standard that is used in cataloging is [Z39.50](https://products.abc-clio.com/ODLIS/odlis_xyz.aspx#z39). The ODLIS defines Z39.50 as \r\n",
        "\r\n",
        "> A [client-server](https://products.abc-clio.com/ODLIS/odlis_c.aspx#clientserver) [protocol](https://products.abc-clio.com/ODLIS/odlis_p.aspx#protocol) established as a [NISO](https://products.abc-clio.com/ODLIS/odlis_n.aspx#niso) [standard](https://products.abc-clio.com/ODLIS/odlis_s.aspx#standards) that allows the computer user to [query](https://products.abc-clio.com/ODLIS/odlis_q.aspx#query) a remote [information retrieval](https://products.abc-clio.com/ODLIS/odlis_i.aspx#inforetrieval) system using the [software](https://products.abc-clio.com/ODLIS/odlis_s.aspx#software) of the local system and receive results in the [format](https://products.abc-clio.com/ODLIS/odlis_f.aspx#format) of the local system, often used in portal and gateway products to [search](https://products.abc-clio.com/ODLIS/odlis_s.aspx#search) several sources simultaneously and integrate the results. [Click here](http://www.loc.gov/z3950/agency/) to connect to the [Web page](https://products.abc-clio.com/ODLIS/odlis_w.aspx#webpage) on Z39.50 maintained by the [Network Development & MARC Standards Office](http://www.loc.gov/marc/ndmso.html) of the [Library of Congress](https://products.abc-clio.com/ODLIS/odlis_l.aspx#lc).\r\n",
        "\r\n",
        "What does this mean? If a catalog system uses Z39.50, it is possible to search other Z39.50-enabled catalogs, and to download the records they contain. This saves my library the cost of cataloging a book if I can find a record for it in another catalog.\r\n",
        "\r\n",
        "This is the standard used to import records from WorldCat into local catalogs ([https://help.oclc.org/Metadata\\_Services/Z3950\\_Cataloging](https://help.oclc.org/Metadata_Services/Z3950_Cataloging))\r\n",
        "\r\n",
        "**LibraryThing as a Social, Shared Catalog**\r\n",
        "--------------------------------------------\r\n",
        "\r\n",
        "[LibraryThing](https://www.librarything.com/) is an example of a shared online catalog -- a _shared_ catalog is different from a bibliographic utility like WorldCat. What does this mean in practice? A difference between how LibraryThing works and how WorldCat generally works is that LibraryThing users create their collections in LibraryThing. WorldCat, instead, is a clearinghouse for MARC records, records that libraries download if they acquire the resource. (Most libraries do not use WorldCat as their online catalog, though that is an [option](https://www.oclc.org/en/worldshare-management-services.html). Instead they export bibliographic records from WorldCat and add them to a local system.)\r\n",
        "\r\n",
        "How does LibraryThing work? Individuals and organizations may create accounts and use LibraryThing to catalog their books and movies. LibraryThing records are imported from various sources and also are added by the community. If you want to keep track of your collection of materials, you can create an account, find records for books you have, and add them to your LibraryThing collection (aka library). If you do not find a matching record, you can add one manually. More information: [LibraryThing FAQ](https://wiki.librarything.com/index.php/Adding_and_importing_books).\r\n",
        "\r\n",
        "Cooperative cataloging in libraries predates LibraryThing by decades, but the idea is similar. Libraries create and share bibliographic records in a number of ways. One library adds a bibliographic record for an information resource to a shared catalog system. When other libraries acquire the same information resource, they use that record and do not need to create a record from scratch.\r\n",
        "\r\n",
        "#### **Next**\r\n",
        "\r\n",
        "_Further studies. You have looked at library systems, online catalogs, OPACs, ILSs, discovery systems, and cooperative cataloging. How will these systems and/or practices affect your work in the information professions? Take some time to explore the resources on the next page or do some research on your own._"
      ]
    }
  ]
}