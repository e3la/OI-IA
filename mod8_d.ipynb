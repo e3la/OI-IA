{
  "nbformat": 4,
  "nbformat_minor": 0,
  "metadata": {
    "colab": {
      "name": "mod8-d.ipynb",
      "provenance": [],
      "authorship_tag": "ABX9TyP8nJu6yZ1EyaxdyR541Gpb",
      "include_colab_link": true
    },
    "kernelspec": {
      "name": "python3",
      "display_name": "Python 3"
    }
  },
  "cells": [
    {
      "cell_type": "markdown",
      "metadata": {
        "id": "view-in-github",
        "colab_type": "text"
      },
      "source": [
        "<a href=\"https://colab.research.google.com/github/e3la/Organizing-Information-in-Information-Agencies/blob/master/mod8_d.ipynb\" target=\"_parent\"><img src=\"https://colab.research.google.com/assets/colab-badge.svg\" alt=\"Open In Colab\"/></a>"
      ]
    },
    {
      "cell_type": "markdown",
      "metadata": {
        "id": "2RaFX0MjzJlj"
      },
      "source": [
        "Online Catalogs: Their Content\r\n",
        "==============================\r\n",
        "\r\n",
        "Library catalogs, past and current, include bibliographic records for the library resources owned by the library, including:\r\n",
        "\r\n",
        "*   Books\r\n",
        "*   Journals and magazines\r\n",
        "*   Videos\r\n",
        "*   Maps\r\n",
        "*   Sound recordings\r\n",
        "*   Manuscripts\r\n",
        "*   Microforms\r\n",
        "\r\n",
        "\r\n",
        "Typically, library catalogs do not include bibliographic records for articles. That has been the domain of:\r\n",
        "\r\n",
        "*   Print indexes, such as Reader's Guide and PAIS.\r\n",
        "*   Online databases, such as Academic Search Complete and Library Literature & Information Science Full Text.\r\n",
        "\r\n",
        "**Online Resources: Subscriptions Rather than Ownership**\r\n",
        "---------------------------------------------------------\r\n",
        "\r\n",
        "With the advent of online resources, many online catalogs include bibliographic records of the electronic counterparts to the tangible resources in the online catalog. Libraries often subscribe to some of the online resources; they do not own the content, but have access to it for as long as the subscription is held. This prompted a shift in the content of online catalogs, from material owned to material subscribed to. As soon as a subscription ceases, the records are removed from the catalog.\r\n",
        "\r\n",
        "#### **Next**\r\n",
        "\r\n",
        "_This OER has already considered what the_ content _of the online catalog should include (including the principles guiding the development and application of content standards in the digital age:_ [The Statement of International Cataloging Principles (ICP) 2016](https://www.ifla.org/publications/node/11015)_. But what about the online catalogs themselves?_ _On to another IFLA document about OPACs with recommendations for their functionality._"
      ]
    }
  ]
}