{
  "nbformat": 4,
  "nbformat_minor": 0,
  "metadata": {
    "colab": {
      "name": "mod12-a.ipynb",
      "provenance": [],
      "authorship_tag": "ABX9TyNtYrWwvSSeTRgKCVMqYTL8",
      "include_colab_link": true
    },
    "kernelspec": {
      "name": "python3",
      "display_name": "Python 3"
    },
    "language_info": {
      "name": "python"
    }
  },
  "cells": [
    {
      "cell_type": "markdown",
      "metadata": {
        "id": "view-in-github",
        "colab_type": "text"
      },
      "source": [
        "<a href=\"https://colab.research.google.com/github/e3la/Organizing-Information-in-Information-Agencies/blob/master/mod12_a.ipynb\" target=\"_parent\"><img src=\"https://colab.research.google.com/assets/colab-badge.svg\" alt=\"Open In Colab\"/></a>"
      ]
    },
    {
      "cell_type": "markdown",
      "metadata": {
        "id": "vTMyTLLCRDv8"
      },
      "source": [
        "Welcome to Module 12. For-Profit Information Systems\n",
        "====================================================\n",
        "\n",
        "The last module in part III looked at IO outside of the non-profit sector. This module, the first in part IV of the OER, is a continuation of the look at information and how it is made available through for-profit systems. \n",
        "\n",
        "If you are unfamiliar with the line \"If you're not paying, you're the product,\" please stop and take a moment to look through the results of a Duck Duck Go search for the line: [https://duckduckgo.com/?q=if+you%27re+not+paying+you+are+the+product&ia=web](https://duckduckgo.com/?q=if+you%27re+not+paying+you+are+the+product&ia=web) You will see that, although there is some push-back, the idea has taken hold: when using \"free\" web-based technology platforms like Google, Twitter, and Facebook, you are the product, because these companies are collecting data on you and selling it to stay in business. Thus, you might think you are the consumer of a free product (the information you find there), but instead, your data is the product these platforms are selling to advertisers and others. \n",
        "\n",
        "Given the rhetoric around these ideas, what must IO professionals keep in mind when working with for-profit systems, including ones in information agencies?\n",
        "\n",
        "**![](https://missouri.instructure.com/courses/49361/files/8633283/download)Learning Objectives**\n",
        "-------------------------------------------------------------------------------------------------\n",
        "\n",
        "After completing this module, you will be able to:\n",
        "\n",
        "*   Identify for-profit information providers and commercial discovery systems and the role they play in information discovery in LAMs and for users of LAMs.\n",
        "*   Describe biases that may occur in these retrieval systems and limitations in terms of results stemming from the for-profit agency's use of metadata.\n",
        "\n",
        "**![](https://missouri.instructure.com/courses/49361/files/8633254/download)Essential Questions**\n",
        "-------------------------------------------------------------------------------------------------\n",
        "\n",
        "*   The first step to understanding the role and function of for-profit information systems is to understand how they work, how they use and create data and metadata, and how this affects IO, users, and search. How can understanding these concerns lead to more fruitful interactions with these platforms?\n",
        "*   What do end-users need to keep in mind about these systems? (end-users can be individuals, library systems, etc.)\n",
        "*   What are issues with recommender systems?\n",
        "*   What are the advantages of a system based on AI? What are the advantages of a system based on user rankings or ratings?\n",
        "\n",
        "![](https://missouri.instructure.com/courses/49361/files/8633221/download)\n",
        "\n",
        "**Rationale**\n",
        "-------------\n",
        "\n",
        "Information professionals take seriously the ethical engagement that professional associations like ALA require. What are options for information professionals when using for-profit systems that do not necessarily play by the same rules? The first step to using them intelligently is to begin to understand how they function. That is exactly what this Module will point you toward."
      ]
    }
  ]
}