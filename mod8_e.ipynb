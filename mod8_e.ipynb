{
  "nbformat": 4,
  "nbformat_minor": 0,
  "metadata": {
    "colab": {
      "name": "mod8-e.ipynb",
      "provenance": [],
      "authorship_tag": "ABX9TyNCKzRp/kv2/O2A6BNrIV9t",
      "include_colab_link": true
    },
    "kernelspec": {
      "name": "python3",
      "display_name": "Python 3"
    }
  },
  "cells": [
    {
      "cell_type": "markdown",
      "metadata": {
        "id": "view-in-github",
        "colab_type": "text"
      },
      "source": [
        "<a href=\"https://colab.research.google.com/github/e3la/Organizing-Information-in-Information-Agencies/blob/master/mod8_e.ipynb\" target=\"_parent\"><img src=\"https://colab.research.google.com/assets/colab-badge.svg\" alt=\"Open In Colab\"/></a>"
      ]
    },
    {
      "cell_type": "markdown",
      "metadata": {
        "id": "jj7OGo15J9hM"
      },
      "source": [
        "\"Guidelines for Online Public Access Catalogue (OPAC) Displays\" (IFLA, 2003 draft)\r\n",
        "==================================================================================\r\n",
        "\r\n",
        "> IFLA Task Force on Guidelines for OPAC Displays. (2003, September 30). Guidelines for online public access catalogue (OPAC) displays. (Draft). IFLA. [https://archive.ifla.org/VII/s13/guide/opacguide03.pdf](https://archive.ifla.org/VII/s13/guide/opacguide03.pdf) \r\n",
        "\r\n",
        "#### Notes\r\n",
        "\r\n",
        "*   The final version of this document was published in 2005. That version is available for purchase, but this earlier draft is freely available on the web. \r\n",
        "*   Although LAMs have agreed-upon standards for metadata and encoding standards, there are not such standards for the design or online catalogs. Perhaps this is due in part to many large online catalogs systems being commercially produced, with vendors competing for a market share.\r\n",
        "*   In this document:\r\n",
        "    *   Note the members of the **Task Force and Commentators** listed on pages 2–4. This is an international group and they represent various user communities.\r\n",
        "    *   **Functions of the Catalogue.** Page 8f. You will recognize the ideas presented here.\r\n",
        "    *   **Principles.** Pages 10–11. IMPORTANT! And still relevant\r\n",
        "    *   **Recommendations.** Pages 11–32. Read through these. They are still relevant for today's online catalogs.\r\n",
        "*   Since this was published by IFLA, the spelling of \"catalogue\" is appropriate. In the United States, use the following spellings, unless you are transcribing information that uses the variant spelling: catalog, cataloging, cataloger.\r\n",
        "\r\n",
        "#### **Next**\r\n",
        "\r\n",
        "_An interesting article follows which identifies several problems with OPACs. You will have the opportunity to compare the problems identified to the desired functions you just read about in these guidelines after that, so keep this PDF open on your desktop as you work._"
      ]
    }
  ]
}