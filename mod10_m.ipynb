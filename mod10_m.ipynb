{
  "nbformat": 4,
  "nbformat_minor": 0,
  "metadata": {
    "colab": {
      "name": "mod10-m.ipynb",
      "provenance": [],
      "authorship_tag": "ABX9TyOnqoc0Yc2iyDMzlvRjDkrp",
      "include_colab_link": true
    },
    "kernelspec": {
      "name": "python3",
      "display_name": "Python 3"
    },
    "language_info": {
      "name": "python"
    }
  },
  "cells": [
    {
      "cell_type": "markdown",
      "metadata": {
        "id": "view-in-github",
        "colab_type": "text"
      },
      "source": [
        "<a href=\"https://colab.research.google.com/github/e3la/Organizing-Information-in-Information-Agencies/blob/master/mod10_m.ipynb\" target=\"_parent\"><img src=\"https://colab.research.google.com/assets/colab-badge.svg\" alt=\"Open In Colab\"/></a>"
      ]
    },
    {
      "cell_type": "markdown",
      "metadata": {
        "id": "6pk-m3GhHc0y"
      },
      "source": [
        "Self Study: Deutsche Digitale Bibliothek (Digital Library Website)\n",
        "==================================================================\n",
        "\n",
        "Take five minutes to look through the Deutsche Digitale Bibliothek (DDB; German Digital Library) as a self-study exercise.\n",
        "\n",
        "Use the entry for Margaret Atwood as an entry point into the DDB: [https://www.deutsche-digitale-bibliothek.de/person/gnd/118646168](https://www.deutsche-digitale-bibliothek.de/person/gnd/118646168)\n",
        "\n",
        "*   The DDB uses linked open data in its webpages. The source of some of the content on this page is explicit. E.g., the source of the photograph is indicated as being, \"Wikimedia Commons\" and the URL takes the user to that source. \n",
        "*   Note the other sources of data listed in the column on the right.\n",
        "\n",
        "The website includes information on the metadata format used in the DDB:\n",
        "\n",
        "*   [https://www.deutsche-digitale-bibliothek.de/content/ueber-uns/fragen-antworten#5264](https://www.deutsche-digitale-bibliothek.de/content/ueber-uns/fragen-antworten#5264)\n",
        "*   Note that the model used is based on linked-data principles.\n",
        "\n",
        "#### **Next**\n",
        "\n",
        "_A fun look at data sources for linked data applications._"
      ]
    }
  ]
}