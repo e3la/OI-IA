{
  "nbformat": 4,
  "nbformat_minor": 0,
  "metadata": {
    "colab": {
      "name": "mod8-a.ipynb",
      "provenance": [],
      "authorship_tag": "ABX9TyMdR0C+4umi3wO6JEmzhCsF",
      "include_colab_link": true
    },
    "kernelspec": {
      "name": "python3",
      "display_name": "Python 3"
    }
  },
  "cells": [
    {
      "cell_type": "markdown",
      "metadata": {
        "id": "view-in-github",
        "colab_type": "text"
      },
      "source": [
        "<a href=\"https://colab.research.google.com/github/e3la/Organizing-Information-in-Information-Agencies/blob/master/mod8_a.ipynb\" target=\"_parent\"><img src=\"https://colab.research.google.com/assets/colab-badge.svg\" alt=\"Open In Colab\"/></a>"
      ]
    },
    {
      "cell_type": "code",
      "metadata": {
        "id": "rbGRk1G_xS_A"
      },
      "source": [
        ""
      ],
      "execution_count": null,
      "outputs": []
    },
    {
      "cell_type": "markdown",
      "metadata": {
        "id": "ila6-HMMxcY1"
      },
      "source": [
        "Welcome to Module 8. Systems and System Design: Catalogs\r\n",
        "========================================================\r\n",
        "\r\n",
        "Systems and System Design: Catalogs\r\n",
        "===================================\r\n",
        "\r\n",
        "Welcome to the first Module in Part III of this OER. In the learning objectives for Part III, you saw that the technology used in the information professions is known as “systems” and it relies on databases, specialized search engines, and encoded information. You have learned a bit about each of these in Parts I and II—generally from the perspective of the end-user.\r\n",
        "\r\n",
        "In this Part, you will be invited to start thinking much more actively about these systems _from the perspective of the information professional_. What IO decisions need to be made for content to be stored and discovered? Retrieved and used? Now that you understand a bit about the standards and practices, how can that knowledge be deepened? This Module focuses on online library catalogs, the quintessential library \"systems.\"\r\n",
        "\r\n",
        "**Learning Objectives**\r\n",
        "-------------------------------------------------------------------------------------------------\r\n",
        "\r\n",
        "After completing this module, you will be able to:\r\n",
        "\r\n",
        "*   Define IO terms related to online catalogs and system design. \r\n",
        "*   Identify design and functionality components of online catalogs.\r\n",
        "*   Describe user needs in the context of designing an online catalog.\r\n",
        "*   Relate the LRM user tasks to the basic functional requirements for an online catalog.\r\n",
        "\r\n",
        "**Essential Questions**\r\n",
        "-------------------------------------------------------------------------------------------------\r\n",
        "\r\n",
        "*   What is the place of online catalogs in the discovery of library materials?\r\n",
        "*   What design features enhance usability of online catalogs?\r\n",
        "*   What online public access catalogs (OPACs) features best support the five LRM user tasks?\r\n",
        "*   How do OPAC design, metadata quality, and the accuracy of encoding mesh to support discovery? \r\n",
        "*   What design features enhance usability of online catalogs?\r\n",
        "\r\n",
        "\r\n",
        "**Rationale**\r\n",
        "-------------\r\n",
        "\r\n",
        "Library catalogs continue to be the primary system which provides an inventory of materials held by libraries and provides discovery of those materials by library users. Understanding the functionality and the customizable features of online catalogs will enable IO professionals with information necessary for engaging in work related to system design, setting metadata priorities, and providing instruction that will enable users to use information retrieval systems."
      ]
    }
  ]
}