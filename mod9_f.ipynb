{
  "nbformat": 4,
  "nbformat_minor": 0,
  "metadata": {
    "colab": {
      "name": "mod9-f.ipynb",
      "provenance": [],
      "authorship_tag": "ABX9TyMc/TCPxSOAtQqyDcA1iYCb",
      "include_colab_link": true
    },
    "kernelspec": {
      "name": "python3",
      "display_name": "Python 3"
    },
    "language_info": {
      "name": "python"
    }
  },
  "cells": [
    {
      "cell_type": "markdown",
      "metadata": {
        "id": "view-in-github",
        "colab_type": "text"
      },
      "source": [
        "<a href=\"https://colab.research.google.com/github/e3la/Organizing-Information-in-Information-Agencies/blob/master/mod9_f.ipynb\" target=\"_parent\"><img src=\"https://colab.research.google.com/assets/colab-badge.svg\" alt=\"Open In Colab\"/></a>"
      ]
    },
    {
      "cell_type": "markdown",
      "metadata": {
        "id": "ic0hR5rvJEhQ"
      },
      "source": [
        "Digital Library Metadata Decisions\n",
        "==================================\n",
        "\n",
        "Digital librarians and metadata librarians adhere to standards when creating their collections, but they also have a fair number of decisions to make.\n",
        "\n",
        "This is different from cataloging librarians. Why? Cataloging librarians very rarely make design decisions related to the metadata standards to adopt (e.g., KOSs to use or content standards to apply). Most librarians arrive when the library is already well established, and metadata decisions have been made and practices are already in place. These librarians will need to evaluate online catalog software packages and make design decisions regarding search and display, as explained in Module 8. And, they can certainly decide to revisit decisions about metadata standards. For example, local practice may have evolved that does not adhere to international standards. Cataloging librarians may decide to adjust local practice. In more extreme situations, they might decide to move from using DDC to LCC, from Sears Subject Headings to LCSH, or something else. \n",
        "\n",
        "Generally, however, catalogers are using MARC for encoding, the current standards for description (e.g., RDA) and one of only one or two KOSs. \n",
        "\n",
        "**Digital Libraries and the Wild West of Metadata**\n",
        "---------------------------------------------------\n",
        "\n",
        "Digital librarians, on the other hand, are often making fundamental decisions regarding the metadata and the system design for **each new collection they receive**. They are also deciding about systems and display, standards, interoperability, and more.\n",
        "\n",
        "When information professionals add digital items to their collections, they take on an impressive responsibility. Rhonda Marker, a cataloger at Rutgers University, used to say \"There are many ways to catalog correctly.\" Truer words have never been spoken! It is eminently possible to be an excellent cataloger and to work within the strictures of the rules, creating elegant and accurate bibliographic records in the process. \n",
        "\n",
        "With digital libraries, however, there are not only many ways to apply IO principles correctly, there are also many standards, systems, and practices that can be correct! This module looks at many of them, and describes some of the exciting decisions that digital librarians make when workign with digital content and its metadata. \n",
        "\n",
        "#### **Next**\n",
        "\n",
        "_What guidance is available for design decisions in digital libraries? Next, COAR is explored as a way to promote best practices in digital library (DL) design._"
      ]
    }
  ]
}