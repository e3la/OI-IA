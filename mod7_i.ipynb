{
  "nbformat": 4,
  "nbformat_minor": 0,
  "metadata": {
    "colab": {
      "name": "mod7-i.ipynb",
      "provenance": [],
      "authorship_tag": "ABX9TyPuODyUTbS7hOKTUZumA4sN",
      "include_colab_link": true
    },
    "kernelspec": {
      "name": "python3",
      "display_name": "Python 3"
    }
  },
  "cells": [
    {
      "cell_type": "markdown",
      "metadata": {
        "id": "view-in-github",
        "colab_type": "text"
      },
      "source": [
        "<a href=\"https://colab.research.google.com/github/e3la/Organizing-Information-in-Information-Agencies/blob/master/mod7_i.ipynb\" target=\"_parent\"><img src=\"https://colab.research.google.com/assets/colab-badge.svg\" alt=\"Open In Colab\"/></a>"
      ]
    },
    {
      "cell_type": "markdown",
      "metadata": {
        "id": "B-Jm4bYCcyOH"
      },
      "source": [
        "\"Preservation Metadata\" (Council of State Archivists, 2020)\r\n",
        "===========================================================\r\n",
        "\r\n",
        "> Council of State Archivists. (2020). Preservation metadata. [https://www.statearchivists.org/electronic-records/serp-framework/preservation-metadata](https://www.statearchivists.org/electronic-records/serp-framework/preservation-metadata)\r\n",
        "\r\n",
        "#### Notes\r\n",
        "\r\n",
        "*   You will want to read through this entire page. It gives conditions that can be used to evaluate the inclusion of preservation metadata. \r\n",
        "*   An important concept for some digital objects is the \"chain of custody.\" Documenting the actions taken on a digital file can reveal whether the current file is the original file or is an authentic representation of the original.  \r\n",
        "*   This site (SERP Framework) is packed with really good information about how preservation works in information systems. \r\n",
        "\r\n",
        "#### **Next**\r\n",
        "\r\n",
        "_Having access to a resource that has been properly preserved is great. But can it be used? Read next about rights metadata and how information about use can be recorded._"
      ]
    }
  ]
}