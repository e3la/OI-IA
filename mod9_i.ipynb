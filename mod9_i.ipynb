{
  "nbformat": 4,
  "nbformat_minor": 0,
  "metadata": {
    "colab": {
      "name": "mod9-i.ipynb",
      "provenance": [],
      "authorship_tag": "ABX9TyOu0gNPiCDk4vTG6J8ATOzl",
      "include_colab_link": true
    },
    "kernelspec": {
      "name": "python3",
      "display_name": "Python 3"
    },
    "language_info": {
      "name": "python"
    }
  },
  "cells": [
    {
      "cell_type": "markdown",
      "metadata": {
        "id": "view-in-github",
        "colab_type": "text"
      },
      "source": [
        "<a href=\"https://colab.research.google.com/github/e3la/Organizing-Information-in-Information-Agencies/blob/master/mod9_i.ipynb\" target=\"_parent\"><img src=\"https://colab.research.google.com/assets/colab-badge.svg\" alt=\"Open In Colab\"/></a>"
      ]
    },
    {
      "cell_type": "markdown",
      "metadata": {
        "id": "fFD0uLMMKr7F"
      },
      "source": [
        "Key Ideas in IO: Managing Metadata: APs, Registries, and Crosswalks\n",
        "===================================================================\n",
        "\n",
        "**Metadata Application Profiles**\n",
        "\n",
        "From the past few Modules, you have seen firsthand how complex metadata and metadata standards can be. These complexities are enhanced when information agencies want to share metadata or have their metadata harvested by a third party, including sources like [SHARE (Links to an external site.)](https://www.share-research.org/) and Google Scholar. Interoperability is improved when the use of standards is documented. A metadata application profile (MAP) documents the metadata guidelines for an institution or community.\n",
        "\n",
        "The Getty metadata book's glossary (Baca, 2016) defines [application profile (Links to an external site.)](http://www.getty.edu/publications/intrometadata/glossary/#application) in the following way:\n",
        "\n",
        "> A set of metadata elements, policies, and guidelines defined for a particular application or community. The elements may be from one or more element sets, thus allowing a given application to meet its functional requirements by using metadata from several element sets, including locally defined elements.\n",
        "\n",
        "### **Examples**\n",
        "\n",
        "*   **BIBCO Standard Record (BSR) RDA Metadata Application Profile**\n",
        "    *   [https://www.loc.gov/aba/pcc/bibco/documents/PCC-RDA-BSR.pdf (Links to an external site.)](https://www.loc.gov/aba/pcc/bibco/documents/PCC-RDA-BSR.pdf)\n",
        "    *   Developed by members of the Program for Cooperative Cataloging.\n",
        "    *   Rather than being an original set of guidelines, this application profile interprets the cataloging guidelines in RDA (Resource Description and Access) and is focused on monographic cataloging in libraries.\n",
        "    *   Note that there are field by field instructions that indicate what fields should be used and how the content should be entered. \n",
        "*   **Metadata Submission Guidelines for UC Shared Images Hosted by ARTstor**\n",
        "    *   [https://cdlib.org/wp-content/uploads/2009/04/msg\\_ucsi.pdf (Links to an external site.)](https://cdlib.org/wp-content/uploads/2009/04/msg_ucsi.pdf)\n",
        "    *   The introduction includes information on the purpose of the guidelines, which are true for all application profiles: \"Metadata that is consistent with other collection records across UC institutions as well as with other ARTstor collections will improve the integration and discoverability of our records within the ARTstor system. In addition, sufficiently rich metadata provides greater context for a work. Therefore, these guidelines seek to ensure that records contributed to UC Shared Images provide a predictable level of documentation and are as consistent as possible across collections.\" (p. 6)\n",
        "    *   The standard these guidelines are based on is ARTstor Core.\n",
        "\n",
        "**Metadata Registries**\n",
        "-----------------------\n",
        "\n",
        "One way to ensure that metadata can be understood outside of the context in which it was created is through the creation of metadata registries. As an example, the RDA Registry lists [controlled vocabularies (Links to an external site.)](http://www.rdaregistry.info/termList/) used in RDA cataloging.\n",
        "\n",
        "**Crosswalks**\n",
        "--------------\n",
        "\n",
        "The Getty book on metadata (Baca, 2016) defines [crosswalk (Links to an external site.)](http://www.getty.edu/publications/intrometadata/glossary/#crosswalk)s in the following way:\n",
        "\n",
        "> _Also_ called [field mapping (Links to an external site.)](http://www.getty.edu/publications/intrometadata/glossary/#field_mapping). A chart or table (visual or virtual) that represents the semantic or technical mapping of fields or data elements from one data standard to fields or data elements in another standard that has a similar function or meaning. Crosswalks make it possible to convert data between databases that use different metadata schemes and enable heterogeneous databases to be searched simultaneously with a single query as if they were a single database (semantic interoperability). _See also_ [metadata mapping (Links to an external site.)](http://www.getty.edu/publications/intrometadata/glossary/#metadata_mapping).\n",
        "\n",
        "#### Example of crosswalks between different metadata encoding schemes\n",
        "\n",
        "*   University of Texas Libraries: [https://guides.lib.utexas.edu/metadata-basics/crosswalks (Links to an external site.)](https://guides.lib.utexas.edu/metadata-basics/crosswalks)\n",
        "\n",
        "#### **Next**\n",
        "\n",
        "_Standards and best practices support interoperability. The next page focuses on the protocol used for sharing content in digital library environments._\n",
        "\n",
        "* * *\n",
        "\n",
        "#### Reference\n",
        "\n",
        "Baca, M. (Ed.). (2016). _Introduction to metadata_ (3rd ed.). Getty Research Institute. [http://www.getty.edu/publications/intrometadata (Links to an external site.)](http://www.getty.edu/publications/intrometadata)"
      ]
    }
  ]
}