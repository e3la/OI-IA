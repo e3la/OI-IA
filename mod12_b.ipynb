{
  "nbformat": 4,
  "nbformat_minor": 0,
  "metadata": {
    "colab": {
      "name": "mod12-b.ipynb",
      "provenance": [],
      "authorship_tag": "ABX9TyN0fz0pzbGF3V0/a6Gt1Gmr",
      "include_colab_link": true
    },
    "kernelspec": {
      "name": "python3",
      "display_name": "Python 3"
    },
    "language_info": {
      "name": "python"
    }
  },
  "cells": [
    {
      "cell_type": "markdown",
      "metadata": {
        "id": "view-in-github",
        "colab_type": "text"
      },
      "source": [
        "<a href=\"https://colab.research.google.com/github/e3la/Organizing-Information-in-Information-Agencies/blob/master/mod12_b.ipynb\" target=\"_parent\"><img src=\"https://colab.research.google.com/assets/colab-badge.svg\" alt=\"Open In Colab\"/></a>"
      ]
    },
    {
      "cell_type": "markdown",
      "metadata": {
        "id": "vTMyTLLCRDv8"
      },
      "source": [
        "Interactions with resources (Petras et al., 2016)—TDO Chapter 10\n",
        "================================================================\n",
        "\n",
        "To kick off this last and final part of this OER, take a moment to revisit why IO takes place: To support _USERS_ finding _CONTENT_.\n",
        "\n",
        "Read the following chapter from TDO to come back to this foundational concept, and to situate the reading you will do in the rest of this Module:\n",
        "\n",
        "> Petras, V., Glushko, R. J., MacFarland, I., Nomorosa, K. J., Ekaterin, J. J. M., Park, H., Perry, R., & Marimpietri, S. (2016). Interactions with resources. In R. J. Glushko (Ed.), _The discipline of organizing_ (4th ed., Professional ed., pp. 517–558). MIT Press. [https://ischools.org/resources/Documents/Discipline%20of%20organizing/Professional/TDO4-Prof-CC-Chapter10.pdf](https://ischools.org/resources/Documents/Discipline%20of%20organizing/Professional/TDO4-Prof-CC-Chapter10.pdf)\n",
        "\n",
        "#### Notes\n",
        "\n",
        "*   This chapter highlights the idea that information professionals are creating systems and tools for interactions.\n",
        "*   Read this as a review of concepts related to search and retrieval, and as groundwork for the upcoming readings about biases in the search process. \n",
        "*   A search is not a one-time event. It is generally an iterative process:\n",
        "    *   To learn more about this idea, see [Marcia J. Bates](https://en.wikipedia.org/wiki/Marcia_J._Bates)'s classic article likening human information behavior and information seeking to berry picking: [https://pages.gseis.ucla.edu/faculty/bates/berrypicking.html](https://pages.gseis.ucla.edu/faculty/bates/berrypicking.html). \n",
        "*   This chapter in TDO reiterates the purpose of why information professionals organize: to promote a variety of interactions. This will set the stage for thinking of all the ways this enterprise can be fraught.\n",
        "*   A quote, that will be useful to keep in mind as you read about biases in systems (consider the impact of both):\n",
        "    *   Designers of organizing systems must recognize that people are not perfectly capable and rational decision makers. Limited memory and attention capacities  \n",
        "        prevent people from remembering everything and make them unable to consider more than a few things or choices at once. (p. 524) \n",
        "\n",
        "#### **Next**\n",
        "\n",
        "_What is bias? How is bias considered in IO in LAMs?_"
      ]
    }
  ]
}