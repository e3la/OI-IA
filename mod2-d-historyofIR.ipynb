{
 "cells": [
  {
   "cell_type": "markdown",
   "metadata": {},
   "source": [
    "# \"History of Information Retrieval\" (American Society of Indexers, n.d.)\n",
    "\n",
    "Take a look at the page, \"History of Information Retrieval,\" maintained by the American Society of Indexers. \n",
    "\n",
    "> American Society of Indexers (n.d.). History of information retrieval. [https://www.asindexing.org/about-indexing/history-of-information-retrieval/](https://www.asindexing.org/about-indexing/history-of-information-retrieval/)\n",
    "\n",
    "Are you familiar with the kinds of retrieval tools mentioned? Have you ever given thought to them in a systematic way? Some overarching notes are below, followed by notes on the specific retrieval tools mentioned in the article. \n",
    "\n",
    "#### Notes\n",
    "\n",
    "*   This page, presented by the American Society of Indexers (ASI) examines the early history of retrieval tools used to organize information.\n",
    "*   Professional indexers are, like librarians and archivists, information professionals interested in providing access to information through the use of tools which follow standards.\n",
    "\n",
    "### ![](archive-icon-dark.png)  \n",
    "**Notes on the Retrieval Tools Mentioned**\n",
    "\n",
    "##### Table of Contents\n",
    "\n",
    "*   The transition from the scroll to the codex allowed for other advances. The table of contents (TOC)  was one of them.\n",
    "*   A tool for retrieving information within the information resource (similar to  back of the book index), the history of the TOC can be traced to the first century CE.\n",
    "\n",
    "##### Alphabetization\n",
    "\n",
    "*   Likewise, the alphabet first had to be invented, and then applied… before someone took the initiative to group and arrange words based on the first letter of the word.\n",
    "*   This entry in this history mentions a book by Lloyd Daly; another source for learning more about how the alphabet was first standardized is Fredrick Bodmer's classic text from 1968 entitled _The Loom of Language_.\n",
    "\n",
    "##### Hierarchies of information, also called Headings\n",
    "\n",
    "*   Organization within texts also was invented.\n",
    "*   Today, levels of headings in a text are governed by the style guide in use. APA requires headings and has specific requirements for their font and placement on the page: [https://apastyle.apa.org/style-grammar-guidelines/paper-format/headings](https://apastyle.apa.org/style-grammar-guidelines/paper-format/headings).\n",
    "\n",
    "##### Indexes\n",
    "\n",
    "*   Finally, the various types of \"indexes\" had to be invented—two are relevant to this history.\n",
    "\n",
    "1.  1.  The first kind of **index** mentioned is one that describes the materials in a collection. This is similar to the index of scientific articles that were published annually.\n",
    "    2.  The second is the back-of-the-book **index**, currently found in the back of printed scholarly book.\n",
    "\n",
    "*   Much more about indexes, that all information professionals should know, is available in the Wikipedia page for indexing [https://en.wikipedia.org/wiki/Index\\_(publishing)](https://en.wikipedia.org/wiki/Index_(publishing))\n",
    "*   Finally, take a look at Janet Perlman's page on professional indexing: (https://www.asindexing.org/about-indexing/be-an-indexer/)[https://www.asindexing.org/about-indexing/be-an-indexer/](https://www.asindexing.org/about-indexing/be-an-indexer/)\n",
    "\n",
    "#### **Next**\n",
    "\n",
    "_This page looked at a number of historical retrieval tools. Many of them were probably very familiar, even if you do not tend to think of them as retrieval tools. In the next page, you will continue reading about retrieval tools -- this time, an article focusing on retrieval tools used in modern libraries._\n",
    "\n",
    "* * *\n",
    "\n",
    "#### Reference\n",
    "\n",
    "Bodmer, F. (1968). _The loom of language_. Allen & Unwin."
   ]
  },
  {
   "cell_type": "code",
   "execution_count": null,
   "metadata": {},
   "outputs": [],
   "source": []
  }
 ],
 "metadata": {
  "kernelspec": {
   "display_name": "Python 3",
   "language": "python",
   "name": "python3"
  },
  "language_info": {
   "codemirror_mode": {
    "name": "ipython",
    "version": 3
   },
   "file_extension": ".py",
   "mimetype": "text/x-python",
   "name": "python",
   "nbconvert_exporter": "python",
   "pygments_lexer": "ipython3",
   "version": "3.8.5"
  }
 },
 "nbformat": 4,
 "nbformat_minor": 4
}
