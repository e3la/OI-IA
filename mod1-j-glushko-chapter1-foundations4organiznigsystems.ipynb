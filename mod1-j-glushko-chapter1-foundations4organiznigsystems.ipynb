{
 "cells": [
  {
   "cell_type": "markdown",
   "metadata": {},
   "source": [
    "\"Foundations for Organizing Systems\" (Glushko, 2016)\n",
    "====================================================\n",
    "\n",
    "The next reading is from Bob Glushko's OER. It includes some additional  insight into \"information\" and is the first chapter the the book he edited. You will encounter ideas similar to what you have already read (possibly formulated in a slightly different way), but also some new ones. \n",
    "\n",
    "> Glushko, R. J. (2016). Foundations for organizing systems. In R. J. Glushko (Ed.), _The discipline of organizing_ (pp. 25–52). MIT Press. [https://ischools.org/resources/Documents/Discipline%20of%20organizing/Professional/TDO4-Prof-CC-Chapter1.pdf (Links to an external site.)](https://ischools.org/resources/Documents/Discipline%20of%20organizing/Professional/TDO4-Prof-CC-Chapter1.pdf)\n",
    "\n",
    "Do a careful reading of this chapter as well, with the following notes in mind:\n",
    "\n",
    "#### Notes\n",
    "\n",
    "*   This is a chapter from an OER textbook on organizing in the information professions. This version of the text is designed for information professionals. This class will not read the entire book. Selected chapters will be assigned in Canvas modules. The full book is available for download here: [https://ischools.org/Discipline-of-Organizing-Professional. (Links to an external site.)](https://ischools.org/Discipline-of-Organizing-Professional)\n",
    "*   This chapter gives a great overview of systems used in the organization of information.\n",
    "*   Skip “1.10 Organizing This Book” (already removed from the PDF below)\n",
    "*   How does the information you learn here supplement what you've been reading so far in this module?"
   ]
  },
  {
   "cell_type": "code",
   "execution_count": 2,
   "metadata": {},
   "outputs": [
    {
     "data": {
      "text/html": [
       "\n",
       "        <iframe\n",
       "            width=\"900\"\n",
       "            height=\"650\"\n",
       "            src=\"./TDO4-Prof-CC-Chapter1.pdf\"\n",
       "            frameborder=\"0\"\n",
       "            allowfullscreen\n",
       "        ></iframe>\n",
       "        "
      ],
      "text/plain": [
       "<IPython.lib.display.IFrame at 0x1865b28b7c0>"
      ]
     },
     "metadata": {},
     "output_type": "display_data"
    }
   ],
   "source": [
    "if True:\n",
    "    from IPython.display import IFrame    \n",
    "    display(IFrame(\"./TDO4-Prof-CC-Chapter1.pdf\", width=900, height=650))"
   ]
  }
 ],
 "metadata": {
  "kernelspec": {
   "display_name": "Python 3",
   "language": "python",
   "name": "python3"
  },
  "language_info": {
   "codemirror_mode": {
    "name": "ipython",
    "version": 3
   },
   "file_extension": ".py",
   "mimetype": "text/x-python",
   "name": "python",
   "nbconvert_exporter": "python",
   "pygments_lexer": "ipython3",
   "version": "3.8.5"
  }
 },
 "nbformat": 4,
 "nbformat_minor": 4
}
