{
 "cells": [
  {
   "cell_type": "markdown",
   "metadata": {},
   "source": [
    "\"Knowledge Organization\" (Wikipedia, 2019)\n",
    "==========================================\n",
    "\n",
    "The previous page introduced the Wikipedia article \"Knowledge Organization.\" Take a moment now to read through the rest of the article to get a sense of the big picture of the topic.\n",
    "\n",
    "> Knowledge organization. (2019, September 3). In _Wikipedia. [https://en.wikipedia.org/wiki/Knowledge\\_organization (Links to an external site.)](https://en.wikipedia.org/wiki/Knowledge_organization)_\n",
    "\n",
    "#### Notes\n",
    "\n",
    "A number of terms included in this article will come up again in this course:\n",
    "\n",
    "*   information resources\n",
    "*   description\n",
    "*   indexing\n",
    "*   classification\n",
    "*   controlled vocabularies\n",
    "*   information retrieval\n",
    "\n",
    "Begin to incorporate these in your vocabulary. At this point, a general understanding about what they mean is fine.\n",
    "\n",
    "#### **Next**\n",
    "\n",
    "_Review the Library of Congress authority record for \"Information organization.\"_"
   ]
  }
 ],
 "metadata": {
  "kernelspec": {
   "display_name": "Python 3",
   "language": "python",
   "name": "python3"
  },
  "language_info": {
   "codemirror_mode": {
    "name": "ipython",
    "version": 3
   },
   "file_extension": ".py",
   "mimetype": "text/x-python",
   "name": "python",
   "nbconvert_exporter": "python",
   "pygments_lexer": "ipython3",
   "version": "3.8.5"
  }
 },
 "nbformat": 4,
 "nbformat_minor": 4
}
