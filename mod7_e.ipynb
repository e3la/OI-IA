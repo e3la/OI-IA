{
  "nbformat": 4,
  "nbformat_minor": 0,
  "metadata": {
    "colab": {
      "name": "mod7-e.ipynb",
      "provenance": [],
      "authorship_tag": "ABX9TyMpXhWN8VJq+0tyK5w0C1SN",
      "include_colab_link": true
    },
    "kernelspec": {
      "name": "python3",
      "display_name": "Python 3"
    }
  },
  "cells": [
    {
      "cell_type": "markdown",
      "metadata": {
        "id": "view-in-github",
        "colab_type": "text"
      },
      "source": [
        "<a href=\"https://colab.research.google.com/github/e3la/Organizing-Information-in-Information-Agencies/blob/master/mod7_e.ipynb\" target=\"_parent\"><img src=\"https://colab.research.google.com/assets/colab-badge.svg\" alt=\"Open In Colab\"/></a>"
      ]
    },
    {
      "cell_type": "code",
      "metadata": {
        "id": "Y7IkqyVAVCgw"
      },
      "source": [
        ""
      ],
      "execution_count": null,
      "outputs": []
    },
    {
      "cell_type": "markdown",
      "metadata": {
        "id": "pQiot9KUVDCn"
      },
      "source": [
        "Key Ideas in IO: Technical Metadata\r\n",
        "===================================\r\n",
        "\r\n",
        "**Defining Technical Metadata**\r\n",
        "-------------------------------\r\n",
        "\r\n",
        "What is technical metadata? In Gilliland (2016), you saw the following definition in the table:\r\n",
        "\r\n",
        "> Metadata related to how a system functions or metadata behaves\r\n",
        "> \r\n",
        "> (Gilliland, 2016, section Categorizing Metadata)\r\n",
        "\r\n",
        "Riley (2017) helps situate technical metadata by describing the purpose and then providing information about the uses for technical metadata. Again, technical metadata is a kind of administrative metadata, so it does not necessarily support end-user retrieval, but rather is there to help the database administrator ensure the system and its contents are working. \r\n",
        "\r\n",
        "**Table 1 Example Properties and Primary Uses for Technical Metadata** **(Riley, 2017, p. 7)**\r\n",
        "\r\n",
        "#### **Metadata Type**\r\n",
        "\r\n",
        "#### **Example Properties**\r\n",
        "\r\n",
        "#### **Primary Uses**\r\n",
        "\r\n",
        "Technical metadata\r\n",
        "\r\n",
        "File type\r\n",
        "\r\n",
        "File size\r\n",
        "\r\n",
        "Creation date/time\r\n",
        "\r\n",
        "Compression scheme\r\n",
        "\r\n",
        "Interoperability\r\n",
        "\r\n",
        "Digital object management\r\n",
        "\r\n",
        "Preservation\r\n",
        "\r\n",
        "**Key Ideas in IO: The One-to-One Principle**\r\n",
        "---------------------------------------------\r\n",
        "\r\n",
        "This technical metadata has the potential to help support the one-to-one principle (also written 1:1 principle) in digital libraries. The following is the first part of the abstract for a paper from the Dublin Core Metadata Initiative (DCMI) conference by Steven J. Miller, a well-respected and well-known digital librarian. In it, Miller explains the one-to-one principle. \r\n",
        "\r\n",
        "#### The One-To-One Principle: Challenges in Current Practice\r\n",
        "\r\n",
        "_Steven J. Miller_\r\n",
        "\r\n",
        "##### **Abstract**\r\n",
        "\r\n",
        "The DCMI One-to-One Principle holds that related but conceptually different entities, such as a photograph and a digital image of that photograph, should be represented by separate metadata records.\r\n",
        "\r\n",
        "[https://dcpapers.dublincore.org/pubs/article/view/1043 (Links to an external site.)](https://dcpapers.dublincore.org/pubs/article/view/1043)\r\n",
        "\r\n",
        "\\*\\*\\*\r\n",
        "\r\n",
        "This is an important principle, simply because a photograph of an artifact that might be searched in a repository, for example, has a completely separate date of creation from the date of creation of the artifact.\r\n",
        "\r\n",
        "Stop and think about that for a minute.\r\n",
        "\r\n",
        "The terra cotta urn was from 2000 BCE, but the photo in the database was taken in 2012—the photo has a certain resolution, file type, color palette, compression scheme, etc.\r\n",
        "\r\n",
        "Information about _both_ is necessary for the database administrator—the end-user, however, only cares about the urn (the physical object).\r\n",
        "\r\n",
        "**Examples of Technical Metadata**\r\n",
        "----------------------------------\r\n",
        "\r\n",
        "Riley (2017) describes properties and uses for technical metadata in Table 1, and in \"Setting the Stage,\" Gilliland (2016) gives examples. These examples of technical metadata are, unsurprisingly, a bit technical in nature:\r\n",
        "\r\n",
        "> *   Hardware and software documentation\r\n",
        "> *   System-generated procedural information (e.g., routing and event metadata)\r\n",
        "> *   Technical digitization information (e.g., formats, compression ratios, scaling routines)\r\n",
        "> *   Tracking of system-response times\r\n",
        "> *   Authentication and security data (e.g., encryption keys, passwords)\r\n",
        "> \r\n",
        "> (Gilliland, 2016, section Categorizing Metadata)\r\n",
        "\r\n",
        "Take a moment to look some of these up if you are curious to know more. \r\n",
        "\r\n",
        "#### **Next**\r\n",
        "\r\n",
        "_Explore the Library of Congress site \"Recommended Formats Statement\" for examples of technical metadata._\r\n",
        "\r\n",
        "* * *\r\n",
        "\r\n",
        "#### References\r\n",
        "\r\n",
        "Gilliland, A. J. (2016). Setting the stage. In M. Baca (Ed.), _Introduction to metadata_ (3rd ed.). The Getty Research Institute. [http://www.getty.edu/publications/intrometadata/setting-the-stage/ (Links to an external site.)](http://www.getty.edu/publications/intrometadata/setting-the-stage/)[](http://www.getty.edu/publications/intrometadata/setting-the-stage/)\r\n",
        "\r\n",
        "Riley, J. (2017). _Understanding metadata: What is metadata, and what is it for?_ National Information Standards Organization (NISO). [https://groups.niso.org/apps/group\\_public/download.php/17446/Understanding%20Metadata.pdf](https://groups.niso.org/apps/group_public/download.php/17446/Understanding%20Metadata.pdf)"
      ]
    }
  ]
}