{
  "nbformat": 4,
  "nbformat_minor": 0,
  "metadata": {
    "colab": {
      "name": "mod10-j.ipynb",
      "provenance": [],
      "authorship_tag": "ABX9TyMHeiCE3By74x/0rYtQ9ymW",
      "include_colab_link": true
    },
    "kernelspec": {
      "name": "python3",
      "display_name": "Python 3"
    },
    "language_info": {
      "name": "python"
    }
  },
  "cells": [
    {
      "cell_type": "markdown",
      "metadata": {
        "id": "view-in-github",
        "colab_type": "text"
      },
      "source": [
        "<a href=\"https://colab.research.google.com/github/e3la/Organizing-Information-in-Information-Agencies/blob/master/mod10_j.ipynb\" target=\"_parent\"><img src=\"https://colab.research.google.com/assets/colab-badge.svg\" alt=\"Open In Colab\"/></a>"
      ]
    },
    {
      "cell_type": "code",
      "metadata": {
        "id": "Ueoqb3iGbMsD"
      },
      "source": [
        ""
      ],
      "execution_count": null,
      "outputs": []
    },
    {
      "cell_type": "markdown",
      "metadata": {
        "id": "yA9bK472bNHe"
      },
      "source": [
        "BIBFRAME: The Bibliographic Framework Initiative\n",
        "================================================\n",
        "\n",
        "What are libraries and the cultural heritage sector doing to integrate their data with the linked data web? Based on what you know about the required web of data and the efforts you have seen to publish library vocabularies and sources as linked data, you might suspect that encoding library content using linked data friendly standards is a giant step toward making that happen, and you would be right!\n",
        "\n",
        "The Library of Congress initially led the charge to change encoding standards from MARC to something else. And that \"something else\" happens to be Web 3.0, machine-understandable access to database content. With linked data as the instantiation of the semanatic web ideal, moving to linked data encoding was an obvious first step. \n",
        "\n",
        "The Library of Congress unveiled its Bibliographic Framework Initiative (BIBFRAME) [https://www.loc.gov/bibframe/](https://www.loc.gov/bibframe/) to this end. \n",
        "\n",
        "**BIBFRAME**\n",
        "------------\n",
        "\n",
        "What is BIBFRAME?\n",
        "\n",
        "BIBFRAME is a linked data project that seeks to lower barriers to accessing library data, partly by adopting contemporary data practices, but more by fostering an environment that is not just on the World Wide Web but part of the World Wide Web. Library bibliographic data is built upon a solid infrastructure of authoritative names and subjects. It is reliable, consistent, and “clean,” thanks to its use of regulated standards. But it is encased in a data format that is not easily understood or easily deployed by non-library professionals.\n",
        "\n",
        "With BIBFRAME and linked data, the library community has an opportunity to make its controlled and well-crafted bibliographic data accessible to a global audience. Wider accessibility of a library’s bibliographic data makes the library’s resources and holdings known and available to “outsiders.” If one of those outsiders, for example, is Google, then exposing library bibliographic data in this way can translate into more relevant search results for users, and more patrons utilizing library collections. (L_ibrary of Congress. Policy, Training, and Cooperative Programs Division_, 2020, 12)\n",
        "\n",
        "In practical terms, BIBFRAME is an encoding scheme (aka markup language) that was developed as a replacement to MARC. BIBFRAME was designed to support linked data. \n",
        "\n",
        "While BIBFRAME is being tested by the Library of Congress and a group of libraries, wide-spread implementation is not forecast for the foreseeable future. Why? Systems need to be redesigned to accommodate BIBFRAME and the corpus of bibliographic records now encoded with MARC would need to be converted to BIBFRAME encoding. \n",
        "\n",
        "As needed, MARC records can be cross-walked to BIBFRAME records for linked data projects and for use on the web.\n",
        "\n",
        "Compare a MARC record to BIBRAME using the Library of Congress Compare tool.\n",
        "\n",
        "> Library of Congress. (n.d.) Compare MARC converted to BIBFRAME. [https://id.loc.gov/tools/bibframe/compare-id/full-ttl](https://id.loc.gov/tools/bibframe/compare-id/full-ttl)\n",
        "\n",
        "Where does this leave libraries?\n",
        "\n",
        "#### **Next**\n",
        "\n",
        "_Watch a video and learn more about BIBFRAME and how it will make a difference in libraries.  \n",
        "_\n",
        "\n",
        "* * *\n",
        "\n",
        "#### References\n",
        "\n",
        "Lib_rary of Congress. Policy, Training, and Cooperative Programs Division. (May 2020). Library of Congress BIBFRAME manual: The BIBFRAME editor and BIBFRAME database. Public version. [https://www.loc.gov/catworkshop/bibframe/BIBFRAME-PublicManual.pdf](https://www.loc.gov/catworkshop/bibframe/BIBFRAME-PublicManual.pdf)_"
      ]
    }
  ]
}