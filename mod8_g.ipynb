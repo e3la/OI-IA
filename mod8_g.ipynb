{
  "nbformat": 4,
  "nbformat_minor": 0,
  "metadata": {
    "colab": {
      "name": "mod8-g.ipynb",
      "provenance": [],
      "authorship_tag": "ABX9TyMIr0WcUUF+bvqSoZuurRoJ",
      "include_colab_link": true
    },
    "kernelspec": {
      "name": "python3",
      "display_name": "Python 3"
    }
  },
  "cells": [
    {
      "cell_type": "markdown",
      "metadata": {
        "id": "view-in-github",
        "colab_type": "text"
      },
      "source": [
        "<a href=\"https://colab.research.google.com/github/e3la/Organizing-Information-in-Information-Agencies/blob/master/mod8_g.ipynb\" target=\"_parent\"><img src=\"https://colab.research.google.com/assets/colab-badge.svg\" alt=\"Open In Colab\"/></a>"
      ]
    },
    {
      "cell_type": "markdown",
      "metadata": {
        "id": "cFAA0Qelb9cj"
      },
      "source": [
        "Self Study: Functional Requirements of an Online Catalog\r\n",
        "========================================================\r\n",
        "\r\n",
        "![](self-study-dark.png)  \r\n",
        "Analyze an online catalog using the recommendations given in the draft IFLA guidelines: \r\n",
        "\r\n",
        "> IFLA Task Force on Guidelines for OPAC Displays. (2003, September 30). Guidelines for online public access catalogue (OPAC) displays. (Draft). IFLA. [https://archive.ifla.org/VII/s13/guide/opacguide03.pdf](https://archive.ifla.org/VII/s13/guide/opacguide03.pdf)\r\n",
        "\r\n",
        "#### Instructions\r\n",
        "\r\n",
        "1.  Choose an online catalog of a library. Make sure you are exploring an online catalog rather than a broader discovery system. Below are options from different ILS vendors.\r\n",
        "\r\n",
        "**University of California,  Berkeley**\r\n",
        "\r\n",
        "*   [http://oskicat.berkeley.edu/https://libcat.slu.edu/](https://libcat.slu.edu/)\r\n",
        "*   Innovative Interfaces (Sierra or Millennium)\r\n",
        "\r\n",
        "**University of Chicago**\r\n",
        "\r\n",
        "*   [https://catalog.lib.uchicago.edu/vufind/](https://catalog.lib.uchicago.edu/vufind/)\r\n",
        "*   VuFind\r\n",
        "\r\n",
        "**Indiana University**\r\n",
        "\r\n",
        "*   [https://iucat.iu.edu/](https://iucat.iu.edu/)\r\n",
        "*   Symphony\r\n",
        "\r\n",
        "**Texas A&M University**\r\n",
        "\r\n",
        "*   [https://libcat.tamu.edu/vwebv/searchBasic](https://libcat.tamu.edu/vwebv/searchBasic)\r\n",
        "*   Voyager\r\n",
        "\r\n",
        "**Augusta-Richmond County (Georgia) Library System**\r\n",
        "\r\n",
        "*   [http://gapines.org/eg/opac/home](http://gapines.org/eg/opac/home)\r\n",
        "*   Evergreen\r\n",
        "\r\n",
        "**Links to additional online catalogs**\r\n",
        "\r\n",
        "*   [https://librarytechnology.org/libraries/carnegie/](https://librarytechnology.org/libraries/carnegie/)\r\n",
        "\r\n",
        "2.  Access the IFLA guidelines \r\n",
        "3.  Spend ten minutes comparing the recommended functions (starting on page 11) with what you find in the online catalog you have chosen.\r\n",
        "    *   Choose 5–10 criteria from different sections of the recommendations. \r\n",
        "    *   If you have additional time, choose an online catalog from a different vendor and compare that, too.\r\n",
        "\r\n",
        "When seeking to implement a new ILS, a comparison of required and desired functions is an important step in evaluation of possible products. As part of this process, you, as an evaluator, would note down whether the system met the requirement, partially met the criteria, or did not meet the criteria.\r\n",
        "\r\n",
        "#### **Next**\r\n",
        "\r\n",
        "_Continue thinking about the functionality of OPACs. Why do all catalogs seem to look so different, then, if everyone adheres to the same standards? Next, consider some local customization decisions that can compound differences._"
      ]
    }
  ]
}