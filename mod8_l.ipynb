{
  "nbformat": 4,
  "nbformat_minor": 0,
  "metadata": {
    "colab": {
      "name": "mod8-l.ipynb",
      "provenance": [],
      "authorship_tag": "ABX9TyPQZdQ8ipCes7n/t+MRvm6D",
      "include_colab_link": true
    },
    "kernelspec": {
      "name": "python3",
      "display_name": "Python 3"
    }
  },
  "cells": [
    {
      "cell_type": "markdown",
      "metadata": {
        "id": "view-in-github",
        "colab_type": "text"
      },
      "source": [
        "<a href=\"https://colab.research.google.com/github/e3la/Organizing-Information-in-Information-Agencies/blob/master/mod8_l.ipynb\" target=\"_parent\"><img src=\"https://colab.research.google.com/assets/colab-badge.svg\" alt=\"Open In Colab\"/></a>"
      ]
    },
    {
      "cell_type": "markdown",
      "metadata": {
        "id": "2RpXS2n-Ga9w"
      },
      "source": [
        "Self-study: ILS\r\n",
        "===============\r\n",
        "\r\n",
        "### ![](self-study-dark.png)  \r\n",
        "**Self-Study**\r\n",
        "\r\n",
        "MERLIN, the online catalog used at the University of Missouri, is an integrated library system. Various modules provide functions beyond storage of bibliographic records and search and retrieval. Retrieve the records below to review some of those functions as shown in the OPAC.\r\n",
        "\r\n",
        "**Hope isn't stupid : utopian affects in contemporary American literature**\r\n",
        "\r\n",
        "*   [http://merlin.lib.umsystem.edu/record=b12097075~S1](http://merlin.lib.umsystem.edu/record=b12097075~S1)\r\n",
        "*   Note the option to request the book. Also, the circulation status is displayed. These are aspects of the **circulation functions** of MERLIN. Patron records supplied by the University of Missouri campuses are loaded into the system and allow the system to be used to check items out to users. When an item is checked out (or circulating), the due date will be displayed. \r\n",
        "\r\n",
        "**Journal of economic insight**\r\n",
        "\r\n",
        "*   [http://merlin.lib.umsystem.edu/record=b12275723~S1](http://merlin.lib.umsystem.edu/record=b12275723~S1)\r\n",
        "*   Click on the link labeled, \"Latest Received.\" This information is generated from the **serials module.** When a new issue of the journal is received the serials staff \"check it in.\" This allows users to see what journal issues are available. The serials module also can be used to alert staff when a journal issue has not have been received as scheduled, and to generate an claim (a print or email message) that is sent to the vendor or publisher. \r\n",
        "\r\n",
        "**Academic search complete**\r\n",
        "\r\n",
        "*   [http://merlin.lib.umsystem.edu/record=e1000012~S8](http://merlin.lib.umsystem.edu/record=e1000012~S8)\r\n",
        "*   UMKC uses the **electronic resources management (ERM) module**. This module is used to track database subscriptions and includes information about the database license, coverage, etc.\r\n",
        "\r\n",
        "**Native American wills and probate records, 1911–1921**\r\n",
        "\r\n",
        "*   [http://merlin.lib.umsystem.edu/record=b13092453~S1](http://merlin.lib.umsystem.edu/record=b13087236~S8)\r\n",
        "*   This monograph was been ordered in February 2020 and has not yet been received. The **acquisitions module** allows staff to use MERLIN to track orders and to process payments.\r\n",
        "\r\n",
        "**Subject search for \"car\"**\r\n",
        "\r\n",
        "*   [http://merlin.lib.umsystem.edu/search/?searchtype=d&SORT=D&searcharg=car&searchscope=1](http://merlin.lib.umsystem.edu/search/?searchtype=d&SORT=D&searcharg=car&searchscope=1)\r\n",
        "*   Note the cross-references in the search results. E.g., Car accidents -- See Traffic accidents. The ILS uses the information in authority records to direct users from terms that are not used other terms.\r\n",
        "\r\n",
        "**Record in MOBIUS catalog**\r\n",
        "\r\n",
        "*   Hope isn't stupid: utopian affects in American literature\r\n",
        "*   View this record in MERLIN, again:\r\n",
        "*   [http://merlin.lib.umsystem.edu/record=b12097075~S1](http://merlin.lib.umsystem.edu/record=b12097075~S1)\r\n",
        "*   Click on the \"Search MOBIUS\" button. \r\n",
        "*   Bibliographic records in MERLIN are aggregated in the MOBIUS catalog, along with other the records of other [MOBIUS member libraries](https://mobiusconsortium.org/member-libraries). Functions which allow harvesting of records extend the reach of a library catalog. \r\n",
        "\r\n",
        "**Reflect**\r\n",
        "-----------\r\n",
        "\r\n",
        "> You have just seen a number of functionalities present in ILSs through the user interface. In other words, through the front end, you were able to work out some of the functionalities present through the staff view. \r\n",
        "> \r\n",
        "> Now, think about the different kinds of institutions that collect materials for circulation - school libraries, church libraries, corporate libraries, museums, archives, large public libraries, research libraries, etc. In each of these institutions, which of the ILS functionalities that you just saw will be most important? Which might be least important? How do users and their needs fit in? What about the management of the collection, and the needs of the institution as it attempts to carry out its mission?\r\n",
        "\r\n",
        "#### **More about the University of Missouri ILS**\r\n",
        "\r\n",
        "As noted previously, libraries purchase, or subscribe to, commercially produced online catalog systems or use open source products. The University of Missouri uses Sierra, which is a Innovative Interfaces, Inc., product.\r\n",
        "\r\n",
        "[https://www.iii.com/products/sierra-ils/](https://www.iii.com/products/sierra-ils/)\r\n",
        "\r\n",
        "Watch this overview of the Sierra ILS, with explanations of terms and of ILS functions. You will see the ILS from the staff view, too. (3 minutes)\r\n",
        "\r\n",
        "[Sierra in Seconds: Intro to the ILS & Record Types](https://vimeo.com/innovativeiii)\r\n",
        "\r\n",
        "[https://www.youtube.com/watch?v=Id\\_sK7FLNPc](https://www.youtube.com/watch?v=Id_sK7FLNPc) [![](/images/play_overlay.png)](https://www.youtube.com/watch?v=Id_sK7FLNPc) \r\n",
        "\r\n",
        "If interested, take a peek at the Sierra [documentation](https://documentation.iii.com/sierrahelp/Default.htm), which will give you an idea of the complexity of the system.\r\n",
        "\r\n",
        "#### **Next**\r\n",
        "\r\n",
        "_Online catalogs have been evolving as technology changes, and one of the most important recent developments is the advent of the_ discovery system. _Discovery systems are, at times, supplanting OPACs as the main discovery tool in libraries. What are they, exactly, and will they spell the end of the OPAC?_"
      ]
    }
  ]
}