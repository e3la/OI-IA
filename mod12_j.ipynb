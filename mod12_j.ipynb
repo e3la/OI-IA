{
  "nbformat": 4,
  "nbformat_minor": 0,
  "metadata": {
    "colab": {
      "name": "mod12-j.ipynb",
      "provenance": [],
      "authorship_tag": "ABX9TyO08BXaSFW1/AVu0D6HsNOm",
      "include_colab_link": true
    },
    "kernelspec": {
      "name": "python3",
      "display_name": "Python 3"
    },
    "language_info": {
      "name": "python"
    }
  },
  "cells": [
    {
      "cell_type": "markdown",
      "metadata": {
        "id": "view-in-github",
        "colab_type": "text"
      },
      "source": [
        "<a href=\"https://colab.research.google.com/github/e3la/Organizing-Information-in-Information-Agencies/blob/master/mod12_j.ipynb\" target=\"_parent\"><img src=\"https://colab.research.google.com/assets/colab-badge.svg\" alt=\"Open In Colab\"/></a>"
      ]
    },
    {
      "cell_type": "markdown",
      "metadata": {
        "id": "vTMyTLLCRDv8"
      },
      "source": [
        "\"Open Discovery Initiative\" (Open Discovery Initiative Standing Committee, 2020)\n",
        "================================================================================\n",
        "\n",
        "In the first Part of this OER, you learned about standards bodies like NISO. Standards bodies do a lot, including support the conversation between libraries and their vendors about data and how it is used. Read the standards document:\n",
        "\n",
        "> Open Discovery Initiative Standing Committee. (2020). _Open discovery initiative: Promoting transparency in discovery._ National Information Standards Organization. [https://www.niso.org/publications/rp-19-2020-odi](https://www.niso.org/publications/rp-19-2020-odi)\n",
        "\n",
        "#### Notes\n",
        "\n",
        "*   The focus of this document is third-party discovery systems implemented in libraries. \n",
        "*   To help combat the potential for vendors to favor their own content discovery system search results, NISO has worked with leaders in the industry to develop practices that support transparency. \n",
        "*   Read the Foreword carefully and note the stated issues that this document seeks to address.\n",
        "*   As you read through the remainder, identify issues to be addressed by IO professionals, in design or system specifications, or discovery system purchasing decisions.\n",
        "\n",
        "#### **Next**\n",
        "\n",
        "_The next page looks at privacy, especially patron privacy, in the context of for-profit information systems. Are users getting the information they need? Are they getting that information at the expense of their own private data?_"
      ]
    }
  ]
}