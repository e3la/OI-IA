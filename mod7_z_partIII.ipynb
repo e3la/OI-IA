{
  "nbformat": 4,
  "nbformat_minor": 0,
  "metadata": {
    "colab": {
      "name": "mod7-z-partIII.ipynb",
      "provenance": [],
      "authorship_tag": "ABX9TyNeeW73+m7trvrYZkUyHsPI",
      "include_colab_link": true
    },
    "kernelspec": {
      "name": "python3",
      "display_name": "Python 3"
    }
  },
  "cells": [
    {
      "cell_type": "markdown",
      "metadata": {
        "id": "view-in-github",
        "colab_type": "text"
      },
      "source": [
        "<a href=\"https://colab.research.google.com/github/e3la/Organizing-Information-in-Information-Agencies/blob/master/mod7_z_partIII.ipynb\" target=\"_parent\"><img src=\"https://colab.research.google.com/assets/colab-badge.svg\" alt=\"Open In Colab\"/></a>"
      ]
    },
    {
      "cell_type": "markdown",
      "metadata": {
        "id": "q1i27Zm5EM7v"
      },
      "source": [
        "Terminology Overview and Objectives: Part III (Modules 8–11)\r\n",
        "============================================================\r\n",
        "\r\n",
        "## Part III. Systems to Support Organization of Information\r\n",
        "\r\n",
        "**What This Part Covers:** In this part, you will learn about the technology used to allow access in IO environments. This technology is known as “systems” and it relies on databases, specialized search engines, and encoded information.\r\n",
        "\r\n",
        "**Module 8**\r\n",
        "------------\r\n",
        "\r\n",
        "#### **![](dark-objective-icon.png)Learning Objectives**\r\n",
        "\r\n",
        "*   Define IO terms related to online catalogs and system design. \r\n",
        "*   Identify design and functionality components of online catalogs.\r\n",
        "*   Describe user needs in the context of designing an online catalog.\r\n",
        "*   Relate the LRM user tasks to the basic functional requirements for an online catalog.\r\n",
        "\r\n",
        "#### **![](terminology-icon.png)Terminology**\r\n",
        "\r\n",
        "*   Library systems\r\n",
        "*   Online catalogs\r\n",
        "*   OPACS\r\n",
        "*   Integrated library systems (ILSs)\r\n",
        "*   Cooperative Cataloging\r\n",
        "*   Z39.50\r\n",
        "\r\n",
        "**Module 9**\r\n",
        "------------\r\n",
        "\r\n",
        "#### **![](dark-objective-icon.png)Learning Objectives**\r\n",
        "\r\n",
        "*   Discuss the difference between an online catalog (metadata only) and a digital library (metadata and digital content).\r\n",
        "*   Identify types and purposes of various digital libraries, including digital repositories and institutional repositories, digital archives, and data repositories.\r\n",
        "*   Explore and note differences in design, functionality, and content of several digital libraries.\r\n",
        "\r\n",
        "#### **![](terminology-icon.png)Terminology**\r\n",
        "\r\n",
        "*   Digital libraries\r\n",
        "*   Digital archives\r\n",
        "*   Digital repositories\r\n",
        "*   Data repositories\r\n",
        "*   COAR\r\n",
        "*   \\[Metadata\\] application profiles\r\n",
        "*   Metadata registries\r\n",
        "*   Metadata crosswalks\r\n",
        "*   OAI-PMH\r\n",
        "*   Granularity\r\n",
        "\r\n",
        "**Module 10**\r\n",
        "-------------\r\n",
        "\r\n",
        "#### **![](dark-objective-icon.png)Learning Objectives**\r\n",
        "\r\n",
        "*   Describe the basics of linked data and how linked data can be used in LAMS. \r\n",
        "*   Give examples of current projects and the goals of linked data. \r\n",
        "\r\n",
        "#### **![](terminology-icon.png)Terminology**\r\n",
        "\r\n",
        "*   Linked data\r\n",
        "*   Enriched content\r\n",
        "*   Relationships\r\n",
        "*   Linked open data (LOD)\r\n",
        "\r\n",
        "**Module 11**\r\n",
        "-------------\r\n",
        "\r\n",
        "#### **![](dark-objective-icon.png)Learning Objectives**\r\n",
        "\r\n",
        "*   Describe basics of organization related to specialized types of information (e.g., research data, personal information management (PIM), etc.) and how the organization of these types of resources differ from those already considered. \r\n",
        "*   Discuss how the life cycles of these resources impact IO. \r\n",
        "\r\n",
        "#### **![](terminology-icon.png)Terminology**\r\n",
        "\r\n",
        "*   Information management\r\n",
        "*   Personal information management (PIM)\r\n",
        "*   Records management\r\n",
        "*   Digital asset management (DAM)\r\n",
        "*   Digital asset management systems (DAMS)\r\n",
        "*   Research data management (RDM)\r\n",
        "*   Knowledge management\r\n",
        "*   Taxonomies"
      ]
    }
  ]
}