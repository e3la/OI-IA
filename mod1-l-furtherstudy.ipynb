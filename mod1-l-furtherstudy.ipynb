{
 "cells": [
  {
   "cell_type": "markdown",
   "metadata": {},
   "source": [
    "# Module 1. For Further Study\n",
    "\n",
    " **![recommend-icon](recommend-icon.png) For Further Study**\n",
    "\n",
    "Why do we organize? These two easy-to-read articles (blog posts) address this question.\n",
    "\n",
    "> Brodkin, J. (2007, January 23). You are wasting time; find out why. _Network World._ [https://www.networkworld.com/article/2303260/you-are-wasting-time--find-out-why.html (Links to an external site.)](https://www.networkworld.com/article/2303260/you-are-wasting-time--find-out-why.html)\n",
    "\n",
    "#### Notes\n",
    "\n",
    "*   Think of all the wasted time that goes into searching!\n",
    "*   Consider this block quote, taken from the beginning of the article:\n",
    "\n",
    "> \"A company that employs 1,000 information workers can expect more than $5 million in annual salary costs to go down the drain because of the time wasted looking for information and not finding it IDC research found last year.\" (para. 1)\n",
    "\n",
    "* * *\n",
    "\n",
    "> Murphy, B. (2019, September 20). Elon Musk, Jeff Bezos, Jack Ma and Susan Wojcicki All Made This Top 10 List. Can You Guess Who Else Is On It? _Inc._  [https://www.inc.com/bill-murphy-jr/elon-musk-jeff-bezos-jack-ma-susan-wojcicki-all-made-this-top-10-list-can-you-guess-who-else-is-on-it.html (Links to an external site.)](https://www.inc.com/bill-murphy-jr/elon-musk-jeff-bezos-jack-ma-susan-wojcicki-all-made-this-top-10-list-can-you-guess-who-else-is-on-it.html)\n",
    "\n",
    "#### Notes\n",
    "\n",
    "*   How do people process information? And how do they want to?\n",
    "\n",
    "> \"Human beings are inundated with information. We respond when it's organized, coupled with a promise of digestible authority\" (para. 15)."
   ]
  },
  {
   "cell_type": "code",
   "execution_count": null,
   "metadata": {},
   "outputs": [],
   "source": []
  }
 ],
 "metadata": {
  "kernelspec": {
   "display_name": "Python 3",
   "language": "python",
   "name": "python3"
  },
  "language_info": {
   "codemirror_mode": {
    "name": "ipython",
    "version": 3
   },
   "file_extension": ".py",
   "mimetype": "text/x-python",
   "name": "python",
   "nbconvert_exporter": "python",
   "pygments_lexer": "ipython3",
   "version": "3.8.5"
  }
 },
 "nbformat": 4,
 "nbformat_minor": 4
}
