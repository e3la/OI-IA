{
 "cells": [
  {
   "cell_type": "markdown",
   "metadata": {},
   "source": [
    "The Problem of Bias in Organization\n",
    "===================================\n",
    "\n",
    "Yet, there is a caveat. How individuals understand the world around themselves and how they organize is a product of their personal and cultural _biases_…\n",
    "\n",
    "Acknowledging these biases in organization can be difficult for librarians. Yet, the American Library Association (ALA) [Code of Ethics (Links to an external site.)](http://www.ala.org/tools/ethics) is very specific about the need for _unbiased_ professional work. The first principle puts the need for unbiased responses to the fore.\n",
    "\n",
    "> 1\\. We provide the highest level of service to all library users through appropriate and usefully organized resources; equitable service policies; equitable access; and accurate, unbiased, and courteous responses to all requests.\n",
    "> \n",
    "> American Library Association (ALA) Code of Ethics\n",
    "\n",
    "\n",
    "```{margin}{warning}\n",
    "Please note that the ALA does not pretend that organizing can be unbiased—only responses to requests can be unbiased.\n",
    "```\n",
    "\n",
    "As much as information intermediaries want to do work that addresses the needs of all users, including those from marginalized and underrepresented groups, and describes people in a way that is respectful, there is a caveat. Every information professional has biases, and the systems for organization used have biases. Biases allow users to make sense of their work (e.g., use the new faucet on the previous page) so they are not all bad. However, it is important to acknowledge biases and to address any that result in systems that are not equitable or that disenfranchise users in any way.\n",
    "\n",
    "#### **Next**\n",
    "\n",
    "_The next page sets you up to read a chapter from an OER textbook on organization of information. The slightly different perspectives and emphases are a good way to round out the readings you have done so far in this module._"
   ]
  },
  {
   "cell_type": "code",
   "execution_count": null,
   "metadata": {},
   "outputs": [],
   "source": []
  }
 ],
 "metadata": {
  "kernelspec": {
   "display_name": "Python 3",
   "language": "python",
   "name": "python3"
  },
  "language_info": {
   "codemirror_mode": {
    "name": "ipython",
    "version": 3
   },
   "file_extension": ".py",
   "mimetype": "text/x-python",
   "name": "python",
   "nbconvert_exporter": "python",
   "pygments_lexer": "ipython3",
   "version": "3.8.5"
  }
 },
 "nbformat": 4,
 "nbformat_minor": 4
}
