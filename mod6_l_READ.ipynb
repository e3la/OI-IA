{
  "nbformat": 4,
  "nbformat_minor": 0,
  "metadata": {
    "colab": {
      "name": "mod6-l-READ.ipynb",
      "provenance": [],
      "collapsed_sections": [],
      "authorship_tag": "ABX9TyMVpY1pv7DdP1HHNIVq/By2",
      "include_colab_link": true
    },
    "kernelspec": {
      "name": "python3",
      "display_name": "Python 3"
    }
  },
  "cells": [
    {
      "cell_type": "markdown",
      "metadata": {
        "id": "view-in-github",
        "colab_type": "text"
      },
      "source": [
        "<a href=\"https://colab.research.google.com/github/e3la/Organizing-Information-in-Information-Agencies/blob/master/mod6_l_READ.ipynb\" target=\"_parent\"><img src=\"https://colab.research.google.com/assets/colab-badge.svg\" alt=\"Open In Colab\"/></a>"
      ]
    },
    {
      "cell_type": "markdown",
      "metadata": {
        "id": "DFMKPJ7X8d43"
      },
      "source": [
        "\"Library of Congress Classification\" (Wikipedia, 2020)\r\n",
        "======================================================\r\n",
        "\r\n",
        "Whereas DDC is used in public, school, and small libraries principally, LCC is used in academic and research libraries like MU.\r\n",
        "\r\n",
        "*   LCC notation includes both numbers and letters—and periods.\r\n",
        "*   Class numbers are WHOLE NUMBERS (this is important for shelving).\r\n",
        "    *   Anything after the decimal is a decimal; anything before it is a whole number.\r\n",
        "\r\n",
        "Finish this Module by reading the article on LCC in Wikipedia. \r\n",
        "\r\n",
        "> Library of Congress Classification. (2020, December 26). In _Wikipedia_. [https://en.wikipedia.org/w/index.php?title=Library\\_of\\_Congress\\_Classification&oldid=996406066](https://en.wikipedia.org/w/index.php?title=Library_of_Congress_Classification&oldid=996406066) \r\n",
        "\r\n",
        "#### Notes\r\n",
        "\r\n",
        "*   LCC is structured very differently from DDC. Can you imagine why, given its uses and users?\r\n",
        "*   The article on LCC does not include information about criticisms—this does not mean that there are no criticisms!\r\n",
        "\r\n",
        "#### **Next**\r\n",
        "\r\n",
        "_And with that, you have arrived at the end of the content you are responsible for reading in module 6. Well done! The next set of resources are your resources for further study._"
      ]
    }
  ]
}