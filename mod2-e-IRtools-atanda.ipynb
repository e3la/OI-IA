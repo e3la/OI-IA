{
 "cells": [
  {
   "cell_type": "markdown",
   "metadata": {},
   "source": [
    "# \"Information Retrieval Tools: Catholicon to Accessing Library Resources\" (Atanda & Adeyemi, 2018).\n",
    "\n",
    "Retrieval tools may all have developed from print-based systems, but today, many retrieval tools have evolved to function more efficiently in computerized environments.\n",
    "\n",
    "> Atanda, L. A., & Adeyemi, S. A. (2018). Information retrieval tools: Catholicon to accessing library resources. _Research Journal of Library and Information Science, 2_(2), 30–35. [https://www.sryahwapublications.com/research-journal-of-library-and-information-science/pdf/v2-i2/4.pdf](https://www.sryahwapublications.com/research-journal-of-library-and-information-science/pdf/v2-i2/4.pdf)\n",
    "\n",
    "#### Notes\n",
    "\n",
    "*   From an international, open access journal, which provides a view and an understanding that these issues are not unique to libraries in the United States or North America. (Do not let grammatical errors in the article deter your reading.)\n",
    "*   This is a quick read that will serve as a review of topics covered so far. Useful in that it covers, \"the information retrieval problem.\"\n",
    "*   Of note:\n",
    "    *   \"The explosive growth of information has made it a matter of survival for companies to have at their disposal good information retrieval tools. \" (p. 31)\n",
    "*   Describes these \"major tools\": Catalogues, Classification Schemes, Indexes, Abstracts, Bibliographies. (Note: The description of Abstracts ended up as the abstract for the article, rather than with the description of the other tools on pages 32-34.) As you read, consider the place of each of these tools in the retrieval of information resources today.\n",
    "\n",
    "#### **Next**\n",
    "\n",
    "_Considering the importance of technology to the organization of information and information retrieval, the next page considers the beginning of the digital era in organization and retrieval -- a time when online systems were decidedly user-unfriendly. Librarians and programmers were the only ones with the knowledge to search in a number of systems. You will want to keep in mind why and how these systems were designed as a way to understand just how far retrieval (and organization) has come._"
   ]
  }
 ],
 "metadata": {
  "kernelspec": {
   "display_name": "Python 3",
   "language": "python",
   "name": "python3"
  },
  "language_info": {
   "codemirror_mode": {
    "name": "ipython",
    "version": 3
   },
   "file_extension": ".py",
   "mimetype": "text/x-python",
   "name": "python",
   "nbconvert_exporter": "python",
   "pygments_lexer": "ipython3",
   "version": "3.8.5"
  }
 },
 "nbformat": 4,
 "nbformat_minor": 4
}
