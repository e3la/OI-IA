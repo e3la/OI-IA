{
  "nbformat": 4,
  "nbformat_minor": 0,
  "metadata": {
    "colab": {
      "name": "mod10-a-fiximages.ipynb",
      "provenance": [],
      "authorship_tag": "ABX9TyMal4ZmLEUHNfrU14ygqsvR",
      "include_colab_link": true
    },
    "kernelspec": {
      "name": "python3",
      "display_name": "Python 3"
    },
    "language_info": {
      "name": "python"
    }
  },
  "cells": [
    {
      "cell_type": "markdown",
      "metadata": {
        "id": "view-in-github",
        "colab_type": "text"
      },
      "source": [
        "<a href=\"https://colab.research.google.com/github/e3la/Organizing-Information-in-Information-Agencies/blob/master/mod10_a_fiximages.ipynb\" target=\"_parent\"><img src=\"https://colab.research.google.com/assets/colab-badge.svg\" alt=\"Open In Colab\"/></a>"
      ]
    },
    {
      "cell_type": "markdown",
      "metadata": {
        "id": "Bb5rW23bYV8V"
      },
      "source": [
        "Welcome to Module 10. Linked Data\n",
        "=================================\n",
        "\n",
        "Surrogate records in libraries describe information resources and include such information as author names, titles, summaries, publishers, etc. Publisher websites include some of the same information for the information resources they are offering for sale. Digital libraries include similar information, plus digital versions of content. Information on authors can be found on author websites, Wikipedia, and on genealogical and biographical websites. Reviews of the information resources can be found on various sites, too. So, much of the information is duplicated on various sites. How can we make use of information stored in various databases and websites?\n",
        "\n",
        "The linking features of the internet and linked data technologies provide opportunities to share data with other sites and to make use of data published elsewhere. Linked data is an emerging technology for encoding data and has the possibility of upending the way content is stored, displayed, and made searchable.\n",
        "\n",
        "Technology is changing quickly, and with these advances come new opportunities for cultural heritage agencies to tap into emerging web-based standards.\n",
        "\n",
        "**![](https://missouri.instructure.com/courses/49361/files/8633283/download)Learning Objectives**\n",
        "-------------------------------------------------------------------------------------------------\n",
        "\n",
        "After completing this module, you will:\n",
        "\n",
        "*   Describe the basics of linked data and how linked data can be used in LAMS. \n",
        "*   Give examples of current projects and the goals of linked data.\n",
        "\n",
        "**![](https://missouri.instructure.com/courses/49361/files/8633254/download)Essential Questions**\n",
        "-------------------------------------------------------------------------------------------------\n",
        "\n",
        "*   Why is linked data, and in particular, _linked open data_, of interest to information professionals working in the cultural heritage sector? In what ways does it stand to revolutionize the work these information professionals do?\n",
        "*   What are potential sources of information that can be used to enhance tools and systems that are used in the organization of information?\n",
        "\n",
        "![](https://missouri.instructure.com/courses/49361/files/8633221/download)\n",
        "\n",
        "**Rationale**\n",
        "-------------\n",
        "\n",
        "Linked open data will permit libraries, archives, and museums to create connections and to show relationships that other technologies (like MARC) simply cannot accommodate. A number of initiatives are underway and will, in the future, change the way our retrieval tools work."
      ]
    }
  ]
}