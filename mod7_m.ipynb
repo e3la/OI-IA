{
  "nbformat": 4,
  "nbformat_minor": 0,
  "metadata": {
    "colab": {
      "name": "mod7-m.ipynb",
      "provenance": [],
      "authorship_tag": "ABX9TyM/wgYRfALW9BQe7u0nfwuY",
      "include_colab_link": true
    },
    "kernelspec": {
      "name": "python3",
      "display_name": "Python 3"
    }
  },
  "cells": [
    {
      "cell_type": "markdown",
      "metadata": {
        "id": "view-in-github",
        "colab_type": "text"
      },
      "source": [
        "<a href=\"https://colab.research.google.com/github/e3la/Organizing-Information-in-Information-Agencies/blob/master/mod7_m.ipynb\" target=\"_parent\"><img src=\"https://colab.research.google.com/assets/colab-badge.svg\" alt=\"Open In Colab\"/></a>"
      ]
    },
    {
      "cell_type": "markdown",
      "metadata": {
        "id": "BF-cpZGmmO7v"
      },
      "source": [
        "Key Ideas in IO: Markup Languages\r\n",
        "=================================\r\n",
        "\r\n",
        "**Defining Markup Languages**\r\n",
        "-----------------------------\r\n",
        "\r\n",
        "NISO (Riley, 2017) states that markup languages are a fourth a final kind of metadata. A markup language \"Integrates metadata and flags for other structural or semantic features within content\" (Riley, 2017, p. 6).\r\n",
        "\r\n",
        "**Table 1 Example Properties and Primary Uses for Markup Languages** **(Riley, 2017, p. 7)**\r\n",
        "\r\n",
        "| **Metadata Type** | **Example Properties** | **Primary Uses**                       |\r\n",
        "| ---------------------- | ---------------------------------------------- | ------------------------------------------- |\r\n",
        "| Markup languages        | Paragraph | Interoperability\r\n",
        "||  Heading |Navigation Interoperability\r\n",
        "||  List | Digital object management\r\n",
        "||  Name |||\r\n",
        "||  Date |||\r\n",
        "\r\n",
        "**Examples of Markup Languages**\r\n",
        "--------------------------------\r\n",
        "\r\n",
        "In module 4, HTML was given as an example markup language used on the web, and MARC as a markup language used in libraries. Will you be surprised to learn that there are a number of other markup languages used in digital repositories?\r\n",
        "\r\n",
        "Some, like XML and Dublin Core (i.e., the Dublin Core Metadata Element Set (DCMES)) can mark up the information about the resources you have—they allow for the creation of surrogates, the same way that MARC does. \r\n",
        "\r\n",
        "#### **Next**\r\n",
        "\r\n",
        "_To dive into the specifics of how metadata is encoded, the next pages look first to XML, then to Dublin Core._\r\n",
        "\r\n",
        "* * *\r\n",
        "\r\n",
        "#### Reference\r\n",
        "\r\n",
        "Riley, J. (2017). _Understanding metadata: What is metadata, and what is it for?_ National Information Standards Organization (NISO). [https://groups.niso.org/apps/group\\_public/download.php/17446/Understanding%20Metadata.pdf](https://groups.niso.org/apps/group_public/download.php/17446/Understanding%20Metadata.pdf)"
      ]
    }
  ]
}