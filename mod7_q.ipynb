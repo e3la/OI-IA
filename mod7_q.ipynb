{
  "nbformat": 4,
  "nbformat_minor": 0,
  "metadata": {
    "colab": {
      "name": "mod7-q.ipynb",
      "provenance": [],
      "authorship_tag": "ABX9TyNrx3gSJu9TLDjiLiS4+ZwD",
      "include_colab_link": true
    },
    "kernelspec": {
      "name": "python3",
      "display_name": "Python 3"
    }
  },
  "cells": [
    {
      "cell_type": "markdown",
      "metadata": {
        "id": "view-in-github",
        "colab_type": "text"
      },
      "source": [
        "<a href=\"https://colab.research.google.com/github/e3la/Organizing-Information-in-Information-Agencies/blob/master/mod7_q.ipynb\" target=\"_parent\"><img src=\"https://colab.research.google.com/assets/colab-badge.svg\" alt=\"Open In Colab\"/></a>"
      ]
    },
    {
      "cell_type": "markdown",
      "metadata": {
        "id": "Ed0gLOn9w0Wt"
      },
      "source": [
        "Key Ideas in IO: Embedded Metadata\r\n",
        "==================================\r\n",
        "\r\n",
        "Surrogate records by definition will \"stand in\" for the resource. Often in libraries, these resources are books that are physically located on a shelf, and the surrogate will be used in the retrieval system.\r\n",
        "\r\n",
        "What about, however, when the file itself is digital, and not physical?\r\n",
        "\r\n",
        "**Metadata Associated with Digital Photography in Online Content Sharing Platforms**\r\n",
        "------------------------------------------------------------------------------------\r\n",
        "\r\n",
        "Image files are incredibly complex, with much information embedded in the file that you, as a human user, can't see.\r\n",
        "\r\n",
        "#### What Is Involved in a Still Image File\r\n",
        "\r\n",
        "Still image files like digital photographs can be large or small, have a lot or very few colors, seem pixelated at high resolutions, or scale beautifully. Why is this? The National Archives explains:\r\n",
        "\r\n",
        "> [Still Image File (Links to an external site.)](https://www.archives.gov/preservation/products/definitions/raster-type.html): A type of digital object that is created from the digitization of still image (textual documents and photographs) originals. A still image is data in which a grid or raster of picture elements (pixels) has been mapped to represent a visual subject, e.g., the page of a book or a photograph. The term raster data is often contrasted with vector data, in which geometrical points, lines, curves, and shapes are based upon mathematical equations, thus creating an image without specific mapping of data to pixels. \\[From the [FADGI Glossary (Links to an external site.)](http://www.digitizationguidelines.gov/glossary.php)\\]\r\n",
        "\r\n",
        "Bit-depth, spatial resolution, and color encoding, for example, are all important characteristics of still images. Raster images can be stored in a variety of data formats, such as TIFF (.tif).\r\n",
        "\r\n",
        "Along with all the information that allows the photo to display properly, image files can also contain structured information about the photograph itself. Metadata!\r\n",
        "\r\n",
        "For example, if you have a GPS-enabled device with which you take photographs, the photographs you create will probably include embedded information about the latitude and longitude where you took the photo. If there's a clock on the device, the day and time will also be captured as part of the image file. The image itself will include information about the camera used, as well as the settings. Online platforms designed for sharing will also have information about who took the photo, what the title (or subject) is, when the photo was uploaded to the system, how other users have tagged it, and the comments left by users of the platform. Figure 1 shows a screenshot of an example from Flickr. \r\n",
        "\r\n",
        "Figure 1 **Screenshot** **of an Image File and Metadata in Flickr**\r\n",
        "\r\n",
        "[![Flickr hummingbird photo with metadata](cropped-flickr.png)](https://flickr.com/photos/shollingsworth/8752433737)\r\n",
        "\r\n",
        "_Note._ Retrieved from [https://www.flickr.com/photos/shollingsworth/8752433737.](https://www.flickr.com/photos/shollingsworth/8752433737)\r\n",
        "\r\n",
        "The image file is visible in the main panel, and Flickr helpfully displays some of the embedded metadata in the area below.\r\n",
        "\r\n",
        "What metadata do you see displayed in this screenshot that you do not have access to when just looking at the photo?\r\n",
        "\r\n",
        "**Web Pages**\r\n",
        "-------------\r\n",
        "\r\n",
        "Search engine optimization (SEO) is dependent, at least in part, on metadata in the html code of a webpage. See this example below and and check out a few webpages on your own. If you don't know how to view the html code of a webpage, do a search for the browser you are using and “source code.” Look for metadata information in the <head> information for the page. The content that displays publicly typically is in the <body> section of the html code.\r\n",
        "\r\n",
        "Online article: Miller, P. (1996). Metadata for the masses. _Ariadne, 5_. [http://www.ariadne.ac.uk/issue/5/metadata-masses/](http://www.ariadne.ac.uk/issue/5/metadata-masses/)\r\n",
        "\r\n",
        "The source code for this article includes the following metadata in the behind-the-scenes information embedded in the page. Not all webpages include such metadata, since its inclusion is optional.\r\n",
        "\r\n",
        "<meta http-equiv=\"X-UA-Compatible\" content=\"IE=edge\">  \r\n",
        "<meta name=\"**citation\\_journal\\_title**\" content=\"Ariadne\" />  \r\n",
        "<meta name=\"**citation\\_issn**\" content=\"1361-3200\">  \r\n",
        "<meta name=\"**citation\\_title**\" content=\"Metadata for the Masses\" />  \r\n",
        "<meta name=\"**citation\\_publication\\_date**\" content=\"1996\" /> <meta name=\"citation\\_issue\" content=\"5\" />  \r\n",
        "<meta name=\"**citation\\_author**\" content=\"paul miller\" />  \r\n",
        "<link rel=\"alternate\" type=\"application/x-bibtex\" href=\"http://www.ariadne.ac.uk/issue/5/metadata-masses/citation.bibtex\" title=\"Ariadne\" />\r\n",
        "\r\n",
        "This metadata is structured and encoded so that it can be read by a computer.\r\n",
        "\r\n",
        "![](metadata.png)\r\n",
        "\r\n",
        "Off and on, librarians explore the idea of using metadata embedded in digital objects as an alternative to surrogate records.  The idea has not caught on in libraries; library retrieval systems are dependent upon surrogate records.\r\n",
        "\r\n",
        "**Wikipedia**\r\n",
        "-------------\r\n",
        "\r\n",
        "Wikipedia makes much use of structured data. View this entry for Sanford Berman: [https://en.wikipedia.org/wiki/Sanford\\_Berman](https://en.wikipedia.org/wiki/Sanford_Berman). Note the summary box at the top right and the categories at the bottom of the record. (Unrelated to structured metadata, you will hear about Sanford Berman in a future module.)\r\n",
        "\r\n",
        "### **Summary**\r\n",
        "\r\n",
        "Metadata is used in information agencies and beyond. On the web, as in library retrieval tools, metadata can aid in the \"identification, discovery, selection, use, access, and management\" of resources.\r\n",
        "\r\n",
        "#### **Next**\r\n",
        "\r\n",
        "_More on embedded metadata, in files you may not expect._"
      ]
    }
  ]
}