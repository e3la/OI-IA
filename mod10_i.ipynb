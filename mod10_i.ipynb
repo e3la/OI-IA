{
  "nbformat": 4,
  "nbformat_minor": 0,
  "metadata": {
    "colab": {
      "name": "mod10-i.ipynb",
      "provenance": [],
      "authorship_tag": "ABX9TyOu2hgHH9TF1UMr4ZY7DlnS",
      "include_colab_link": true
    },
    "kernelspec": {
      "name": "python3",
      "display_name": "Python 3"
    },
    "language_info": {
      "name": "python"
    }
  },
  "cells": [
    {
      "cell_type": "markdown",
      "metadata": {
        "id": "view-in-github",
        "colab_type": "text"
      },
      "source": [
        "<a href=\"https://colab.research.google.com/github/e3la/Organizing-Information-in-Information-Agencies/blob/master/mod10_i.ipynb\" target=\"_parent\"><img src=\"https://colab.research.google.com/assets/colab-badge.svg\" alt=\"Open In Colab\"/></a>"
      ]
    },
    {
      "cell_type": "markdown",
      "metadata": {
        "id": "MBrO5j41a3mU"
      },
      "source": [
        "Key Ideas in LD: Graphs, Datastores, etc.\n",
        "=========================================\n",
        "\n",
        "You learned that linked data is a way of encoding and making data available so that machines can understand it and so that it can be integrated into the web of data that is being created. The last few pages in this module have given a bit of an overview of the technology and have contextualized how it might be used in LAMs. \n",
        "\n",
        "Information professionals do not need to be computer scientists! But, some basic understanding of a few of the technical elements can help you understand the affordances of linked data, and also its potential in LAMs. \n",
        "\n",
        "**Linked Data Defined for LAMs**\n",
        "--------------------------------\n",
        "\n",
        "In 2011, a group of experts in semantic web technology and LAMs was convened. This group was convened by the W3C (the World Wide Web Consortium), so their interest was somewhat technical. The report defines _linked data_ in the following way:\n",
        "\n",
        "> **Linked Data**. \"Linked Data\" refers to data published in accordance with [principles](http://www.w3.org/DesignIssues/LinkedData.html \"http://www.w3.org/DesignIssues/LinkedData.html\") designed to facilitate linkages among datasets, element sets, and value vocabularies \\[[LINKEDDATA](https://www.w3.org/2005/Incubator/lld/XGR-lld-20111025/#ref-LINKEDDATA)\\]. Linked Data uses [Uniform Resource Identifiers (URIs)](http://en.wikipedia.org/wiki/Uniform_Resource_Identifier \"http://en.wikipedia.org/wiki/Uniform_Resource_Identifier\") as globally unique identifiers for any kind of resource, analogously to how identifiers are used for authority control in traditional librarianship \\[[URI](https://www.w3.org/2005/Incubator/lld/XGR-lld-20111025/#ref-URI)\\]. In Linked Data, URIs may be [Internationalized Resource Identifiers (IRIs)](http://tools.ietf.org/html/rfc3987 \"http://tools.ietf.org/html/rfc3987\"), that is, [Web addresses](http://www.w3.org/International/articles/idn-and-iri/ \"http://www.w3.org/International/articles/idn-and-iri/\") that use the extended set of natural-language scripts supported by [Unicode](http://unicode.org/ \"http://unicode.org\"). Linked Data is expressed using standards such as [Resource Description Framework (RDF)](http://www.w3.org/RDF/ \"http://www.w3.org/RDF/\"), which specifies relationships between things; relationships that can be used for navigating between, or integrating, information from multiple sources \\[[RDF](https://www.w3.org/2005/Incubator/lld/XGR-lld-20111025/#ref-RDF)\\].\n",
        "\n",
        "All of these ideas are important to the mechanics of the standard, but this page will focus on exploring three in particular from a LAM-based perspective. It will finish by looking formally at one way linked data is usually visualized as supporting discovery. \n",
        "\n",
        "#### Linked Data Principles\n",
        "\n",
        "Follow the link above to learn more about the principles laid out by Sir Tim Berners-Lee. Those principles are not specifications, but rather are principles. Two of the more salient aspects are explored a bit more here: URIs and RDF triples. \n",
        "\n",
        "#### Uniform Resource Identifiers\n",
        "\n",
        "You are probably familiar with the abbreviation URL -- it stands for Uniform Resource Locator and it is a human-readable way to access pages on the world wide web. URLs are actually a kind of broad class of \"web addresses\" or URIs that can be typed into a browser. There are other completely valid things you can type into a browser address bar, too. \n",
        "\n",
        "The specific kind of web address used to support linked data is called a URI (Uniform Resource Identifier). Wikipedia defines [URI](https://en.wikipedia.org/wiki/Uniform_Resource_Identifier)s in the following way: \n",
        "\n",
        "> A **Uniform Resource Identifier** (**URI**) is a string that provides a unique address (either on the Internet or on another private network, such as a computer filesystem or an Intranet) where a resource can be found. It looks and is similar to the more commonly known [Uniform Resource Locator](https://en.wikipedia.org/wiki/Uniform_Resource_Locator \"Uniform Resource Locator\") (URL) that is used to locate web sites and pages within those sites. A URL is a kind of URI - all URLs are URIs, but not all URIs are valid URLs. URLs typically identify web pages that are meant to be viewed in a browser. URIs identify any type of resource, often meant to be used by a computer but not always to be viewed in a browser. The term \"URL\" most often refers to URIs that name webpages accessed with [HTTP](https://en.wikipedia.org/wiki/HTTP \"HTTP\"), while the term \"URI\" is used to indicate more general resources like email addresses (with `mailto:`) and local files (with `file:`)\n",
        "\n",
        "In short, the URI is a little bit less specific than a URL. For now, hold on to this idea until you see some URIs in action on the next page!\n",
        "\n",
        "#### Resource Description Framework (RDF) and Triples\n",
        "\n",
        "You have already seen how triples help computers understand the relationships between, for example, a book and its author.\n",
        "\n",
        "A book was written by an author.   \n",
        "An author wrote a book. \n",
        "\n",
        "These statements have subjects, predicates, and objects -- so they are _triples_. RDF is the way triples are encoded for use on the semantic web. \n",
        "\n",
        "**Other Important Aspects of Linked Data in LAMs**\n",
        "--------------------------------------------------\n",
        "\n",
        "A second document produced at the time the W3C Incubator Group's (2011) report was produced looked at what LAMs are already doing, and provided information professionals with a new vocabulary! Consider the following definitions and examples given: \n",
        "\n",
        "*   **Datasets**: In this report we focus on datasets as collections of structured metadata — descriptions of things, such as books in a library. The equivalent of a dataset in the library world is a collection of library records. Library records consist of statements about things, where each statement consists of an element (\"attribute\" or \"relationship\") of the entity, and a \"value\" for that element. The elements that are used are usually selected from a set of standard elements, such as [MARC21](https://www.w3.org/2005/Incubator/lld/XGR-lld-vocabdataset-20111025/#MARC) or [Dublin Core](https://www.w3.org/2005/Incubator/lld/XGR-lld-vocabdataset-20111025/#Dublin_Core) (DC). The values for the elements are either taken from value vocabularies such as the [Library of Congress Subject Headings](https://www.w3.org/2005/Incubator/lld/XGR-lld-vocabdataset-20111025/#Library_of_Congress_Subject_Headings_.28LCSH.29) (LCSH), or are free text values. Similar concepts to \"dataset\" include \"collection\" or \"metadata record set\". Note that in the Linked Data context, datasets do not necessarily consist of clearly identifiable \"records\". They are merely a consistent set of triples that can be queried or downloaded from a specific point, without making a strict distinction between metadata and data. We expect this view to impact the way the library community conceives of its own data, as it creates or re-uses [Resource Description Framework](http://www.w3.org/RDF/) (RDF) vocabularies with [domain and range settings](http://www.w3.org/TR/rdf-schema/#ch_properties \"http://www.w3.org/TR/rdf-schema/#ch_properties\") and documentation that conforms to [best practices](http://www.w3.org/TR/swbp-vocab-pub/ \"http://www.w3.org/TR/swbp-vocab-pub/\"). In addition, as more application cases emerge in which \"traditional\" descriptive metadata is being used together with other types of data, library data will probably take on a very different form.  \n",
        "    **Examples**:\n",
        "    *   a record from a dataset for a given book could have a subject element drawn from Dublin Core, and a value for subject drawn from LCSH.\n",
        "    *   the same dataset may contain records for authors as first-class entities that are linked from their book, and described with elements like \"name\" from [Friend of a Friend](https://www.w3.org/2005/Incubator/lld/XGR-lld-vocabdataset-20111025/#Friend_of_a_Friend_.28FOAF.29) (FOAF).\n",
        "    *   a dataset may be self-describing in that it contains information about itself as a distinct entity, for example by including date modified and maintainer/curator elements drawn from Dublin Core.\n",
        "\n",
        "*   **Value vocabularies**: A value vocabulary defines resources (such as instances of topics, art styles, or authors) that are used as values for elements in metadata records. Typically a value vocabulary does not define bibliographic resources such as books but rather concepts related to bibliographic resources (persons, languages, countries, etc.). They are \"building blocks\" with which metadata records can be populated. Many libraries mandate specific vocabularies for selecting values for a particular metadata element. A value vocabulary thus represents a controlled list of allowed values for an element. Examples include: thesauri, code lists, term lists, classification schemes, subject heading lists, taxonomies, authority files, digital gazetteers, concept schemes, and other types of knowledge organization systems. To be useful for linking of data, value vocabularies should have [Hypertext Transfer Protocol](http://www.w3.org/Protocols/) (HTTP) [Uniform Resource Identifiers](http://en.wikipedia.org/wiki/Uniform_Resource_Identifier) (URIs) assigned for each value; these URIs would then appear in a metadata record instead of or in addition to the literal value.  \n",
        "    **Examples**:\n",
        "    *   LCSH defines topics of works (e.g., [Travel](http://id.loc.gov/authorities/sh85137149 \"http://id.loc.gov/authorities/sh85137149\")).\n",
        "    *   The [Art and Architecture Thesaurus](https://www.w3.org/2005/Incubator/lld/XGR-lld-vocabdataset-20111025/#Art_and_Architecture_Thesaurus_.28AAT.29) (AAT) defines art styles (e.g., [Impressionist](http://www.getty.edu/vow/AATFullDisplay?find=impressionism&logic=AND&note=&english=N&prev_page=1&subjectid=300021503 \"http://www.getty.edu/vow/AATFullDisplay?find=impressionism&logic=AND&note=&english=N&prev_page=1&subjectid=300021503\")) among others.\n",
        "    *   The [Virtual International Authority File](https://www.w3.org/2005/Incubator/lld/XGR-lld-vocabdataset-20111025/#Virtual_International_Authority_File_.28VIAF.29) (VIAF) defines name authorities (e.g., [Mark Twain](http://viaf.org/viaf/50566653/ \"http://viaf.org/viaf/50566653/\")).\n",
        "    *   [GeoNames](https://www.w3.org/2005/Incubator/lld/XGR-lld-vocabdataset-20111025/#GeoNames) defines geographical locations (\"features\"), e.g., [Paris](http://sws.geonames.org/2988507/ \"http://sws.geonames.org/2988507/\").\n",
        "\n",
        "*   **Metadata element sets** or **element sets**: A metadata element set defines classes and attributes used to describe entities of interest. In Linked Data terminology, such element sets are generally made concrete through RDF Schemas or [OWL Web Ontology Language](http://www.w3.org/TR/owl-features/) ontologies, the term \"RDF vocabulary\" often being used as an umbrella for these. Usually a metadata element set does not describe bibliographic entities, rather it provides elements to be used by others to describe such entities.  \n",
        "    **Examples**:\n",
        "    *   Dublin Core defines elements such as Creator and Date (but DC does not define bibliographic records that use those elements).\n",
        "    *   [Functional Requirements for Bibliographic Records](https://www.w3.org/2005/Incubator/lld/XGR-lld-vocabdataset-20111025/#Functional_Requirements_for_Bibliographic_Records_.28FRBR.29_and_related_ontologies) (FRBR) defines entities such as Work and Manifestation, and elements that link and describe them. [RDA: Resource Description and Access](http://www.rda-jsc.org/rda.html) (RDA) defines elements for cataloging, based on the FRBR model.\n",
        "    *   MARC21 defines elements (fields) to describe bibliographic records and authorities.\n",
        "    *   FOAF defines elements to describe people that could be used for describing authors.\n",
        "\n",
        "All of these ideas should already be familar to you! The examples and how these concepts are being considered, however, might be brand new. With reconceptualizing the metadata and schema already created and in use, LAMs have the potential to integrate their content well beyond the walls of the traditional information agencies where content is housed.\n",
        "\n",
        "#### **Next**\n",
        "\n",
        "_Explore a dataset (aka data strore).  \n",
        "_\n",
        "\n",
        "* * *\n",
        "\n",
        "#### References\n",
        "\n",
        "W3C Incubator Group. (2011). _Library Linked Data Incubator Group: Datasets, Value Vocabularies, and Metadata Element Sets._ [https://www.w3.org/2005/Incubator/lld/XGR-lld-vocabdataset-20111025/](https://www.w3.org/2005/Incubator/lld/XGR-lld-vocabdataset-20111025/)\n",
        "\n",
        "W3C Incubator Group. (2011). _Library Linked Data Incubator Group Final Report._ [https://www.w3.org/2005/Incubator/lld/XGR-lld-20111025/](https://www.w3.org/2005/Incubator/lld/XGR-lld-20111025/)"
      ]
    }
  ]
}