{
  "nbformat": 4,
  "nbformat_minor": 0,
  "metadata": {
    "colab": {
      "name": "mod7-k.ipynb",
      "provenance": [],
      "authorship_tag": "ABX9TyPpjSevB0HUypPxbeCJnm1D",
      "include_colab_link": true
    },
    "kernelspec": {
      "name": "python3",
      "display_name": "Python 3"
    }
  },
  "cells": [
    {
      "cell_type": "markdown",
      "metadata": {
        "id": "view-in-github",
        "colab_type": "text"
      },
      "source": [
        "<a href=\"https://colab.research.google.com/github/e3la/Organizing-Information-in-Information-Agencies/blob/master/mod7_k.ipynb\" target=\"_parent\"><img src=\"https://colab.research.google.com/assets/colab-badge.svg\" alt=\"Open In Colab\"/></a>"
      ]
    },
    {
      "cell_type": "markdown",
      "metadata": {
        "id": "ULdSxOVOi58a"
      },
      "source": [
        "\"Rights Metadata Made Simple\" (Whalen, 2016)\r\n",
        "============================================\r\n",
        "\r\n",
        "> Whalen, M. (2016). Rights metadata made simple. In M. Baca (Ed.), _Introduction to metadata_ (3rd ed.). The Getty Research Institute. [http://www.getty.edu/publications/intrometadata/rights-metadata/](http://www.getty.edu/publications/intrometadata/rights-metadata/)\r\n",
        "\r\n",
        "#### Notes\r\n",
        "\r\n",
        "*   This chapter is from the same edited volume that included \"Setting the Stage\" (Gilliland, 2016) and the one about web metadata (Gill, 2016).\r\n",
        "\r\n",
        "#### **Next**\r\n",
        "\r\n",
        "_When you started out reading about metadata, you learned that there is metadata that users see, and metadata that is invisible to users, yet that can be very important for the system. Structural metadata is this second kind of metadata—although unseen by end users, it is essential for multi-part digital resources to be usable._"
      ]
    }
  ]
}