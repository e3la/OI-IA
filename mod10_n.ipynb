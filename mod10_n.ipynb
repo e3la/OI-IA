{
  "nbformat": 4,
  "nbformat_minor": 0,
  "metadata": {
    "colab": {
      "name": "mod10-n.ipynb",
      "provenance": [],
      "authorship_tag": "ABX9TyMKM8OCpHxCSSIRUq229cjB",
      "include_colab_link": true
    },
    "kernelspec": {
      "name": "python3",
      "display_name": "Python 3"
    },
    "language_info": {
      "name": "python"
    }
  },
  "cells": [
    {
      "cell_type": "markdown",
      "metadata": {
        "id": "view-in-github",
        "colab_type": "text"
      },
      "source": [
        "<a href=\"https://colab.research.google.com/github/e3la/Organizing-Information-in-Information-Agencies/blob/master/mod10_n.ipynb\" target=\"_parent\"><img src=\"https://colab.research.google.com/assets/colab-badge.svg\" alt=\"Open In Colab\"/></a>"
      ]
    },
    {
      "cell_type": "markdown",
      "metadata": {
        "id": "0Rg7sBW9HtX2"
      },
      "source": [
        "Data Sources and Final Thoughts\n",
        "===============================\n",
        "\n",
        "**Data Sources**\n",
        "----------------\n",
        "\n",
        "How developed is the Linked Data Web of Data? Where and when can LAMs plug in their content?\n",
        "\n",
        "The W3C description of Linked Data includes the statement, \"To make the Web of Data a reality, it is important to have the huge amount of data on the Web available in a standard format, reachable and manageable by Semantic Web tools\" (W3C, n.d.).\n",
        "\n",
        "The Linked Open Data Cloud is a visual presentation of datasets, value vocabularies, and metadata elements than can be utilized in linked data applications.\n",
        "\n",
        "Insight Centre for Data Analytics. (n.d.) The linked open data cloud. [https://lod-cloud.net/clouds/lod-cloud.svg](https://lod-cloud.net/clouds/lod-cloud.svg)\n",
        "\n",
        " About the diagram\n",
        "\n",
        "> This web page is the home of the _LOD cloud diagram_. This image shows datasets that have been published in the Linked Data format.\n",
        "> \n",
        "> The dataset currently contains **1260** datasets with **16187** links (as of May 2020)\n",
        "\n",
        "The Linked Data Cloud includes content created and maintained by LAMs including:\n",
        "\n",
        "*   [Library of Congress Subject Headings](https://lod-cloud.net/dataset/lcsh)\n",
        "*   [Faceted Application of Subject Terminology](https://lod-cloud.net/dataset/oclc-fast)\n",
        "*   [MARC Codes List](https://lod-cloud.net/dataset/marc-codes)\n",
        "*   [VIAF: The Virtual International Authority File](https://lod-cloud.net/dataset/viaf)\n",
        "*   [Art & Architecture Thesaurus](https://lod-cloud.net/dataset/getty-aat)\n",
        "\n",
        "Browse the content included in the Linked Data Cloud: [https://lod-cloud.net/datasets](https://lod-cloud.net/datasets) What do you observe?\n",
        "\n",
        "**Final Thoughts on Linked Data**\n",
        "---------------------------------\n",
        "\n",
        "Building a networked web of \"data\" (notice, this term is being used in a way that is very different from the way IO defined in in the first module when the DIWK pyramid was studied!) is a challenge.\n",
        "\n",
        "So much that LAMs are doing in terms of their technology relies on the success of the semantic web ideal. The descriptive cataloging standard RDA was developed to support the publication of LAM content as linked data. Yet, a critical voice might point out that LAM data, especially library data, has been siloed in MARC for generations, and moving to silo LAM data in the semantic web in the future is not an improvement. \n",
        "\n",
        "Other critical voices express concern over the problem that occurs when industry and the private sector are not invested in a technology -- until businesses are publishing their data on the semantic web, what use is it for the non-profit sector to fund the initiative? \n",
        "\n",
        "Futher complaints point to to the multiplicity of datastores, the lack of oversight and resulting redundancy, and the overall lack of cohesion of resources. \n",
        "\n",
        "Ultimagely, a lot about linked data is unknown at present. It is very promising, but the infrastructure needs to be in place for it to work. BIBFRAME seems to be somewhat stalled out at present, and RDA's promise cannot be fully realized in the current MARC environment. Where does this leave LAMs as they move forward with their technology? \n",
        "\n",
        "#### **Next**\n",
        "\n",
        "_This page is the final page of formal content in the Module. Look to the next page for information about resources for further study of linked data from an LIS perspective._\n",
        "\n",
        "* * *\n",
        "\n",
        "#### Reference\n",
        "\n",
        "W3C. (n.d.) Linked data. [https://www.w3.org/standards/semanticweb/data](https://www.w3.org/standards/semanticweb/data)"
      ]
    }
  ]
}