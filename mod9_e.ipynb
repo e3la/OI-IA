{
  "nbformat": 4,
  "nbformat_minor": 0,
  "metadata": {
    "colab": {
      "name": "mod9-e.ipynb",
      "provenance": [],
      "authorship_tag": "ABX9TyOpjIFkT01Z132bS4vlFuaw",
      "include_colab_link": true
    },
    "kernelspec": {
      "name": "python3",
      "display_name": "Python 3"
    },
    "language_info": {
      "name": "python"
    }
  },
  "cells": [
    {
      "cell_type": "markdown",
      "metadata": {
        "id": "view-in-github",
        "colab_type": "text"
      },
      "source": [
        "<a href=\"https://colab.research.google.com/github/e3la/Organizing-Information-in-Information-Agencies/blob/master/mod9_e.ipynb\" target=\"_parent\"><img src=\"https://colab.research.google.com/assets/colab-badge.svg\" alt=\"Open In Colab\"/></a>"
      ]
    },
    {
      "cell_type": "markdown",
      "metadata": {
        "id": "dF_1VghEIrBc"
      },
      "source": [
        "\"Describing Relationships and Structures\" (Glushko et al., 2016)—TDO Chapter 6\n",
        "==============================================================================\n",
        "\n",
        "In this course, you have learned that databases are often the systems in which digital content (either digital surrogates or digital/digitized resources, or both) is held. In the last Module, you gave thought to design considerations relevant to online catalogs.\n",
        "\n",
        "Digital libraries can be very different and as you have seen, contain content that is diverse, use different systems, metadata standards, etc.\n",
        "\n",
        "How is information stored—especially when considering the potential to move away from surrogate-by-surrogate structures for organizing? This chapter in the Glushko OER focuses on relationships between resources in a collection (be it a digital collection, a collection of surrogates, etc.) and how those resources might be organized and retrieved.\n",
        "\n",
        "One really interesting thing about this chapter is that it discusses semantic relationships that will reinforce your work on the thesaurus, and perhaps will help you think about the relationships between ideas in a novel way (for this, pay special attention to section 6.3 The Semantic Perspective and 6.4 The Structural Perspective).\n",
        "\n",
        "> Glushko, R. J., Mayernik, M., Pepe, A., & Malone, M. (2016). Describing relationships and structures. In R. J. Glushko (Ed.), _The discipline of organizing_ (4th ed., Professional ed., pp. 297-347). MIT Press. [https://ischools.org/resources/Documents/Discipline%20of%20organizing/Professional/TDO4-Prof-CC-Chapter6.pdf](https://ischools.org/resources/Documents/Discipline%20of%20organizing/Professional/TDO4-Prof-CC-Chapter6.pdf)\n",
        "\n",
        "#### Notes\n",
        "\n",
        "*   Make sure you understand these broad, overarching concepts presented here, as they will be important in a later Module which focuses on linked data.\n",
        "    *   This chapter presents linked data in a cursory way. Our OER will take a much deeper dive in a later Module.\n",
        "    *   Making sense of linked data will be a lot more challenging if you do not already understand some of these aspects of relationships presented here.\n",
        "*   Loads of other ideas relating to things this OER has covered and will cover are woven into this chapter. It should present a really nice excuse for your brain to move back and see things from another perspective.\n",
        "*   Pay attention to the Navigating This Chapter box on page 300—it will guide your reading as you go. You may need to consult it again, just to situate yourself, before reading each sub-section.\n",
        "*   As always, the Key Points in Chapter Six (pp. 338–340) serve as a great self-assessment.\n",
        "\n",
        "#### **Next**\n",
        "\n",
        "_On the next page, the focus turns to digital libraries in particular._"
      ]
    }
  ]
}