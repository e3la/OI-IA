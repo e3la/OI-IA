{
  "nbformat": 4,
  "nbformat_minor": 0,
  "metadata": {
    "colab": {
      "name": "mod9-a.ipynb",
      "provenance": [],
      "authorship_tag": "ABX9TyOzk57B+rB+c2wgvAQdtKh3",
      "include_colab_link": true
    },
    "kernelspec": {
      "name": "python3",
      "display_name": "Python 3"
    },
    "language_info": {
      "name": "python"
    }
  },
  "cells": [
    {
      "cell_type": "markdown",
      "metadata": {
        "id": "view-in-github",
        "colab_type": "text"
      },
      "source": [
        "<a href=\"https://colab.research.google.com/github/e3la/Organizing-Information-in-Information-Agencies/blob/master/mod9_a.ipynb\" target=\"_parent\"><img src=\"https://colab.research.google.com/assets/colab-badge.svg\" alt=\"Open In Colab\"/></a>"
      ]
    },
    {
      "cell_type": "markdown",
      "metadata": {
        "id": "KBFhQ43l2oql"
      },
      "source": [
        "Welcome to Module 9. Systems and System Design in Digital Libraries\n",
        "===================================================================\n",
        "\n",
        "Systems and System Design in Digital Libraries\n",
        "==============================================\n",
        "\n",
        "In the last Module, you learned more specifics about library catalogs—or catalogs of materials in any number of information agencies. Catalogs are far from being monolithic, yet certain characteristics are essential for a library catalog to be a catalog in the online environment. Digital libraries, however, can vary vastly from one installation to the next. Context including the digital content, users, infrastructure, staffing, etc. can lead to different decisions about the best way to organize and present content in these environments.\n",
        "\n",
        "**![](objectives-icon.png)Learning Objectives**\n",
        "\n",
        "After completing this module, you will be able to:\n",
        "\n",
        "*   Explain the difference between an online catalog (metadata only) and a digital library (metadata and digital content).\n",
        "*   Identify types and purposes of various digital libraries, including digital repositories and institutional repositories, digital archives, and data repositories.\n",
        "*   Explore and note differences in design, functionality, and content of several digital libraries.\n",
        "\n",
        "**![](essential-questions-icon.png)Essential Questions**\n",
        "-------------------------------------------------------------------------------------------------\n",
        "\n",
        "*   In what ways are the users and content of digital libraries different from other information systems? How will this affect practice? \n",
        "*   What technological affordances allow for these unique needs to be met?\n",
        "\n",
        "![](rationale-icon.png)\n",
        "\n",
        "**Rationale**\n",
        "-------------\n",
        "\n",
        "Libraries have been around for a long, long time, and have adapted their approaches to the modern technological affordances that are available. In this case, those are digital library systems.\n",
        "\n",
        "![](important-icon-white.png)  \n",
        "**Note: What's in a Name?**\n",
        "--------------------------------------------------------------------------------------------------------\n",
        "\n",
        "Many of these digital library environments tend to be overseen in academic and special libraries by information professionals who go by the title \"metadata librarian\" or \"digital librarian\"—as you read this Module, notice how digital library work is similar to but also different from the work done by cataloging librarians who maintain online catalogs."
      ]
    }
  ]
}