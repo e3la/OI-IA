{
  "nbformat": 4,
  "nbformat_minor": 0,
  "metadata": {
    "colab": {
      "name": "mod7-p-fixodlis.ipynb",
      "provenance": [],
      "authorship_tag": "ABX9TyPujbHT+6BU1UY7+USHccQ9",
      "include_colab_link": true
    },
    "kernelspec": {
      "name": "python3",
      "display_name": "Python 3"
    }
  },
  "cells": [
    {
      "cell_type": "markdown",
      "metadata": {
        "id": "view-in-github",
        "colab_type": "text"
      },
      "source": [
        "<a href=\"https://colab.research.google.com/github/e3la/Organizing-Information-in-Information-Agencies/blob/master/mod7_p_fixodlis.ipynb\" target=\"_parent\"><img src=\"https://colab.research.google.com/assets/colab-badge.svg\" alt=\"Open In Colab\"/></a>"
      ]
    },
    {
      "cell_type": "markdown",
      "metadata": {
        "id": "Ed0gLOn9w0Wt"
      },
      "source": [
        "Creating and Managing Metadata\r\n",
        "==============================\r\n",
        "\r\n",
        "**\"Flavors\" of Metadata**\r\n",
        "=========================\r\n",
        "\r\n",
        "![](metadata-icon.png)  \r\n",
        "It may be coming clear that there are actually many different kinds of metadata that can describe many kinds of resources. The users, the retrieval tool, the nature of the resource, and the context for use will all determine the kinds of metadata that are recorded or used by the system.\r\n",
        "\r\n",
        "Consider these aspects of metadata:\r\n",
        "\r\n",
        "*   Some metadata is created automatically, some manually.\r\n",
        "*   Some metadata is used behind the scenes and some is exposed for user by users.\r\n",
        "*   Some metadata helps end users understand what the resource is about or who made it, etc.\r\n",
        "*   Some metadata helps end users understand whether they have permission to use, for example, a digital file.\r\n",
        "*   Some metadata helps databases display digital files correctly.\r\n",
        "*   Other metadata helps users understand whether a file is authentic, or the most recent version.\r\n",
        "\r\n",
        "Previous modules on metadata related to resources description and subject content assumed that much of the metadata was created by humans. Not all metadata is.\r\n",
        "\r\n",
        "**Automatically Generated Metadata**\r\n",
        "------------------------------------\r\n",
        "\r\n",
        "Whether metadata is created manually or automatically depends on the metadata, the system, the needs of the user,  and the expertise of the information intermediary. Most of the descriptive metadata used in the information professions is created manually, and most of the technical metadata is created automatically. On the web, most everything is done automatically. In digital libraries and digital archives, a mix of the two environments might be found. \r\n",
        "\r\n",
        "What is the automated creation of metadata? Technical metadata such as the metadata in Flickr images is created at the time the file is created and is immediately embedded. Other metadata might be created later. For example, optical character recognition (OCR) is usually run over a file after the image is created. OCR enables the text of the file to be searchable. Compare the following two documents: one is basically a digital photo of a document, the other is the same file, but has had OCR and has corrected the text and made it searchable.\r\n",
        "\r\n",
        "[Example 1](Extension-NoOCR.jpg)\r\n",
        "\r\n",
        "[Example 2](/Extension-OCR.pdf)\r\n",
        "\r\n",
        "The ODLIS defines [optical character recognition](https://products.abc-clio.com/ODLIS/odlis_o.aspx#opticalcharacter) in the following way: \r\n",
        "\r\n",
        "> A process by which [characters](https://products.abc-clio.com/ODLIS/odlis_c.aspx#character) typed or [printed](https://products.abc-clio.com/ODLIS/odlis_p.aspx#printing) on a [page](https://products.abc-clio.com/ODLIS/odlis_p.aspx#page) are electronically [scanned](https://products.abc-clio.com/ODLIS/odlis_s.aspx#scanner), analyzed, and if found recognizable on the basis of appearance, [converted](https://products.abc-clio.com/ODLIS/odlis_d.aspx#dataconversion) into a [digital](https://products.abc-clio.com/ODLIS/odlis_d.aspx#digital) character code capable of being [processed](https://products.abc-clio.com/ODLIS/odlis_d.aspx#dataprocessing) by a computer. OCR eliminates the time-consuming process of re-keying [information](https://products.abc-clio.com/ODLIS/odlis_i.aspx#information) produced in [print](https://products.abc-clio.com/ODLIS/odlis_p.aspx#print), but results can be unpredictable if the scanned [copy](https://products.abc-clio.com/ODLIS/odlis_c.aspx#copy) is imperfect or contains [diacritical mark](https://products.abc-clio.com/ODLIS/odlis_d.aspx#diacriticalmark)s or unrecognizable characters. Compare with [intelligent character recognition](https://products.abc-clio.com/ODLIS/odlis_i.aspx#icr) (ICR).\r\n",
        "\r\n",
        "The book edited by Murtha Baca (2016) and published by the Getty called _Introduction to Metadata_ has a fantastic glossary. The definition for [automatic indexing](http://www.getty.edu/publications/intrometadata/glossary/#automatic_indexing) it provides is the following:\r\n",
        "\r\n",
        "> **automatic indexing**\r\n",
        "> \r\n",
        "> In the context of online retrieval, indexing by the analysis of text or other content using computer algorithms. The focus is on automatic, behind-the-scenes methods involving little or no input from individual searchers, with the exception of relevance feedback.\r\n",
        "\r\n",
        "Metadata can take many forms, it can be visible or invisible to users and to information intermediaries. One thing to remember, if any of this starts to seem too daunting, is that consistency is key. If metadata is used and applied consistently, that goes a long way toward ensuring future use and usability.\r\n",
        "\r\n",
        "#### **Next**\r\n",
        "\r\n",
        "_Another \"flavor\" of metadata: metadata embedded in digital objects._"
      ]
    }
  ]
}