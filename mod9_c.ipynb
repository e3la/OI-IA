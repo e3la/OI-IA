{
  "nbformat": 4,
  "nbformat_minor": 0,
  "metadata": {
    "colab": {
      "name": "mod9-c.ipynb",
      "provenance": [],
      "authorship_tag": "ABX9TyO5tjPE8zHy6vvLE6xDzDhz",
      "include_colab_link": true
    },
    "kernelspec": {
      "name": "python3",
      "display_name": "Python 3"
    },
    "language_info": {
      "name": "python"
    }
  },
  "cells": [
    {
      "cell_type": "markdown",
      "metadata": {
        "id": "view-in-github",
        "colab_type": "text"
      },
      "source": [
        "<a href=\"https://colab.research.google.com/github/e3la/Organizing-Information-in-Information-Agencies/blob/master/mod9_c.ipynb\" target=\"_parent\"><img src=\"https://colab.research.google.com/assets/colab-badge.svg\" alt=\"Open In Colab\"/></a>"
      ]
    },
    {
      "cell_type": "markdown",
      "metadata": {
        "id": "ErWZbijUHYUR"
      },
      "source": [
        "Key Ideas in IO: \"Digital Library\" versus \"Digital Library\"\n",
        "===========================================================\n",
        "\n",
        "**What Do You Mean When You Say _Digital Library_?** \n",
        "-----------------------------------------------------\n",
        "\n",
        "The previous page covered digital libraries as systems that organize digital content. That use of the term is as an umbrella term describing a variety of digital systems that organize digital content. Depending on the context, people may mean very specific, though different things when they use the term \"digital library.\" Two very different meanings for a digital library are noted below.\n",
        "\n",
        "#### Digital Library—A Local System That Organizes Locally Digitized Content\n",
        "\n",
        "In this OER, \"digital library\" refers to a digital system in which the content is created or collected by the local LAM or a LAM community. The full-text content may be digitized versions of local resources or born-digital content created by a community.  \n",
        "\n",
        "Two examples:\n",
        "\n",
        "The [UMSL Digital Library](https://dl.mospace.umsystem.edu/umsl/) at the University of Missouri—St. Louis includes the digitized content of library information resources at UMSL. As noted on the [About page](https://dl.mospace.umsystem.edu/umsl/content/about), \"perhaps the largest use of this digital library is to provide access to archival materials from the collections of the St. Louis Mercantile Library, the oldest library west of the Mississippi River.\"  \n",
        "\n",
        "[Knowledge Bank](https://library.osu.edu/kb) at the Ohio State Universities states that its [mission](https://library.osu.edu/kb/faqs#what_is_kb) is to \"collect, preserve, and distribute digitally formatted intellectual output of the Ohio State faculty, staff and students, that is currently or will be of research interest.\"\n",
        "\n",
        "#### Digital Library—In Other Contexts\n",
        "\n",
        "As with other specialized terms used in IO, \"digital library\" can mean different things to different people (remember the question of \"search versus browse\"?).\n",
        "\n",
        "In other contexts the concept of a digital library includes full-text databases to which a library subscribes. The Greenwich Library (Greenwich, Connecticut) has a page labeled, \"[Digital Library](https://www.greenwichlibrary.org/digital-library).\" Content on that page includes commercial subscription-based resources that you may recognize from libraries you use:\n",
        "\n",
        "*   [Kanopy](https://www.kanopy.com/) \n",
        "*   [OverDrive](https://www.overdrive.com/) audio books \n",
        "*   [RBDigital](https://rbdigital.rbdigital.com/) audiobooks\n",
        "*   [hoopla](https://www.hoopladigital.com/)\n",
        "*   [Naxos Music Library](https://www.naxosmusiclibrary.com/)\n",
        "\n",
        "Another use of the term may be to describe all the digital content available to the users of a LAM. The LAM may provide a single search interface for the digital collections which may give the impression of a single system.\n",
        "\n",
        "These two instances are not considered digital libraries in this OER. Subscription-based resources, such as Kanopy, are not part of this OER. Search interfaces provided by a LAM, while not considered digital libraries, are covered under discovery services.\n",
        "\n",
        "**Lesson:** When you hear the term \"digital library\" carefully consider what the user means. Is the content created or collected by the local LAM or a LAM community, is it a commercial product, or is it another online service that provides access to digital information resources?\n",
        "\n",
        "#### **Next**\n",
        "\n",
        "_The next page explores more fully the gamut of ideas meant in IO by \"digital library\" along with the digital nature of content these digital libraries contain._"
      ]
    }
  ]
}