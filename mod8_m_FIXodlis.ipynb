{
  "nbformat": 4,
  "nbformat_minor": 0,
  "metadata": {
    "colab": {
      "name": "mod8-m-FIXodlis.ipynb",
      "provenance": [],
      "authorship_tag": "ABX9TyNZQkEpIDmsFuzw2MbUW7DR",
      "include_colab_link": true
    },
    "kernelspec": {
      "name": "python3",
      "display_name": "Python 3"
    }
  },
  "cells": [
    {
      "cell_type": "markdown",
      "metadata": {
        "id": "view-in-github",
        "colab_type": "text"
      },
      "source": [
        "<a href=\"https://colab.research.google.com/github/e3la/Organizing-Information-in-Information-Agencies/blob/master/mod8_m_FIXodlis.ipynb\" target=\"_parent\"><img src=\"https://colab.research.google.com/assets/colab-badge.svg\" alt=\"Open In Colab\"/></a>"
      ]
    },
    {
      "cell_type": "markdown",
      "metadata": {
        "id": "IeAnFhpHHQF6"
      },
      "source": [
        "Key Ideas in IO: Discovery Services\r\n",
        "===================================\r\n",
        "\r\n",
        "**Discovery Services in Libraries**\r\n",
        "-----------------------------------\r\n",
        "\r\n",
        "#### Discovery Services Change the Picture for Catalogs\r\n",
        "\r\n",
        "How users find the information resources in a library has changed over time, in conjunction with the technologies provided.\r\n",
        "\r\n",
        "1980\r\n",
        "====\r\n",
        "\r\n",
        "An undergraduate is looking for resources for a history paper. She goes to the library. (Yes, she physically goes to the library.) She checks the card catalog for books on her topic. She also needs journal articles so she goes to the index table and checks the subject index in Reader's Guide, a popular general subject index. She writes down the information she needs and heads to the shelves to find the books and journals she needs.\r\n",
        "\r\n",
        "*   The two main types of retrieval tools are the catalog and the periodical indexes. The undergraduate searches each separately. The catalog is the main source for information about books and some of the other material owned the library.  \r\n",
        "\r\n",
        "2000\r\n",
        "====\r\n",
        "\r\n",
        "An undergraduate is looking for resources for a history paper. He may go to the library or he may search remotely. He searches the online catalog for books on his topic. Then, to find articles, he identifies a few online databases that cover the topics he needs and searches those. He probably has to go to the library to retrieve the books he needs, though some may be online. Many of the articles he needs may be online, but he may need to go to the library to find the ones only available in print.\r\n",
        "\r\n",
        "*   The two main types of retrieval tools he uses are the online catalog and databases. The undergraduate searches the online catalog and each database separately. The online catalog is the main source for information about books and other material owned by the library.\r\n",
        "\r\n",
        "2020\r\n",
        "====\r\n",
        "\r\n",
        "An undergraduate is looking for resources for a history paper. She may search Google. But, it is reasonable to assume she has been to a library instruction class and knows that the library provides authoritative and scholarly resources. She logs onto the library's website and in the prominent search box (just like Google) she searches for her topic. Unbeknownst to her, she is able to search the contents of the online catalog and all the databases in one search.\r\n",
        "\r\n",
        "*   The single retrieval tool she uses is a **discovery service.** It includes information about the material owned by the library and the resources to which the library subscribes.\r\n",
        "\r\n",
        "**What Is a Discovery Service?**\r\n",
        "--------------------------------\r\n",
        "\r\n",
        "The ODLIS defines [discovery service](https://products.abc-clio.com/ODLIS/odlis_d.aspx#discoveryservice)\r\n",
        "\r\n",
        "in the following way:\r\n",
        "\r\n",
        "> A single [interface](https://products.abc-clio.com/ODLIS/odlis_i.aspx#interface), providing integrated [access](https://products.abc-clio.com/ODLIS/odlis_a.aspx#access) to the multiple [information](https://products.abc-clio.com/ODLIS/odlis_i.aspx#information) resources ([catalog](https://products.abc-clio.com/ODLIS/odlis_c.aspx#catalog)s, [publishers](https://products.abc-clio.com/ODLIS/odlis_p.aspx#publisher)' [e-book](https://products.abc-clio.com/ODLIS/odlis_e.aspx#electronicbook) and [e-journal](https://products.abc-clio.com/ODLIS/odlis_e.aspx#electronicjournal) collections, [subscription](https://products.abc-clio.com/ODLIS/odlis_s.aspx#subscription) [database](https://products.abc-clio.com/ODLIS/odlis_d.aspx#database)s, [archival](https://products.abc-clio.com/ODLIS/odlis_a.aspx#archives) collections) to which a [library](https://products.abc-clio.com/ODLIS/odlis_l.aspx#library) has [rights](https://products.abc-clio.com/ODLIS/odlis_r.aspx#rights). Discovery systems use consolidated [subject](https://products.abc-clio.com/ODLIS/odlis_s.aspx#subject) [indexing](https://products.abc-clio.com/ODLIS/odlis_i.aspx#indexing) and [metadata](https://products.abc-clio.com/ODLIS/odlis_m.aspx#metadata). [Search](https://products.abc-clio.com/ODLIS/odlis_s.aspx#search) results are generally [deduped](https://products.abc-clio.com/ODLIS/odlis_d.aspx#deduping) and [relevance ranked](https://products.abc-clio.com/ODLIS/odlis_r.aspx#relevanceranking) (_example_: [EBSCO Discovery Service](http://www.ebscohost.com/discovery/eds-about)). For an in-depth discussion of discovery services see the [article](https://products.abc-clio.com/ODLIS/odlis_a.aspx#article) by William Miller in the March 2012 [issue](https://products.abc-clio.com/ODLIS/odlis_i.aspx#issue) of [_Library Issues_](http://www.libraryissues.com/).\r\n",
        "\r\n",
        "You can learn several things from this definition. First, and perhaps most important, is the fact that a discovery service provides access to a variety of kinds of library content through a single search box. Think about this from the perspective of a user! Users no longer need to know, for example, if an electronic resource is included in the library's catalog, if it is in the digital library, if it is housed in an external source, etc.! They no longer need to know specifics about the best way to search, either.\r\n",
        "\r\n",
        "Discovery services, in other words, help users with the \"find\" functionality. By removing the need to know specifics about how materials are organized, they allow the user's focus to move to finding relevant resources.\r\n",
        "\r\n",
        "You can also see from the definition above that librarians have been writing about discovery services for quite a while. These are not new, but as technology improves, so too do the discovery services available.\r\n",
        "\r\n",
        "#### Discovery Services Allow Access to Catalog Records AND Other Resources (Databases, Digital Libraries, Web Resources, etc.)\r\n",
        "\r\n",
        "The advent of discovery services has changed the place of online catalogs from a spot at center stage to a less-central spot aside a variety of other resources.\r\n",
        "\r\n",
        "#### Are Discovery Services Changing Library Catalog Content?\r\n",
        "\r\n",
        "Of relevance to the discussion on this page, the use of discovery services has lead to another transition in content of the online catalog. As noted above, at one time the catalog included bibliographic records for the tangible content owned by a library. Then, with the adoption of online catalogs and online library resources, bibliographic records for the online resources—whether they were owned or subscribed to—were added to the online catalog.\r\n",
        "\r\n",
        "Now, as discovery services offer a single search option and provide an excellent alternative to searching for online resources, some libraries are shifting the focus of their online catalogs back to tangible items owned by the library and may not include bibliographic records for online resources in the catalog. 1) Adding and maintaining records for thousands of online resources is time consuming. 2) Discovery services provide more sophisticated search options.\r\n",
        "\r\n",
        "### **Discovery Service**\r\n",
        "\r\n",
        "\"A discovery service is an online library searching tool that provides an all-in-one interface for finding both local library items and online subscription and open access resources\" (Day, 2017, para. 1). As described by Marshall Breeding (2015), the discovery services (or systems) \"provide a central index populated by resources that represent the general body of content of interest to libraries\" (p. 2). The bibliographic records from the online catalog, from databases, from local repositories (such as an institutional repository), and other resources are aggregated in this one search tool. \r\n",
        "\r\n",
        "#### The End of the Online Catalog?\r\n",
        "\r\n",
        "Q: Does the development of discovery services herald the end of the online catalog?\r\n",
        "\r\n",
        "A: No!\r\n",
        "\r\n",
        "*   OPACs are still used even when libraries have discovery services. Some library users (especially power users) prefer to search the online catalog directly rather than sorting through the search results in a discovery service.\r\n",
        "*   Some libraries do not have discovery services, so the role of the OPAC has not changed. It continues to be the primary system used to identify what the information resources of a library.\r\n",
        "*   Online catalogs, and particularly integrated library systems, still have a role in the management of library resources.\r\n",
        "\r\n",
        "So, in their various formats, OPACs or ILSs or online library catalogs are still important in the management and discovery of library resources. The development of some vendor-supplied online catalogs has stalled, however, as vendor-supplied discovery services supplant them as preferred search and retrieval systems.\r\n",
        "\r\n",
        "#### **Next**\r\n",
        "\r\n",
        "_Take a look at an article about discovery systems, also called discovery layers, and how they are of interest throughout the library._\r\n",
        "\r\n",
        "* * *\r\n",
        "\r\n",
        "#### References\r\n",
        "\r\n",
        "Day, J. M. (March 8, 2017). Discovery services: Basics and resources. _Library Technology Launchpad_. [https://libtechlaunchpad.com/2017/03/08/discovery-services-basics-and-resources/](https://libtechlaunchpad.com/2017/03/08/discovery-services-basics-and-resources/)\r\n",
        "\r\n",
        "Breeding, M. (2015). The future of library resource discovery: A white paper commissioned by the NISO Discovery to Delivery (D2D) Topic Committee. NISO. [https://groups.niso.org/apps/group\\_public/download.php/14487/future\\_library\\_resource\\_discovery.pdf](https://groups.niso.org/apps/group_public/download.php/14487/future_library_resource_discovery.pdf)"
      ]
    }
  ]
}