{
  "nbformat": 4,
  "nbformat_minor": 0,
  "metadata": {
    "colab": {
      "name": "mod12-i.ipynb",
      "provenance": [],
      "authorship_tag": "ABX9TyP0mi4YGqYG8Ig/LquBZxrI",
      "include_colab_link": true
    },
    "kernelspec": {
      "name": "python3",
      "display_name": "Python 3"
    },
    "language_info": {
      "name": "python"
    }
  },
  "cells": [
    {
      "cell_type": "markdown",
      "metadata": {
        "id": "view-in-github",
        "colab_type": "text"
      },
      "source": [
        "<a href=\"https://colab.research.google.com/github/e3la/Organizing-Information-in-Information-Agencies/blob/master/mod12_i.ipynb\" target=\"_parent\"><img src=\"https://colab.research.google.com/assets/colab-badge.svg\" alt=\"Open In Colab\"/></a>"
      ]
    },
    {
      "cell_type": "markdown",
      "metadata": {
        "id": "vTMyTLLCRDv8"
      },
      "source": [
        "\"What's Driving Discovery Systems?\" (Moulaison et al., 2015)\n",
        "============================================================\n",
        "\n",
        "What is being said about the problem of discovery systems? \n",
        "\n",
        "> Moulaison, H. L., Kroeger, A., & Corrado, E. M. (2015). _What’s driving discovery systems? The case for standards_. FLA World Library and Information Congress (WLIC), 81st IFLA General Conference and Assembly (IFLA), Cape Town, South Africa, 15–21 August, 2015. [http://library.ifla.org/1300/1/166-moulaison-en.pdf](http://library.ifla.org/1300/1/166-moulaison-en.pdf)\n",
        "\n",
        "#### Notes\n",
        "\n",
        "*   Take a step back to revisit the concept of discovery systems. \n",
        "*   Think next about how this paper identifies problems.\n",
        "\n",
        "#### **Next**\n",
        "\n",
        "_The next page looks at the solutions as identified by NISO._"
      ]
    }
  ]
}