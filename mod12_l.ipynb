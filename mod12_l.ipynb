{
  "nbformat": 4,
  "nbformat_minor": 0,
  "metadata": {
    "colab": {
      "name": "mod12-l.ipynb",
      "provenance": [],
      "authorship_tag": "ABX9TyNsRiCWFT3JIK3a7StMGLcb",
      "include_colab_link": true
    },
    "kernelspec": {
      "name": "python3",
      "display_name": "Python 3"
    },
    "language_info": {
      "name": "python"
    }
  },
  "cells": [
    {
      "cell_type": "markdown",
      "metadata": {
        "id": "view-in-github",
        "colab_type": "text"
      },
      "source": [
        "<a href=\"https://colab.research.google.com/github/e3la/Organizing-Information-in-Information-Agencies/blob/master/mod12_l.ipynb\" target=\"_parent\"><img src=\"https://colab.research.google.com/assets/colab-badge.svg\" alt=\"Open In Colab\"/></a>"
      ]
    },
    {
      "cell_type": "markdown",
      "metadata": {
        "id": "vTMyTLLCRDv8"
      },
      "source": [
        "\"Bias in Indexing\" (Bell, 1991)\n",
        "===============================\n",
        "\n",
        "Throughout this OER, no secret has been made of the ethical and social justice-related problems that are implicit in KOSs. Any time language is used, problems can be presented. Read the following article from _The Indexer_:\n",
        "\n",
        "> Bell, H. K. (1991). Bias in indexing and loaded language. _The Indexer,_ _17_(3), 173–177. [https://www.theindexer.org/files/17-3/17-3\\_173.pdf](https://www.theindexer.org/files/17-3/17-3_173.pdf)\n",
        "\n",
        "#### Notes\n",
        "\n",
        "*   Bell identifies five types of bias that can find their ways into information systems. \n",
        "*   Some of these kinds of bias might promote access (for example, when the user's vocabulary and the author's and the KOS's all are in concert!\n",
        "*   In other instances, though, think about how bias can exclude already marginalized people, keeping them from information and resources they need."
      ]
    }
  ]
}