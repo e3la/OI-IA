{
 "cells": [
  {
   "cell_type": "markdown",
   "metadata": {},
   "source": [
    "# Module 2. Wrap-Up\n",
    "\n",
    "![](congrats.png)  \n",
    "**Wrapping Up an Introduction to Retrieval and Retrieval Systems & Tools**\n",
    "=======================================================================================================================================================\n",
    "\n",
    "This module looked at the tools and practices involved in information retrieval. Retrieval is the end-goal of organization, so this foundation is essential for moving forward in this class. \n",
    "\n",
    "The next module will look at the theories and principles that guide the retrieval tools and systems we use for organizing information. The knowledge you gained in this module should serve you well going forward!\n",
    "\n",
    "**![](objectives-icon.png)Learning Objectives**\n",
    "-------------------------------------------------------------------------------------------------\n",
    "\n",
    "Now that the module is over, ensure that you can:\n",
    "\n",
    "*   Understand the relationship between retrieval and organization and the necessity of organization to retrieval.\n",
    "*   Understand the basics of retrieval and the history of information and information retrieval as it applies to organization of information.\n",
    "*   Identify components in information retrieval.\n",
    "*   Describe some of the most common retrieval tools used in information agencies and note how information is organized differently in different environments."
   ]
  }
 ],
 "metadata": {
  "kernelspec": {
   "display_name": "Python 3",
   "language": "python",
   "name": "python3"
  },
  "language_info": {
   "codemirror_mode": {
    "name": "ipython",
    "version": 3
   },
   "file_extension": ".py",
   "mimetype": "text/x-python",
   "name": "python",
   "nbconvert_exporter": "python",
   "pygments_lexer": "ipython3",
   "version": "3.8.5"
  }
 },
 "nbformat": 4,
 "nbformat_minor": 4
}
