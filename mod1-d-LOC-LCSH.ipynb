{
 "cells": [
  {
   "cell_type": "markdown",
   "metadata": {},
   "source": [
    "Library of Congress Subject Heading (LCSH) entry for \"Information organization\"\n",
    "===============================================================================\n",
    "\n",
    "Earlier, you looked at a screenshot from the Library of Congress authority file. For most students, this was the first time looking at an authority record. You might not have known they exist!\n",
    "\n",
    "> Use the link below to visit the authority record for \"Information organization\" in the database. When you get there, follow the links and see where they take you.\n",
    "> \n",
    "> [https://lccn.loc.gov/sh99001059 (Links to an external site.)](https://lccn.loc.gov/sh99001059) \n",
    "\n",
    "#### Notes\n",
    "\n",
    "While there, consider the following:\n",
    "\n",
    "*   Why would a system that provides an \"authorized\" form of a term to describe an idea be useful when describing resources?\n",
    "*   What value do the variant terms provide for library uses?\n",
    "\n",
    "#### **Next**\n",
    "\n",
    "_Before delving into other IO topics, an understanding of the concept of \"information\" is important. When you are ready, click Next to move to the next entry in the Module, which is about that concept._"
   ]
  },
  {
   "cell_type": "code",
   "execution_count": null,
   "metadata": {},
   "outputs": [],
   "source": []
  }
 ],
 "metadata": {
  "kernelspec": {
   "display_name": "Python 3",
   "language": "python",
   "name": "python3"
  },
  "language_info": {
   "codemirror_mode": {
    "name": "ipython",
    "version": 3
   },
   "file_extension": ".py",
   "mimetype": "text/x-python",
   "name": "python",
   "nbconvert_exporter": "python",
   "pygments_lexer": "ipython3",
   "version": "3.8.5"
  }
 },
 "nbformat": 4,
 "nbformat_minor": 4
}
