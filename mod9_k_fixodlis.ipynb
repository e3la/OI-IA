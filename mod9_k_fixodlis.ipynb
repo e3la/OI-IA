{
  "nbformat": 4,
  "nbformat_minor": 0,
  "metadata": {
    "colab": {
      "name": "mod9-k-fixodlis.ipynb",
      "provenance": [],
      "authorship_tag": "ABX9TyMTZk5CvzwngtrGER6GZAz/",
      "include_colab_link": true
    },
    "kernelspec": {
      "name": "python3",
      "display_name": "Python 3"
    },
    "language_info": {
      "name": "python"
    }
  },
  "cells": [
    {
      "cell_type": "markdown",
      "metadata": {
        "id": "view-in-github",
        "colab_type": "text"
      },
      "source": [
        "<a href=\"https://colab.research.google.com/github/e3la/Organizing-Information-in-Information-Agencies/blob/master/mod9_k_fixodlis.ipynb\" target=\"_parent\"><img src=\"https://colab.research.google.com/assets/colab-badge.svg\" alt=\"Open In Colab\"/></a>"
      ]
    },
    {
      "cell_type": "markdown",
      "metadata": {
        "id": "8QBlrx-YN-XW"
      },
      "source": [
        "Key Ideas in Metadata: Granularity\n",
        "==================================\n",
        "\n",
        "There are a few different ways to think about granularity, and some decisions that need to be made when managing a digital library. What is granularity? According to the ODLIS, [granularity](https://products.abc-clio.com/ODLIS/odlis_g.aspx#granularity) is:\n",
        "\n",
        "> The level of [descriptive](https://products.abc-clio.com/ODLIS/odlis_b.aspx#bibdescrip) detail in a [record](https://products.abc-clio.com/ODLIS/odlis_b.aspx#bibrecord) created to represent a [document](https://products.abc-clio.com/ODLIS/odlis_d.aspx#document) or [information](https://products.abc-clio.com/ODLIS/odlis_i.aspx#information) resource for the purpose of [retrieval](https://products.abc-clio.com/ODLIS/odlis_i.aspx#inforetrieval), for example, whether the [record structure](https://products.abc-clio.com/ODLIS/odlis_r.aspx#recordstructure) in a [bibliographic database](https://products.abc-clio.com/ODLIS/odlis_b.aspx#bibdatabase) allows the [author](https://products.abc-clio.com/ODLIS/odlis_a.aspx#author)'s name to be parsed into [given name](https://products.abc-clio.com/ODLIS/odlis_g.aspx#givenname) and [surname](https://products.abc-clio.com/ODLIS/odlis_s.aspx#surname).\n",
        "\n",
        "In other words, granularity addresses the level of detail necessary for access to information as an individual resource, a collection, etc.\n",
        "\n",
        "Sometimes it can be tempting to think \"I need to include all the information possible!\" but for a few reasons, that is not necessarily the best plan. _How can that be?_ \n",
        "\n",
        "First, consider how much time it takes to create descriptive metadata manually. The time of the information professional is incredibly valuable, so it should be put to the absolute best use. \n",
        "\n",
        "*   Reconsider the idea of More Progress, Less Process (MPLP) covered in module 4. The Wikipedia page for MPLP is located here: [https://en.wikipedia.org/wiki/More\\_Product,\\_Less\\_Process](https://en.wikipedia.org/wiki/More_Product,_Less_Process) \n",
        "*   Making content available with the most useful correct and accurate metadata should always be a priority, rather than all the metadata possible. \n",
        "\n",
        "Second if users do not want or need the additional information (about a resource, for example), it can actually be problematic.\n",
        "\n",
        "*   Too much metadata that is searchable can create noise in the results (in searching, users might return content that does not meet their needs).\n",
        "*   Visually skimming through a surrogate with too much information is distracting and can be exhausting for users.\n",
        "\n",
        "#### **Next**\n",
        "\n",
        "_This is the final page of content in this module. Keep going to find the recommendations for further study._"
      ]
    }
  ]
}