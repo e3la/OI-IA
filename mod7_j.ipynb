{
  "nbformat": 4,
  "nbformat_minor": 0,
  "metadata": {
    "colab": {
      "name": "mod7-j.ipynb",
      "provenance": [],
      "collapsed_sections": [],
      "authorship_tag": "ABX9TyMaXxngLkCD1qEuZz4rAUQa",
      "include_colab_link": true
    },
    "kernelspec": {
      "name": "python3",
      "display_name": "Python 3"
    }
  },
  "cells": [
    {
      "cell_type": "markdown",
      "metadata": {
        "id": "view-in-github",
        "colab_type": "text"
      },
      "source": [
        "<a href=\"https://colab.research.google.com/github/e3la/Organizing-Information-in-Information-Agencies/blob/master/mod7_j.ipynb\" target=\"_parent\"><img src=\"https://colab.research.google.com/assets/colab-badge.svg\" alt=\"Open In Colab\"/></a>"
      ]
    },
    {
      "cell_type": "markdown",
      "metadata": {
        "id": "Q7tPNnzTgzzn"
      },
      "source": [
        "Key Ideas in IO: Use (e.g., Rights) Metadata\r\n",
        "============================================\r\n",
        "\r\n",
        "**Defining Use Metadata**\r\n",
        "-------------------------\r\n",
        "\r\n",
        "Gililand (2016) defines use metadata in the following way:\r\n",
        "\r\n",
        "> Metadata related to the level and type of use of collections and information resources\r\n",
        "> \r\n",
        "> (Gilliland, 2016, section Categorizing Metadata).\r\n",
        "\r\n",
        "What is it that use metadata does? How does it look? Riley (2017) provides information specifically about rights metadata. Rights metadata, as you will see, is a kind of use metadata and a great way to begin to understand how metadata about use supports the work of the information agency. Who owns the digital object? Who owns a physical object it represents? How can any of that be used? Rights metadata clarifies all this and more. \r\n",
        "\r\n",
        "**Table 1 Example Properties and Primary Uses for Use Metadata** **(Riley, 2017, p. 7)**\r\n",
        "\r\n",
        "| **Metadata Type** | **Example Properties** | **Primary Uses**                       |\r\n",
        "| ---------------------- | ---------------------------------------------- | ------------------------------------------- |\r\n",
        "| Rights metadata        | Copyright status | Interoperability\r\n",
        "|| License terms | Digital object management\r\n",
        "|| Rights holder | |\r\n",
        "\r\n",
        "Again, look at the above table and do your best to make sense of the properties and the primary uses provided.\r\n",
        "\r\n",
        "**Examples of Use Metadata**\r\n",
        "----------------------------\r\n",
        "\r\n",
        "From Gilliland (2016), some examples of use metadata are the following: \r\n",
        "\r\n",
        "> *   Circulation records\r\n",
        "> *   Physical and digital exhibition records\r\n",
        "> *   Use and user tracking\r\n",
        "> *   Content reuse and multiversioning information\r\n",
        "> *   Search logs\r\n",
        "> *   Rights metadata\r\n",
        "> \r\n",
        "> (Gilliland, 2016, section Categorizing Metadata)\r\n",
        "\r\n",
        "Look at each for a moment and reflect on how and why each might be important.\r\n",
        "\r\n",
        "One of the most-studied forms of use metadata recently is rights metadata, as demonstrated above through Riley's (2017) focus on it. Why? Quite simply because users of a retrieval system must understand if the digital image they just found, for example, can be reused in their own work. What are the restrictions? Who owns the object being described? Are there copyright protections in place? Capturing all of this detail in rights metadata is incredibly complex, but absolutely essential to use.\r\n",
        "\r\n",
        "#### **Next**\r\n",
        "\r\n",
        "_The next page gives background on rights metadata as a kind of deeper dive into the topic of use metadata._\r\n",
        "\r\n",
        "* * *\r\n",
        "\r\n",
        "#### References\r\n",
        "\r\n",
        "Gilliland, A. J. (2016). Setting the stage. In M. Baca (Ed.), _Introduction to metadata_ (3rd ed.). The Getty Research Institute. [http://www.getty.edu/publications/intrometadata/setting-the-stage/](http://www.getty.edu/publications/intrometadata/setting-the-stage/)\r\n",
        "\r\n",
        "Riley, J. (2017). _Understanding metadata: What is metadata, and what is it for?_ National Information Standards Organization (NISO). [https://groups.niso.org/apps/group\\_public/download.php/17446/Understanding%20Metadata.pdf](https://groups.niso.org/apps/group_public/download.php/17446/Understanding%20Metadata.pdf)"
      ]
    }
  ]
}