{
  "nbformat": 4,
  "nbformat_minor": 0,
  "metadata": {
    "colab": {
      "name": "mod10-e.ipynb",
      "provenance": [],
      "authorship_tag": "ABX9TyO37g1HzfzBX2L46QP6y1P8",
      "include_colab_link": true
    },
    "kernelspec": {
      "name": "python3",
      "display_name": "Python 3"
    },
    "language_info": {
      "name": "python"
    }
  },
  "cells": [
    {
      "cell_type": "markdown",
      "metadata": {
        "id": "view-in-github",
        "colab_type": "text"
      },
      "source": [
        "<a href=\"https://colab.research.google.com/github/e3la/Organizing-Information-in-Information-Agencies/blob/master/mod10_e.ipynb\" target=\"_parent\"><img src=\"https://colab.research.google.com/assets/colab-badge.svg\" alt=\"Open In Colab\"/></a>"
      ]
    },
    {
      "cell_type": "markdown",
      "metadata": {
        "id": "1j2A7sCiZrdn"
      },
      "source": [
        "\\*\"Linked Data: Building the Future for the Libraries (NoveList, 2016)\n",
        "======================================================================\n",
        "\n",
        "> Walker, J. & Smith, D. (2016). _Linked data: Building the future for libraries_ \\[Video\\]. YouTube. https://youtu.be/Pn2Pl5pp7yw\n",
        "\n",
        "#### Notes\n",
        "\n",
        "*   Video on YouTube; 55 minutes.\n",
        "*   The video is about how linked data has transformed the metadata in a library catalog. It includes a bit of technical information, examples, and an explanation of why linked data is important.\n",
        "*   The focus is the application of linked data in a specific commercial product.\n",
        "*   About the presenters:\n",
        "    *   Duncan Smith, one of the presenters, is an employee of NoveList, an EBSCO product, which provides enrichment of bibliographic displays in online library catalogs, so the focus of the examples is a specific product.\n",
        "    *   Julie Walker is the State Librarian of Georgia. \n",
        "    *   Jeff Penka, Zepheira, joins the conversation half-way through. Zepheira was a company that did some experimenting with linked data for libraries. The company was purchased by EBSCO in early 2020.\n",
        "*   More about NoveList's linked data service: [https://www.ebsco.com/novelist/products/linked-library-service](https://www.ebsco.com/novelist/products/linked-library-service)\n",
        "*   Enjoy the preliminary information about the value of libraries, too. Also, the background on the shift to technology infrastructures in libraries is useful.\n",
        "\n",
        "#### **Next**\n",
        "\n",
        "_Next, data in a bibliographic record is considered, as well as how the record needs to be re-envisioned as data elements._"
      ]
    }
  ]
}