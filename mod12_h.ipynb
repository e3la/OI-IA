{
  "nbformat": 4,
  "nbformat_minor": 0,
  "metadata": {
    "colab": {
      "name": "mod12-h.ipynb",
      "provenance": [],
      "authorship_tag": "ABX9TyOJNUfdq/Xhf8PTz7mFmosP",
      "include_colab_link": true
    },
    "kernelspec": {
      "name": "python3",
      "display_name": "Python 3"
    },
    "language_info": {
      "name": "python"
    }
  },
  "cells": [
    {
      "cell_type": "markdown",
      "metadata": {
        "id": "view-in-github",
        "colab_type": "text"
      },
      "source": [
        "<a href=\"https://colab.research.google.com/github/e3la/Organizing-Information-in-Information-Agencies/blob/master/mod12_h.ipynb\" target=\"_parent\"><img src=\"https://colab.research.google.com/assets/colab-badge.svg\" alt=\"Open In Colab\"/></a>"
      ]
    },
    {
      "cell_type": "markdown",
      "metadata": {
        "id": "vTMyTLLCRDv8"
      },
      "source": [
        "Discovery Systems, Bias, and Transparency\n",
        "=========================================\n",
        "\n",
        "**Discovery Systems as Potentially Biased**\n",
        "-------------------------------------------\n",
        "\n",
        "Previous Modules explored the notion of discovery systems in libraries. Many are beloved by their users—they provide great results to user queries, without requiring users to know the specifics of search in often-complex library systems. You already know that discovery services can provide access to a number of kinds of content, including library catalog and digital library content. They also provide access to licensed materials, potentially from a number of providers. This begs the question:\n",
        "\n",
        "_Are the discovery services neutral or are they biased towards content provided by their own companies?_\n",
        "\n",
        "Libraries subscribe to discovery services to provide one-stop searching for users. Two large discovery services are owned by companies that also supply content for libraries.\n",
        "\n",
        "*   EBSCO\n",
        "    *   Discovery service\n",
        "        *   EBSCO Discovery Service (EDS)\n",
        "    *   Database examples\n",
        "        *   EBSCOhost, with research databases,\n",
        "        *   EBSCO eBooks\n",
        "*   ProQuest\n",
        "    *   Discovery service\n",
        "        *   ExLibris Primo\n",
        "    *   Database examples\n",
        "        *   ProQuest One Academic\n",
        "        *   ProQuest Historical Newspapers\n",
        "\n",
        "According to one customer (SUNY Libraries Consortium), there is a built in bias: \"You activate your EBSCO databases in Alma but they can’t be searched directly in Primo because EBSCO does not share their indexing with Ex Libris.\" (Last updated: Dec 23, 2019). [https://slcny.libanswers.com/faq/232587](https://slcny.libanswers.com/faq/232587)\n",
        "\n",
        "For other content, each discovery service may have equal content. Each discovery vendor works with content suppliers to obtain content for its discovery product. Springer Nature, owned by a different company, indicates that it shares indexing information and full-text fully with four large discovery products:\n",
        "\n",
        "> \"A discovery service is an online tool that enables libraries to search seamlessly across a wide range of content. ... The most frequently used discovery services are ProQuest-ExLibris Primo, ProQuest-ExLibris Summon, EBSCO Discovery Service, and WorldCat Discovery. ... The discovery service providers are given complete metadata and full text of our journals and eBooks, including contemporary and archival content. This allows the vendors to index our content fully to make it more visible and discoverable. Springer Nature works closely with vendors to create clear targets, and to ensure the completeness and discoverability of our content.\" [https://www.springernature.com/gp/librarians/tools-services/implement/discovery/discovery-services](https://www.springernature.com/gp/librarians/tools-services/implement/discovery/discovery-services)\n",
        "\n",
        "Still, unless indexing and relevancy ranking are transparent, one cannot be sure how search results are generated.\n",
        "\n",
        "#### **Next**\n",
        "\n",
        "_On the next page, read a conference proceeding from IFLA that discusses some of the \"black box\" problems of discovery, and think about how that can present a problem for the ethical and unbiased provision of information._"
      ]
    }
  ]
}