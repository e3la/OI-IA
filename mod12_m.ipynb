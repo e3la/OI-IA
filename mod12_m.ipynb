{
  "nbformat": 4,
  "nbformat_minor": 0,
  "metadata": {
    "colab": {
      "name": "mod12-m.ipynb",
      "provenance": [],
      "authorship_tag": "ABX9TyPbI65oFJiid2xGHCe2rA4R",
      "include_colab_link": true
    },
    "kernelspec": {
      "name": "python3",
      "display_name": "Python 3"
    },
    "language_info": {
      "name": "python"
    }
  },
  "cells": [
    {
      "cell_type": "markdown",
      "metadata": {
        "id": "view-in-github",
        "colab_type": "text"
      },
      "source": [
        "<a href=\"https://colab.research.google.com/github/e3la/Organizing-Information-in-Information-Agencies/blob/master/mod12_m.ipynb\" target=\"_parent\"><img src=\"https://colab.research.google.com/assets/colab-badge.svg\" alt=\"Open In Colab\"/></a>"
      ]
    },
    {
      "cell_type": "markdown",
      "metadata": {
        "id": "vTMyTLLCRDv8"
      },
      "source": [
        "Module 12. For Further Study\n",
        "============================\n",
        "\n",
        " **![](https://missouri.instructure.com/courses/49361/files/8633280/download) For Further Study**\n",
        "=================================================================================================\n",
        "\n",
        "#### Library System Reports\n",
        "\n",
        "> Report summaries in the American Libraries magazine:\n",
        "> \n",
        "> *   2019—[https://americanlibrariesmagazine.org/2019/05/01/library-systems-report-2019/](https://americanlibrariesmagazine.org/2019/05/01/library-systems-report-2019/)\n",
        "> *   2018—[https://americanlibrariesmagazine.org/2018/05/01/library-systems-report-2018/](https://americanlibrariesmagazine.org/2018/05/01/library-systems-report-2018/)\n",
        "> *   2017—[https://americanlibrariesmagazine.org/2017/05/01/library-systems-report-2017/](https://americanlibrariesmagazine.org/2017/05/01/library-systems-report-2017/)\n",
        "\n",
        "##### Notes\n",
        "\n",
        "*   Marshall Breeding's annual reports highlight the mergers and purchases of products by large corporations. Review a few years for an overview of system and company changes that have occurred in the library system market.\n",
        "*   Visit Marshall Breeding's \"Library Technology Guides\" website for even more information: [https://librarytechnology.org/](https://librarytechnology.org/)\n",
        "\n",
        "* * *\n",
        "\n",
        "#### Recommender Systems\n",
        "\n",
        "> Tryo Labs. (n.d.). Introduction to Recommender Systems in 2019. [https://tryolabs.com/blog/introduction-to-recommender-systems/](https://tryolabs.com/blog/introduction-to-recommender-systems/)\n",
        "\n",
        "##### Notes\n",
        "\n",
        "*   \"Recommender systems aim to predict users’ interests and recommend product items that quite likely are interesting for them. They are among the most powerful machine learning systems that online retailers implement in order to drive sales.\" \n",
        "*   Consider how might discovery systems managed by for-profit vendors may be problematic to library users.\n",
        "\n",
        "* * *\n",
        "\n",
        "#### Algorithms\n",
        "\n",
        "These articles (see below) explore different ways in which technology can be flawed.\n",
        "\n",
        "> Berlastsky, N. (2018). Google search algorithms are not impartial. They can be biased, just like three designers. Think, NBC News \\[website\\]. [https://www.nbcnews.com/think/opinion/google-search-algorithms-are-not-impartial-they-are-biased-just-ncna849886](https://www.nbcnews.com/think/opinion/google-search-algorithms-are-not-impartial-they-are-biased-just-ncna849886)\n",
        "> \n",
        "> Ratliff, J.D. and Rubinfeld, D.L. (2014). Is there a market of organic search engine results and can their manipulation give rise to antitrust liability? _Journal of Competition Law & Economics, 0_(0), 1–25. [https://lawcat.berkeley.edu/record/1126494?ln=en](https://lawcat.berkeley.edu/record/1126494?ln=en)\n",
        "> \n",
        "> Yun, J.M. (2018). Understanding Google's search platform and the implications for antitrust analyses. _Journal of Competition Law & Economics, 14_(2), 311–329; George Mason Law & Economics Research Paper No. 18–24. Available at SSRN: [http://dx.doi.org/10.2139/ssrn.3126848](https://dx.doi.org/10.2139/ssrn.3126848)\n",
        "\n",
        "* * *\n",
        "\n",
        "#### Bias\n",
        "\n",
        "> Baeza-Yates, R. (2018). Bias on the web. Communications of the ACM, 61(8), 54–61. [https://dl.acm.org/doi/10.1145/3209581](https://dl.acm.org/doi/10.1145/3209581)\n",
        "\n",
        "##### Notes\n",
        "\n",
        "*   The first sentence in this article is enticing: \"Or inherent human tendency of favoring one thing or opinion over another is reflected in every aspect of our lives, creating both latent and overt biases toward everything we see, hear, and do.\" \n",
        "*   This article covers a range of issues on the web related to bias. Read it if you want to learn more about the issue.\n",
        "*   In the conclusion, Baezy-Yates lists seven properties needed for transparency and accountability in algorithms, taken from a 2017 publication: awareness, access and redress, accountability, explanation, data provenance, auditability, and validity and testing. How do these apply to library systems?\n",
        "\n",
        "* * *\n",
        "\n",
        "#### Privacy \n",
        "\n",
        "> NISO. (2015). NISO consensus principles on user's digital privacy in library, publisher, and software-providers system (NISO privacy principles). [https://www.niso.org/publications/privacy-principles](https://www.niso.org/publications/privacy-principles)\n",
        "\n",
        "##### Notes\n",
        "\n",
        "*   Gives twelve principles to be used as starting points for practices and procedures to protect users' privacy.\n",
        "\n",
        "> Breeding, M. (2018). Strengthening patron engagement while protecting privacy. Computers in Libraries, 38(8), 18–20. [https://librarytechnology.org/document/24075](https://librarytechnology.org/document/24075)\n",
        "\n",
        "##### Notes\n",
        "\n",
        "*   \"The growing emphasis on user data to drive library services must reflect the special value that libraries place on privacy, which stands in stark contrast to the broader commercial arena. In the commercial arena, personal data acts as a basic currency that fuels a substantial portion of the internet economy based on advertising. The technologies and tactics of the collection and dissemination of that data continually become more aggressive and invasive as competition increases to gain the attention of consumers.\"\n",
        "\n",
        "> American Library Association. (2020). Library privacy guidelines. American Library Association. [http://www.ala.org/advocacy/privacy/guidelines](http://www.ala.org/advocacy/privacy/guidelines)\n",
        "\n",
        "##### Notes\n",
        "\n",
        "*   The American Library Association has published several privacy guidelines. The following are pertinent to IO work:\n",
        "    *   Library guidelines for vendors.\n",
        "    *   Library privacy guidelines for library websites, OPACs, and discovery services.\n",
        "    *   Library privacy guidelines for library management systems.\n",
        "*   There are a checklists for two of these at: [http://www.ala.org/advocacy/privacy/checklists](http://www.ala.org/advocacy/privacy/checklists)"
      ]
    }
  ]
}