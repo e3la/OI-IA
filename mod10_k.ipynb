{
  "nbformat": 4,
  "nbformat_minor": 0,
  "metadata": {
    "colab": {
      "name": "mod10-k.ipynb",
      "provenance": [],
      "authorship_tag": "ABX9TyO+aQnAuWehCrWH1SjedOrN",
      "include_colab_link": true
    },
    "kernelspec": {
      "name": "python3",
      "display_name": "Python 3"
    },
    "language_info": {
      "name": "python"
    }
  },
  "cells": [
    {
      "cell_type": "markdown",
      "metadata": {
        "id": "view-in-github",
        "colab_type": "text"
      },
      "source": [
        "<a href=\"https://colab.research.google.com/github/e3la/Organizing-Information-in-Information-Agencies/blob/master/mod10_k.ipynb\" target=\"_parent\"><img src=\"https://colab.research.google.com/assets/colab-badge.svg\" alt=\"Open In Colab\"/></a>"
      ]
    },
    {
      "cell_type": "markdown",
      "metadata": {
        "id": "_5m7FcaXb7Gs"
      },
      "source": [
        "Delving More Deeply into BIBFRAME\n",
        "=================================\n",
        "\n",
        "BIBFRAME is envisioned as the replacement for MARC. What does this mean? And how can this possibly work given all the standards and practices in place? All those bibliographic records are carefully encoded in MARC, after all! And they have been for a generation. \n",
        "\n",
        "**Beyond MARC: BIBFRAME and the future of bibliographic data**\n",
        "\n",
        "This webinar offers a good introduction to BIBFRAME, including why it is important and how it can be used.\n",
        "\n",
        "> Nimsakont, E. D. (2015). From MARC to BIBFRAME: An introduction. Reaching Across Illinois Library System webinar. [https://www.youtube.com/watch?v=sP93Hhs6CTk](https://www.youtube.com/watch?v=sP93Hhs6CTk) [![](/images/play_overlay.png)](https://www.youtube.com/watch?v=sP93Hhs6CTk) \n",
        "\n",
        "#### **Next**\n",
        "\n",
        "_Announced at about the same time as BIBFRAME, Schema.org is an encoding scheme used to structure data in webpages. It is being used to publish, or make available, library metadata on the web.  \n",
        "_"
      ]
    }
  ]
}