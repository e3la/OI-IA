{
  "nbformat": 4,
  "nbformat_minor": 0,
  "metadata": {
    "colab": {
      "name": "mod6-m.ipynb",
      "provenance": [],
      "authorship_tag": "ABX9TyOCrywD7Wl5eAgPUzZYe4ax",
      "include_colab_link": true
    },
    "kernelspec": {
      "name": "python3",
      "display_name": "Python 3"
    }
  },
  "cells": [
    {
      "cell_type": "markdown",
      "metadata": {
        "id": "view-in-github",
        "colab_type": "text"
      },
      "source": [
        "<a href=\"https://colab.research.google.com/github/e3la/Organizing-Information-in-Information-Agencies/blob/master/mod6_m.ipynb\" target=\"_parent\"><img src=\"https://colab.research.google.com/assets/colab-badge.svg\" alt=\"Open In Colab\"/></a>"
      ]
    },
    {
      "cell_type": "markdown",
      "metadata": {
        "id": "bhLwmQIg9HZA"
      },
      "source": [
        "Module 6. For Further Study\r\n",
        "===========================\r\n",
        "\r\n",
        " **![](https://missouri.instructure.com/courses/49361/files/8633280/download) For Further Study**\r\n",
        "=================================================================================================\r\n",
        "\r\n",
        "#### Genre and Form Terms\r\n",
        "\r\n",
        "Interested in Reader's Advisory (RA) and want to know how \"genres\" such as Westerns or forms such as Video Games play in? These terms are based not on what the resource is about (the novel is not about Westerns... it IS a Western—same with video games in libraries). Controlled vocabularies for genre terms are a newer addition to controlled vocabularies used in libraries, and they are often studied with subject analysis.\r\n",
        "\r\n",
        "The following page breaks down these ideas even more:\r\n",
        "\r\n",
        "> [Readings: Genre and Form Headings](https://missouri.instructure.com/courses/49361/pages/readings-genre-and-form-headings \"Readings: Genre and Form Headings\")\r\n",
        "\r\n",
        "* * *\r\n",
        "\r\n",
        "#### Verbal Subject Access\r\n",
        "\r\n",
        "> Dextre Clarke, S. G. (n.d.). Thesaurus (for information retrieval). ISKO Encyclopedia of Knowledge Organization. [https://www.isko.org/cyclo/thesaurus](https://www.isko.org/cyclo/thesaurus)\r\n",
        "\r\n",
        "##### Note\r\n",
        "\r\n",
        "*   Another useful resource on thesauri. As with \"Guidelines for the construction, format, and management of monolingual controlled vocabularies,\" this resource gives background information, covers the types and styles of thesaurus, and includes examples. \r\n",
        "\r\n",
        "* * *\r\n",
        "\r\n",
        "> Bothmann, B. (2017). Introduction to LC Subject Headings, I. ALCTS webinar. [http://www.ala.org/alcts/confevents/upcoming/webinar/030117](http://www.ala.org/alcts/confevents/upcoming/webinar/030117)\r\n",
        "\r\n",
        "##### Notes\r\n",
        "\r\n",
        "*   One-hour webinar recording. Library of Congress Subject Headings can be complicated and require training to apply well. The presenter, Bobby Bothmann, covers the subject analysis (how to figure out what an information resource is about) and guidelines used to construct LCSH strings.\r\n",
        "*   Part II covers geographic and chronological subdivisions, headings for literature, and genre terms: [http://www.ala.org/alcts/confevents/upcoming/webinar/030317](http://www.ala.org/alcts/confevents/upcoming/webinar/030317).\r\n",
        "\r\n",
        "* * *\r\n",
        "\r\n",
        "#### BISAC Subject Headings\r\n",
        "\r\n",
        "> Martínez-Ávila, D. (2016). BISAC: Book Industry Standards and Communications. _Knowledge Organization, 43_(8), 655-662. [https://www.nomos-elibrary.de/10.5771/0943-7444-2016-8-655](https://www.nomos-elibrary.de/10.5771/0943-7444-2016-8-655)\r\n",
        "\r\n",
        "##### Notes\r\n",
        "\r\n",
        "*   [BISAC ](https://bisg.org/page/BISACEdition)was mentioned in the first pages of this Module. If you have worked in a bookstore or looked at the back of a mass-market paperback, you have seen BISAC headings in action. \r\n",
        "*   [https://bisg.org/page/BISACEdition](https://bisg.org/page/BISACEdition)\r\n",
        "*   Used in smaller libraries and bookstores, maintained by the publishing industry\r\n",
        "\r\n",
        "* * *\r\n",
        "\r\n",
        "#### Classification and Categorization\r\n",
        "\r\n",
        "Here are a few additional KOSs to explore. The University of Missouri Libraries use Library of Congress Classification (LCC) for most material. SuDoc numbers are used for federal government documents. There is a separate classification system for Missouri Documents (not listed below). MeSH, Medical Subject Headings, are used for material at the Health Sciences and Veterinary Libraries. Some older material is classed using Dewey. In some libraries, local call numbers (created in-house) may be used for some material, too.\r\n",
        "\r\n",
        "**SuDoc—Superintendent of Documents Classification Scheme—used for United States government publications**\r\n",
        "\r\n",
        "*   [https://www.fdlp.gov/about-fdlp/22-services/929-sudoc-classification-scheme](https://www.fdlp.gov/about-fdlp/22-services/929-sudoc-classification-scheme)\r\n",
        "\r\n",
        "**NLM classification—National Library of Medicine**\r\n",
        "\r\n",
        "*   [https://www.nlm.nih.gov/class/index.html](https://www.nlm.nih.gov/class/index.html)\r\n",
        "\r\n",
        "**Nomenclature for Museum Cataloging**\r\n",
        "\r\n",
        "*   [https://www.nomenclature.info/apropos-about.app?lang=en](https://www.nomenclature.info/apropos-about.app?lang=en)\r\n",
        "\r\n",
        "* * *\r\n",
        "\r\n",
        "#### Back of the Book Indexing \r\n",
        "\r\n",
        "> Anderson, J. D. (1997). Guidelines for indexes and related information retrieval devices (NISO-TR02-1997; NISO Technical Report 2). NISO Press. [https://www.niso.org/sites/default/files/2017-08/tr02.pdf](https://www.niso.org/sites/default/files/2017-08/tr02.pdf) \r\n",
        "> \r\n",
        ">   \r\n",
        "> Indexes: A chapter from the Chicago manual of style, 15th edition. (2003). University of Chicago Press. [https://press.uchicago.edu/Misc/Chicago/CHIIndexingComplete.pdf](https://press.uchicago.edu/Misc/Chicago/CHIIndexingComplete.pdf) \r\n",
        "\r\n",
        "##### Notes\r\n",
        "\r\n",
        "*   The first source is information from NISO about indexing, in general. It is quite old, but robust (and freely availlable)\r\n",
        "*   The second resource is also old -- the standard that many BOtB indexers use: _The Chicago Manual of Style._ Did you know that, besides being a style guide with a system for providing references and notes, _Chicago_ also addresses indexes?"
      ]
    },
    {
      "cell_type": "code",
      "metadata": {
        "id": "uSGSlKgl9GdR"
      },
      "source": [
        ""
      ],
      "execution_count": null,
      "outputs": []
    }
  ]
}