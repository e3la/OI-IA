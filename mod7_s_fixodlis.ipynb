{
  "nbformat": 4,
  "nbformat_minor": 0,
  "metadata": {
    "colab": {
      "name": "mod7-s-fixodlis.ipynb",
      "provenance": [],
      "authorship_tag": "ABX9TyMGXfQnmex5SzYcvfriwYK5",
      "include_colab_link": true
    },
    "kernelspec": {
      "name": "python3",
      "display_name": "Python 3"
    }
  },
  "cells": [
    {
      "cell_type": "markdown",
      "metadata": {
        "id": "view-in-github",
        "colab_type": "text"
      },
      "source": [
        "<a href=\"https://colab.research.google.com/github/e3la/Organizing-Information-in-Information-Agencies/blob/master/mod7_s_fixodlis.ipynb\" target=\"_parent\"><img src=\"https://colab.research.google.com/assets/colab-badge.svg\" alt=\"Open In Colab\"/></a>"
      ]
    },
    {
      "cell_type": "markdown",
      "metadata": {
        "id": "yQNfKWlCAKZ-"
      },
      "source": [
        "Key Ideas in IO: Interoperability\r\n",
        "=================================\r\n",
        "\r\n",
        "**What Is Interoperability?**\r\n",
        "-----------------------------\r\n",
        "\r\n",
        "This OER has already brought forth the idea of the importance of standards, in part because they promote interoperability. Practically speaking, this means that if a library adheres to the standards required by OCLC for membership, that library can submit records for materials to WorldCat, and can download records for materials like books that have already been cataloged by someone else.\r\n",
        "\r\n",
        "The ODLIS defines [interoperability](https://products.abc-clio.com/ODLIS/odlis_i.aspx) in the following way:\r\n",
        "\r\n",
        "> The capability of a computer [hardware](https://products.abc-clio.com/ODLIS/odlis_h.aspx#hardware) or [software](https://products.abc-clio.com/ODLIS/odlis_s.aspx#software) system to communicate and work effectively with another system in the exchange of [data](https://products.abc-clio.com/ODLIS/odlis_d.aspx#data), usually a system of a different type, designed and produced by a different vendor.\r\n",
        "\r\n",
        "### ![](https://missouri.instructure.com/courses/10640/files/7506582/download)  \r\n",
        "**Interoperability in Action: Self-Study**\r\n",
        "\r\n",
        "HathiTrust ([https://www.hathitrust.org/](https://www.hathitrust.org/)) is a database of digitized books, many of which are in the public domain (that's rights metadata in action). \r\n",
        "\r\n",
        "> Look at the following record for a book about process cheese from 1955. [https://catalog.hathitrust.org/Record/005719762](https://catalog.hathitrust.org/Record/005719762) Be sure to open the file for the book and look over the preliminary pages, to get a sense of what this is. \r\n",
        "\r\n",
        "Now, considering both the record and the resource itself, how many standards can you identify that are in play here?\r\n",
        "\r\n",
        "#### **Next**\r\n",
        "\r\n",
        "_You have arrived at the end of the content you are responsible for reading in module 7. How does it feel? The next page features a set of resources for (optional) further study._"
      ]
    }
  ]
}