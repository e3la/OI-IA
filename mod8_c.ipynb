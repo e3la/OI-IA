{
  "nbformat": 4,
  "nbformat_minor": 0,
  "metadata": {
    "colab": {
      "name": "mod8-c.ipynb",
      "provenance": [],
      "authorship_tag": "ABX9TyPO59mZGeDou8VuXYX5wpau",
      "include_colab_link": true
    },
    "kernelspec": {
      "name": "python3",
      "display_name": "Python 3"
    }
  },
  "cells": [
    {
      "cell_type": "markdown",
      "metadata": {
        "id": "view-in-github",
        "colab_type": "text"
      },
      "source": [
        "<a href=\"https://colab.research.google.com/github/e3la/Organizing-Information-in-Information-Agencies/blob/master/mod8_c.ipynb\" target=\"_parent\"><img src=\"https://colab.research.google.com/assets/colab-badge.svg\" alt=\"Open In Colab\"/></a>"
      ]
    },
    {
      "cell_type": "markdown",
      "metadata": {
        "id": "o5dt3XLHy2Xc"
      },
      "source": [
        "\"The Organizing System Roadmap\" (Glushko, 2016)—TDO Chapter 11\r\n",
        "==============================================================\r\n",
        "\r\n",
        "Before proceeding to more details on online catalogs, read this chapter about the broader topic of organizing systems.\r\n",
        "\r\n",
        "> Glushko, R. J. (2016). The organizing system roadmap. In R. J. Glushko (Ed.), _The discipline of organizing_ (4th ed., Professional ed., pp. 559-586). MIT Press. [https://ischools.org/resources/Documents/Discipline%20of%20organizing/Professional/TDO4-Prof-CC-Chapter11.pdf](https://ischools.org/resources/Documents/Discipline%20of%20organizing/Professional/TDO4-Prof-CC-Chapter11.pdf)\r\n",
        "\r\n",
        "#### Notes\r\n",
        "\r\n",
        "*   This chapter \"summarizes the design issues and choices that emerge during an organizing system's lifecycle.\" (pp. 559–560)\r\n",
        "*   Though not exclusively focused on library catalogs, the points are applicable to the design of a library catalog.\r\n",
        "*   11.7 may be a good place to start, as it covers key points and give you an overview.\r\n",
        "*   11.3. See the five interrelated aspects of an organizing system.\r\n",
        "*   11.4. Identifying requirements for an organizing system.\r\n",
        "*   11.5.3 Distinguishing access from control.\r\n",
        "\r\n",
        "#### **Next**\r\n",
        "\r\n",
        "_The systems described in TDO organize a variety of kinds of content. Specifically, however, what do library catalogs organize? The next page checks in with information about content you might have know passively, providing a quick overview of what library catalog surrogate records typically describe._"
      ]
    }
  ]
}