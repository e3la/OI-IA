{
  "nbformat": 4,
  "nbformat_minor": 0,
  "metadata": {
    "colab": {
      "name": "mod8-j-FIXodlis.ipynb",
      "provenance": [],
      "authorship_tag": "ABX9TyN/6ljs36qcLVD8Q8vzMyN+",
      "include_colab_link": true
    },
    "kernelspec": {
      "name": "python3",
      "display_name": "Python 3"
    }
  },
  "cells": [
    {
      "cell_type": "markdown",
      "metadata": {
        "id": "view-in-github",
        "colab_type": "text"
      },
      "source": [
        "<a href=\"https://colab.research.google.com/github/e3la/Organizing-Information-in-Information-Agencies/blob/master/mod8_j_FIXodlis.ipynb\" target=\"_parent\"><img src=\"https://colab.research.google.com/assets/colab-badge.svg\" alt=\"Open In Colab\"/></a>"
      ]
    },
    {
      "cell_type": "markdown",
      "metadata": {
        "id": "nBkTL1YafDZk"
      },
      "source": [
        "Key Ideas in IO: Integrated Library Systems\r\n",
        "===========================================\r\n",
        "\r\n",
        "So far, this module has focused on the online library catalog, the OPAC. Some library catalogs may only include surrogate records representing the holdings (materials owned or available) of a library.\r\n",
        "\r\n",
        "Most online catalogs used in libraries include additional functionalities, which may allow the library to order material, pay for purchases, check in journal issues, and check out or circulate material to library patrons. In the US and Canadian tradition, these are called **integrated library systems** or **ILSs.**\r\n",
        "\r\n",
        "**Integrated Library System (ILS)**\r\n",
        "-----------------------------------\r\n",
        "\r\n",
        "What is an ILS? In the ODLIS, [ILS](https://products.abc-clio.com/ODLIS/odlis_i.aspx#ils) is not a preferred term, so to get to the bottom of what ILS means, one has to navigate to LMS (the preferred term in English-speaking countries in Europe, for example). \r\n",
        "\r\n",
        "> An [abbreviation](https://products.abc-clio.com/ODLIS/odlis_a.aspx#abbreviation) of **I**ntegrated **L**ibrary **S**ystem. **_See_**: [library management system (LMS)](https://products.abc-clio.com/ODLIS/odlis_l.aspx#libms).\r\n",
        "\r\n",
        "The ODLIS defines [Library Management System (LMS)](https://products.abc-clio.com/ODLIS/odlis_l.aspx#libms) in the following way:\r\n",
        "\r\n",
        "> In [automated](https://products.abc-clio.com/ODLIS/odlis_l.aspx#libautomation) [systems](https://products.abc-clio.com/ODLIS/odlis_s.aspx#systems), an integrated set of [application](https://products.abc-clio.com/ODLIS/odlis_a.aspx#application)s designed to perform the business and technical functions of a [library](https://products.abc-clio.com/ODLIS/odlis_l.aspx#library), including [acquisitions](https://products.abc-clio.com/ODLIS/odlis_a.aspx#acquisitions), [cataloging](https://products.abc-clio.com/ODLIS/odlis_c.aspx#cataloging), [circulation](https://products.abc-clio.com/ODLIS/odlis_c.aspx#circulation), and the provision of public [access](https://products.abc-clio.com/ODLIS/odlis_a.aspx#access). In [alphabetical](https://products.abc-clio.com/ODLIS/odlis_a.aspx#alphabetical) order, the leading [vendor](https://products.abc-clio.com/ODLIS/odlis_v.aspx#vendor)s of library management [software](https://products.abc-clio.com/ODLIS/odlis_s.aspx#software) are: [Auto-Graphics](http://www4.auto-graphics.com/), [EOS International](http://www.eosintl.com/), [Ex Libris](http://www.exlibris-usa.com/), [Follett](http://www.fsc.follett.com/), [Innovative Interfaces](http://www.iii.com/), [Polaris Library Systems](http://www.polarislibrary.com/), [SirsiDynix](http://www.sirsidynix.com/), [TLC](http://www.tlcdelivers.com/tlc/), and [VTLS](http://www.vtls.com/). Synonymous with _integrated library system (ILS)_.\r\n",
        "\r\n",
        "Why is ILS not defined in the ODLIS? Why is LMS a \"UF\" term? Although ILS is the term used in English-speaking parts of North America, it is not the term used everywhere. This OER  was written in North America and unlike the ODLIS, will refer to these systems as _integrated library systems (ILSs)_. This is yet another example of synonymous terms (LMS and ILS) that differ based on the geography of the speaker. \r\n",
        "\r\n",
        "### ![](catalog-vs-ILS.png)  \r\n",
        "**Online Catalog Versus ILS**\r\n",
        "\r\n",
        "An online catalog, or OPAC, typically refers to the database or collection of bibliographic records presented to users. Online catalogs at many libraries include many back-end functions that are integrated with the catalog. Note some of the additional functions that an integrated library system may include are listed in the definition for LMS.\r\n",
        "\r\n",
        "The description of library management systems (aka ILS) is useful, too, in that it mentions the specialized vendors used by libraries. An integrated library system is a sophisticated computer product. Libraries purchase (or subscribe to) commercially produced systems or use open source products.\r\n",
        "\r\n",
        "**Additional Functions in an ILS**\r\n",
        "----------------------------------\r\n",
        "\r\n",
        "An integrated library system (ILS) is much more than an online catalog, which has bibliographic records for library materials and provides a way to search them. Some of the additional functions found in an ILS are:\r\n",
        "\r\n",
        "#### **Cataloging Functions**\r\n",
        "\r\n",
        "The ILS provides an inventory of the tangible—and sometimes online—information resources held by a library. Cataloging functions include options for adding bibliographic and authority records and for editing the records singly or in batches. Bibliographic records may be imported from bibliographic utilities such as WorldCat or created from templates or typed in. For libraries that work with a bibliographic utility, information about what the library owns can be submitted to that utility electronically. \r\n",
        "\r\n",
        "Also, once records have been created for each individual item (sometimes called item records), call number labels for the individual library resource can be printed. \r\n",
        "\r\n",
        "#### **Acquisitions Functions**\r\n",
        "\r\n",
        "An ILS can be used to order and receive library resources. Once a bibliographic records is in the ILS, an order record can be attached to it. The order record will include information about the price and the vendor for each resource. Orders can be submitted electronically to vendors. When the resources is received, the order record can be modified to show that. Also, invoices can be tracked and then paid through via connection with a finance department. The acquisitions functions also can be set up to notify the acquisitions staff of orders that have not been filled.\r\n",
        "\r\n",
        "#### **Circulation Functions**\r\n",
        "\r\n",
        "A separate system is not needed to manage library resources checked out to library users. The ILS can be used to manage patron records. At a college library, student and employee information may be downloaded and added from a campus system. At a public or school library then may be entered individually. Once patron records are added, library resources can quickly be checked out, and upon their return they can be checked in. When an item is overdue, an overdue notice can be generated automatically and sent to the library user. Also, the ILS can track fines.\r\n",
        "\r\n",
        "In an academic setting, the ILS can be used to manage reserves, including e-reserves. \r\n",
        "\r\n",
        "#### **Serials Functions**\r\n",
        "\r\n",
        "The acquisitions functions have to do with single orders. Serials functions allow the library to create order records for resources that are received on an ongoing basis, like journals and magazines. As with single orders, the orders can be submitted to vendors electronically.\r\n",
        "\r\n",
        "When journal or magazine issues are received they can be checked in. When an issue has not been received as expected, a notification can be generated and a \"claim\" can be sent to the vendor.\r\n",
        "\r\n",
        "The ILS also can be used to manage binding. When all issues of a journal volume have been received, a notification may be generated and a binding slip generated. The issues can then be sent to be bound into a single volume.\r\n",
        "\r\n",
        "#### **eResource management (ERM) Functions**\r\n",
        "\r\n",
        "Journal packages may contain thousands of journal titles. The same is true of purchases or or subscriptions to ebooks, music, videos, etc. An ERM is used to track what the package includes, the license agreement, and more.\r\n",
        "\r\n",
        "#### **Administrative Functions**\r\n",
        "\r\n",
        "The ILS will include options for generating statistics and reports. \r\n",
        "\r\n",
        "And more ...\r\n",
        "\r\n",
        "The ILS will include options for outputting records, too. Libraries may submit bibliographic records to partners, or records may be harvested for inclusion in discovery systems.  \r\n",
        "\r\n",
        "The ILS is a management tool that provides the wide-range of functions needed to order, receive, and manage the library's information resources.  [http://ilsstaff.nypl.org/record=b12333760](http://ilsstaff.nypl.org/record=b12333760)\r\n",
        "\r\n",
        "| | |\r\n",
        "|-|-|\r\n",
        "|<p>To get a sense of the wide range of things to be addressed and the level of detail that must be considered, review an RFP (request for proposal) for an integrated library system.<br>Chautauqua-Cataraugus Library System. Request for Proposal, Integrated Library System. [https://www.cclsny.org/wp-content/uploads/2018/02/CCLS-Request-for-Proposal-for-New-ILS.pdf](https://www.cclsny.org/wp-content/uploads/2018/02/CCLS-Request-for-Proposal-for-New-ILS.pdf)<br><ul><li>4.1.1, starting on page 10, covers the desired functionality for the OPAC.<li>Look at other sections, too, to review the features listed for other functions in the ILS, as well as expected vendor support and overall system requirements.<li>4.1.2. Acquisitions<li>4.1.3. Cataloging<li>4.1.4. Circulation<li>4.1.5. Reporting<li>4.2. Administration and Customization<li>4.3. Implementation, Training, and Support<li>4.4. Third Party Integration<li>4.5. Platform and Data</ul>| \r\n",
        "\r\n",
        "#### **Next**\r\n",
        "\r\n",
        "_The ILS entry in Wikipedia gives a quick history of integrated library systems and their predecessors. Now that you understand what ILSs can do, the next page invites you to consider how they grew to exist in their present state in libraries._"
      ]
    }
  ]
}