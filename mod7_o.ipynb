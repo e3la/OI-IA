{
  "nbformat": 4,
  "nbformat_minor": 0,
  "metadata": {
    "colab": {
      "name": "mod7-o.ipynb",
      "provenance": [],
      "authorship_tag": "ABX9TyP4UUTobYNpDhz9pgreQgAS",
      "include_colab_link": true
    },
    "kernelspec": {
      "name": "python3",
      "display_name": "Python 3"
    }
  },
  "cells": [
    {
      "cell_type": "markdown",
      "metadata": {
        "id": "view-in-github",
        "colab_type": "text"
      },
      "source": [
        "<a href=\"https://colab.research.google.com/github/e3la/Organizing-Information-in-Information-Agencies/blob/master/mod7_o.ipynb\" target=\"_parent\"><img src=\"https://colab.research.google.com/assets/colab-badge.svg\" alt=\"Open In Colab\"/></a>"
      ]
    },
    {
      "cell_type": "markdown",
      "metadata": {
        "id": "JNtJRxQfwiL4"
      },
      "source": [
        "\"Dublin Core Metadata Element Set\" (DCMI, 2020)\r\n",
        "===============================================\r\n",
        "\r\n",
        "**Specific Ways to Use XML: DCMES**\r\n",
        "-----------------------------------\r\n",
        "\r\n",
        "> The Dublin Core Metadata Element Set ([https://www.dublincore.org/specifications/dublin-core/dces/](https://www.dublincore.org/specifications/dublin-core/dces/) ) allows libraries to use XML.\r\n",
        "\r\n",
        "#### Note\r\n",
        "\r\n",
        "*   The Dublin Core Metadata Element Set is usually abbreviated DCMES.\r\n",
        "    *   Sometimes, information professionals will just refer to it as Dublin Core, named after the city in Ohio (a suburb of Columbus) where OCLC is housed.\r\n",
        "*   DCMES defines elements that can pertain to information objects. These often appear as tags the same way that HTML tags appear. \r\n",
        "\r\n",
        "#### **Next**\r\n",
        "\r\n",
        "_Next, a consideration of how metadata is created._"
      ]
    }
  ]
}