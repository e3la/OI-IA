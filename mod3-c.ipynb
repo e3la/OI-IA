{
 "cells": [
  {
   "cell_type": "markdown",
   "metadata": {},
   "source": [
    "# Self Study: The Human Element\n",
    "\n",
    "This activity will help you to analyze the components of information retrieval in more detail, and to shift your focus to users and their needs. Use the sticky notes below jot down your ideas.\n",
    "\n",
    "Think of a few categories of information seekers and possible scenarios that describe an information need each might have. Think of one possible type of information resource that might be used to fulfill that need and identify one retrieval system or tool that might be used to as the information intermediary. Those are the major components of the information retrieval process, but they are not enough for success. Consider what is needed for a successful outcome and consider some of the hindrances that might block that success. One example is included to get you started.\n",
    "\n",
    "[](https://missouri.instructure.com/courses/45003/files/7748393/download?wrap=1 \"InformationRetrieval-PartsWorksheet.docx\")\n",
    "\n",
    "#### **Information seeker and scenario**\n",
    "\n",
    "##### **Information seeker and scenario**\n",
    "\n",
    "##### **Information resource**\n",
    "\n",
    "##### **Retrieval system or tool**\n",
    "\n",
    "##### **Elements needed for success**\n",
    "\n",
    "##### **Potential problems**\n",
    "\n",
    "Undergraduate student doing a research paper\n",
    "\n",
    "Journal article\n",
    "\n",
    "Bibliographic database\n",
    "\n",
    "\\-Bibliographic database includes quality surrogate records  \n",
    "\\-Student has access to a computer with internet\n",
    "\n",
    "\\-Student is not familiar with the topic  \n",
    "\\-Student does not have access to a computer with internet\n",
    "\n",
    "#### **Next**\n",
    "\n",
    "_What types of searches do you expect library catalogs to provide? In previous modules and in your studies, you looked at catalogs and other retrieval systems, but have you stopped to assess your own expectations of these systems? Next, you will have the opportunity for self-study where you will be asked to analyze your own expectations._"
   ]
  },
  {
   "cell_type": "code",
   "execution_count": null,
   "metadata": {},
   "outputs": [],
   "source": []
  }
 ],
 "metadata": {
  "kernelspec": {
   "display_name": "Python 3",
   "language": "python",
   "name": "python3"
  },
  "language_info": {
   "codemirror_mode": {
    "name": "ipython",
    "version": 3
   },
   "file_extension": ".py",
   "mimetype": "text/x-python",
   "name": "python",
   "nbconvert_exporter": "python",
   "pygments_lexer": "ipython3",
   "version": "3.8.5"
  }
 },
 "nbformat": 4,
 "nbformat_minor": 4
}
