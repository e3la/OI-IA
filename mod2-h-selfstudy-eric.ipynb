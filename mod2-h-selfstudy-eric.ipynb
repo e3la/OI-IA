{
 "cells": [
  {
   "cell_type": "markdown",
   "metadata": {},
   "source": [
    "# Self Study: Searching in ERIC\n",
    "\n",
    "![](https://missouri.instructure.com/courses/45003/files/7748332/download)  \n",
    "You may be very familiar with Amazon or other websites that sell merchandise online, and possibly less familiar with LIS databases. Either way, take five minutes to visit the [ERIC (Educational Resources Information Clearinghouse) (Links to an external site.)](https://eric.ed.gov/) online database of articles about education.\n",
    "\n",
    "> The question you will attempt to answer: **Are there any articles about Lady Gaga?**\n",
    "\n",
    "Pay attention to the search capabilities of the database. Notice how you launch your query. Read read any instructions you can find. Then, look carefully at the results you get.\n",
    "\n",
    "*   What does each snippet tell you? Look carefully! There is a lot of information.\n",
    "*   What fields did the system search to come up with this set of results?\n",
    "*   What happens when you start clicking on the results?\n",
    "*   Now, based on your experience of launching a query in the ERIC database, what aspects of databases, as previously described, are you able to see from the user's perspective?\n",
    "\n",
    "![](https://missouri.instructure.com/courses/45003/files/7748378/download)  \n",
    "You may have started by typing the words:\n",
    "\n",
    "_Lady Gaga_\n",
    "\n",
    "into the search box on the first page. Try a couple of advanced search options (see the tips) and compare the results.\n",
    "\n",
    "#### **Next**\n",
    "\n",
    "_The structures of databases contribute a lot to how information can be retrieved. Buckland (1991) demonstrated that it is information-as-thing that information professionals are organizing and making available to users. In the case of library catalogs in particular and also databases like ERIC, the information being stored in the retrieval tool \"stands in\" for a book or an article. The special function of \"standing in for\" is important for information intermediaries._"
   ]
  }
 ],
 "metadata": {
  "kernelspec": {
   "display_name": "Python 3",
   "language": "python",
   "name": "python3"
  },
  "language_info": {
   "codemirror_mode": {
    "name": "ipython",
    "version": 3
   },
   "file_extension": ".py",
   "mimetype": "text/x-python",
   "name": "python",
   "nbconvert_exporter": "python",
   "pygments_lexer": "ipython3",
   "version": "3.8.5"
  }
 },
 "nbformat": 4,
 "nbformat_minor": 4
}
