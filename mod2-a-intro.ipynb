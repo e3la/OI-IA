{
 "cells": [
  {
   "cell_type": "markdown",
   "metadata": {},
   "source": [
    "#### An Introduction to Retrieval and Retrieval Systems & Tools\n",
    "\n",
    "Organization of information happens to support the retrieval of information. Depending on the classes you  have already taken, you may have studied concepts relative to storage, retrieval, and access, and the services that information professionals provide related to these.\n",
    "\n",
    "When it comes to retrieval, it is important to understand where libraries and other information agencies have been and how they arrived at where they are today. Most importantly, knowing the history of retrieval supports the understanding of the development of organizational systems, trends in future system development, and strategies needed to move forward.\n",
    "\n",
    "**![](https://missouri.instructure.com/courses/45003/files/7748372/download)Learning Objectives**\n",
    "-------------------------------------------------------------------------------------------------\n",
    "\n",
    "After completing this module, you will:\n",
    "\n",
    "*   Understand the relationship between retrieval and organization, and the necessity of organization to retrieval. \n",
    "*   Understand the basics of retrieval and the history of information and information retrieval as it applies to the organization of information. \n",
    "*   Identify components in information retrieval.\n",
    "*   Describe some of the most common retrieval systems and tools used in information agencies and note how information is organized differently in different environments. \n",
    "\n",
    "**![](https://missouri.instructure.com/courses/45003/files/7748370/download)Essential Questions**\n",
    "-------------------------------------------------------------------------------------------------\n",
    "\n",
    "*   How does retrieval work? Why is it considered the \"other side of the coin\" when talking about organizing?\n",
    "*   What technical aspects of retrieval are relevant in this context?\n",
    "*   Given the systems and practices described, how best can we, as information professionals, organize the resources we have selected for inclusion in our collections?\n",
    "\n",
    "\n",
    "````{margin} **Rationale**\n",
    "```{note}\n",
    "Information professionals organize for retrieval, so in order to organize effectively, information professionals must understand some basics about how content will be retrieved.\n",
    "```\n",
    "````"
   ]
  },
  {
   "cell_type": "code",
   "execution_count": null,
   "metadata": {},
   "outputs": [],
   "source": []
  },
  {
   "cell_type": "code",
   "execution_count": null,
   "metadata": {},
   "outputs": [],
   "source": []
  }
 ],
 "metadata": {
  "kernelspec": {
   "display_name": "Python 3",
   "language": "python",
   "name": "python3"
  },
  "language_info": {
   "codemirror_mode": {
    "name": "ipython",
    "version": 3
   },
   "file_extension": ".py",
   "mimetype": "text/x-python",
   "name": "python",
   "nbconvert_exporter": "python",
   "pygments_lexer": "ipython3",
   "version": "3.8.5"
  }
 },
 "nbformat": 4,
 "nbformat_minor": 4
}
