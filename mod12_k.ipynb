{
  "nbformat": 4,
  "nbformat_minor": 0,
  "metadata": {
    "colab": {
      "name": "mod12-k.ipynb",
      "provenance": [],
      "authorship_tag": "ABX9TyM0Vy+hVo011hvCrnbM4OhK",
      "include_colab_link": true
    },
    "kernelspec": {
      "name": "python3",
      "display_name": "Python 3"
    },
    "language_info": {
      "name": "python"
    }
  },
  "cells": [
    {
      "cell_type": "markdown",
      "metadata": {
        "id": "view-in-github",
        "colab_type": "text"
      },
      "source": [
        "<a href=\"https://colab.research.google.com/github/e3la/Organizing-Information-in-Information-Agencies/blob/master/mod12_k.ipynb\" target=\"_parent\"><img src=\"https://colab.research.google.com/assets/colab-badge.svg\" alt=\"Open In Colab\"/></a>"
      ]
    },
    {
      "cell_type": "markdown",
      "metadata": {
        "id": "vTMyTLLCRDv8"
      },
      "source": [
        "\"Reader privacy\" (Lynch, 2019)\n",
        "==============================\n",
        "\n",
        "[Clifford Lynch](https://en.wikipedia.org/wiki/Clifford_Lynch) is a well-known name in LIS. According to Wikipedia: \n",
        "\n",
        "> **\"Clifford Lynch** is the director of the [Coalition for Networked Information](https://en.wikipedia.org/wiki/Coalition_for_Networked_Information \"Coalition for Networked Information\") (CNI), where he has been since 1997.[\\[1\\]](https://en.wikipedia.org/wiki/Clifford_Lynch#cite_note-cni1997-1) He is also an adjunct professor at Berkeley's School of Information.[\\[2\\]\"](https://en.wikipedia.org/wiki/Clifford_Lynch#cite_note-2)\n",
        "\n",
        "Read Lynch's cautions about the data that vendors in libraries can maintain on the users of their services -- the patrons! Libraries pay for these services, yet vendors are collecting data creating a situation where libraries are both potentially _paying_ and they are the furnishing the _product_! This provides a bit of a chilling perspective to the old adage you saw in the beginning of this Module about \"If you're not paying, you're the product.\"\n",
        "\n",
        "> Lynch, C. A. (2019). Reader privacy: The new shape of the threat. _Research Library Issues_, _297_, 7–14.  \n",
        "> [https://doi.org/10.29242/rli.297.2](https://doi.org/10.29242/rli.297.2).\n",
        "\n",
        "#### Notes\n",
        "\n",
        "*   Lynch lists three scenarios about threats to reader privacy, all of which apply is some part to the organization systems used by libraries.\n",
        "*   The threat most applicable to Module 12 is the third category. \"The third category of threat, which is new to the age of digital content, involves data that is collected by external vendors who provide licensed content to libraries.\" (p. 8) \n",
        "\n",
        "#### **Next**\n",
        "\n",
        "_The last page looks at the problem of biased language in indexing. Indexing exists in all systems (including for-profit and nonprofit), and the potential for bias does as well._"
      ]
    }
  ]
}