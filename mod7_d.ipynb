{
  "nbformat": 4,
  "nbformat_minor": 0,
  "metadata": {
    "colab": {
      "name": "mod7-d.ipynb",
      "provenance": [],
      "authorship_tag": "ABX9TyPMN1Hc+YgaMKOEp/BDoYlV",
      "include_colab_link": true
    },
    "kernelspec": {
      "name": "python3",
      "display_name": "Python 3"
    }
  },
  "cells": [
    {
      "cell_type": "markdown",
      "metadata": {
        "id": "view-in-github",
        "colab_type": "text"
      },
      "source": [
        "<a href=\"https://colab.research.google.com/github/e3la/Organizing-Information-in-Information-Agencies/blob/master/mod7_d.ipynb\" target=\"_parent\"><img src=\"https://colab.research.google.com/assets/colab-badge.svg\" alt=\"Open In Colab\"/></a>"
      ]
    },
    {
      "cell_type": "markdown",
      "metadata": {
        "id": "yc9vkJxZUlH7"
      },
      "source": [
        "Key Ideas in IO: Administrative Metadata\r\n",
        "========================================\r\n",
        "\r\n",
        "**Defining Administrative Metadata**\r\n",
        "------------------------------------\r\n",
        "\r\n",
        "To revisit Gilliland (2016)'s content from the table you just saw, _administrative metadata_ is defined as:\r\n",
        "\r\n",
        "> Metadata used in managing and administering collections and information resources\r\n",
        "> \r\n",
        "> (Gilliland, 2016, section Categorizing Metadata)\r\n",
        "\r\n",
        "This definition is somewhat basic, but is a good point of departure. Whereas descriptive metadata is essential for finding and evaluating the potential usefulness or relevancy of an item, administrative metadata is essential for the information or IT professionals overseeing the repository or retrieval system. \r\n",
        "\r\n",
        "According to the Society of American Archivists's online glossary, [administrative metadata](https://dictionary.archivists.org/entry/administrative-metadata.html) is defined in the following way (pay special attention to the Notes and Citations that follow—these are key to starting to understand the function of administrative metadata):\r\n",
        "\r\n",
        "> n. Data that is necessary to manage and use information resources and that is typically external to informational content of resources.\r\n",
        "> \r\n",
        "> **Notes**\r\n",
        "> \r\n",
        "> Administrative metadata often captures the context necessary to understand information resources, such as creation or acquisition of the data, rights management, and disposition.\r\n",
        "> \r\n",
        "> **Citations**\r\n",
        "> \r\n",
        "> ([Puglia, Reed, and Rhodes 2004](https://dictionary.archivists.org/sources.html#1434), p. 8) Administrative metadata comprises both technical and preservation metadata, and is generally used for internal management of digital resources. Administrative metadata may include information about rights and reproduction or other access requirements, selection criteria or archiving policy for digital content, audit trails or logs created by a digital asset management system, persistent identifiers, methodology or documentation of the imaging process, or information about the source materials being scanned. In general, administrative metadata is informed by the local needs of the project or institution and is defined by project-specific workflows. Administrative metadata may also encompass repository-like information, such as billing information or contractual agreements for deposit of digitized resources into a repository.\r\n",
        "\r\n",
        "Gilliland (2016) provides a number of examples in the table to support further understanding. These examples are the following:\r\n",
        "\r\n",
        "> *   Acquisition and appraisal information\r\n",
        "> *   Rights and reproduction tracking\r\n",
        "> *   Documentation of legal, cultural, and community-access requirements and protocols\r\n",
        "> *   Location information\r\n",
        "> *   Selection criteria for digitization\r\n",
        "> *   Digital repatriation documentation\r\n",
        "> \r\n",
        "> (Gilliland, 2016, section Categorizing Metadata)\r\n",
        "\r\n",
        "### ![](https://missouri.instructure.com/courses/10640/files/7506582/download)  \r\n",
        "**Self-Study**\r\n",
        "\r\n",
        "Take two minutes to go through the list above and think of examples of each. If you are unfamiliar with some of the terminology, please consult either the [ODLIS](https://products.abc-clio.com/ODLIS/odlis_about.aspx) or the [Glossary of Archival and Records Terminology](https://www2.archivists.org/glossary) (the glossary of the Society of American Archivists).\r\n",
        "\r\n",
        "#### Three Kinds of Administrative Metadata\r\n",
        "\r\n",
        "Coming back to the question of specifics, what does administrative metadata really do?\r\n",
        "\r\n",
        "NISO (Riley, 2017) identifies three functions of administrative metadata that closely align with some of the categories supplied by Gilliland (2016). The point of this is not to get too wrapped up in slight differences in how purposes might be described or categories defined, but rather to show a broad overview of administrative metadata!\r\n",
        "\r\n",
        "The breakout of administrative metadata below should help make the concept of administrative metadata a little more concrete, and the next few pages in this Module will present an opportunity for a deeper dive into each. \r\n",
        "\r\n",
        "NISO (Riley, 2017) states that administrative metadata includes the following: \r\n",
        "\r\n",
        "> Administrative metadata\r\n",
        "> \r\n",
        "> — Technical metadata\r\n",
        "> \r\n",
        "> — Preservation metadata\r\n",
        "> \r\n",
        "> — Rights metadata\r\n",
        "> \r\n",
        "> — For decoding and rendering files\r\n",
        "> \r\n",
        "> — Long-term management of files\r\n",
        "> \r\n",
        "> — Intellectual property rights attached to content\r\n",
        "> \r\n",
        "> (Riley, 2017, p. 6)\r\n",
        "\r\n",
        "Take a moment, based on the minimal explanation of each, to imagine what each of these types of metadata includes. Again, the chapter from Gilliland (2016) already presented a few of these as \"categories\" of metadata, so you have had some exposure to these ideas. \r\n",
        "\r\n",
        "Your perspective has potentially matured a bit since you first read the Gilliland (2016) chapter, though. Take a moment or two to reflect on how systems might need information about the technical nature of an object, preservation information, and information about its rights (or use). \r\n",
        "\r\n",
        "#### **Next**\r\n",
        "\r\n",
        "_The focus turns to technical metadata as a specific kind of administrative metadata._\r\n",
        "\r\n",
        "* * *\r\n",
        "\r\n",
        "#### References\r\n",
        "\r\n",
        "Gilliland, A. J. (2016). Setting the stage. In M. Baca (Ed.), _Introduction to metadata_ (3rd ed.). The Getty Research Institute. [http://www.getty.edu/publications/intrometadata/setting-the-stage/](http://www.getty.edu/publications/intrometadata/setting-the-stage/)[](http://www.getty.edu/publications/intrometadata/setting-the-stage/)\r\n",
        "\r\n",
        "Riley, J. (2017). _Understanding metadata: What is metadata, and what is it for?_ National Information Standards Organization (NISO). [https://groups.niso.org/apps/group\\_public/download.php/17446/Understanding%20Metadata.pdf](https://groups.niso.org/apps/group_public/download.php/17446/Understanding%20Metadata.pdf)"
      ]
    }
  ]
}