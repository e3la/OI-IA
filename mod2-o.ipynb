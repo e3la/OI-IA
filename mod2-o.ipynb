{
 "cells": [
  {
   "cell_type": "markdown",
   "metadata": {},
   "source": [
    "# \"Beyond Accuracy: Precision and Recall\" (Koehrsen, 2018)\n",
    "\n",
    "To reinforce the notion of precision and recall, the following blog post explains these ideas but from a different perspective.\n",
    "\n",
    "> Koehrsen, W. (2018, March 3). Beyond accuracy: Precision and recall. _Towards Data Science._ [https://towardsdatascience.com/beyond-accuracy-precision-and-recall-3da06bea9f6c](https://towardsdatascience.com/beyond-accuracy-precision-and-recall-3da06bea9f6c) [[Archive.org saved version]](https://web.archive.org/web/20190714235222/https://towardsdatascience.com/beyond-accuracy-precision-and-recall-3da06bea9f6c?gi=e191752fd42f)\n",
    "\n",
    "\n",
    "\n",
    "#### Notes\n",
    "\n",
    "*   In this 11-minute read, Koehrsen (2018) applies the classic retrieval notions of recall and precision to data science -- and it really works well!\n",
    "*   Read this essay carefully, and then reflect on how this applies to the results sets described in the last page."
   ]
  },
  {
   "cell_type": "code",
   "execution_count": null,
   "metadata": {},
   "outputs": [],
   "source": []
  }
 ],
 "metadata": {
  "kernelspec": {
   "display_name": "Python 3",
   "language": "python",
   "name": "python3"
  },
  "language_info": {
   "codemirror_mode": {
    "name": "ipython",
    "version": 3
   },
   "file_extension": ".py",
   "mimetype": "text/x-python",
   "name": "python",
   "nbconvert_exporter": "python",
   "pygments_lexer": "ipython3",
   "version": "3.8.5"
  }
 },
 "nbformat": 4,
 "nbformat_minor": 4
}
