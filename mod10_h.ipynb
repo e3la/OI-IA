{
  "nbformat": 4,
  "nbformat_minor": 0,
  "metadata": {
    "colab": {
      "name": "mod10-h.ipynb",
      "provenance": [],
      "authorship_tag": "ABX9TyPByPWJEmmrj9Bs4x6e2L02",
      "include_colab_link": true
    },
    "kernelspec": {
      "name": "python3",
      "display_name": "Python 3"
    },
    "language_info": {
      "name": "python"
    }
  },
  "cells": [
    {
      "cell_type": "markdown",
      "metadata": {
        "id": "view-in-github",
        "colab_type": "text"
      },
      "source": [
        "<a href=\"https://colab.research.google.com/github/e3la/Organizing-Information-in-Information-Agencies/blob/master/mod10_h.ipynb\" target=\"_parent\"><img src=\"https://colab.research.google.com/assets/colab-badge.svg\" alt=\"Open In Colab\"/></a>"
      ]
    },
    {
      "cell_type": "markdown",
      "metadata": {
        "id": "ngCZQ_GUarXG"
      },
      "source": [
        "Self Study: Wikidata as a data source\n",
        "=====================================\n",
        "\n",
        "![](https://missouri.instructure.com/courses/49361/files/8633222/preview)\n",
        "\n",
        "Linked data technologies rely on data stores of structured data. Wikidata is an example of a knowledge based that stores structured data that can be reused in other web applications.\n",
        "\n",
        "1\\. Spend five minutes exploring Wikidata.\n",
        "\n",
        "A record to get you started:\n",
        "\n",
        "*   *   *   [Franklin D. Roosevelt](https://www.wikidata.org/wiki/Q8007)\n",
        "        *   Note the data fields and values, including how the information is structured.\n",
        "        *   The public view of the information does not show the structure as a triple. \n",
        "\n",
        "Search for and explore entries for additional concepts, such as things and places. Note the fields available in these records.\n",
        "\n",
        "2\\. After you have reviewed a few entries, read more about Wikidata to further develop your understanding of data stores.\n",
        "\n",
        "*   Wikidata. (January 6, 2021). Wikidata: Introduction. [https://www.wikidata.org/wiki/Wikidata:Introduction](https://www.wikidata.org/wiki/Wikidata:Introduction)\n",
        "*   Focus on the section, \"How does wikidata work?\"\n",
        "\n",
        "3\\. Where is Wikidata used? Two examples: \n",
        "\n",
        "*   [Wikipedia](https://en.wikipedia.org/wiki/Wikipedia:Use_of_Wikidata_in_Wikipedia)\n",
        "*   [Histropedia](http://www.histropedia.com/about.html)\n",
        "\n",
        "4\\. Consider how Wikidata information could be used in LAMS.\n",
        "\n",
        "#### **Next**\n",
        "\n",
        "_Learn about BIBFRAME, a encoding scheme for libraries which was designed for linked data applications.  \n",
        "_"
      ]
    }
  ]
}