{
  "nbformat": 4,
  "nbformat_minor": 0,
  "metadata": {
    "colab": {
      "name": "mod7-l-FIX-ODLIS.ipynb",
      "provenance": [],
      "authorship_tag": "ABX9TyOVMgUnk8amjvZrnDjaihNU",
      "include_colab_link": true
    },
    "kernelspec": {
      "name": "python3",
      "display_name": "Python 3"
    }
  },
  "cells": [
    {
      "cell_type": "markdown",
      "metadata": {
        "id": "view-in-github",
        "colab_type": "text"
      },
      "source": [
        "<a href=\"https://colab.research.google.com/github/e3la/Organizing-Information-in-Information-Agencies/blob/master/mod7_l_FIX_ODLIS.ipynb\" target=\"_parent\"><img src=\"https://colab.research.google.com/assets/colab-badge.svg\" alt=\"Open In Colab\"/></a>"
      ]
    },
    {
      "cell_type": "code",
      "metadata": {
        "id": "NCzFNGKujZLn"
      },
      "source": [
        ""
      ],
      "execution_count": null,
      "outputs": []
    },
    {
      "cell_type": "markdown",
      "metadata": {
        "id": "NXBU_YJIjZ0U"
      },
      "source": [
        "Key Ideas in IO: Structural Metadata\r\n",
        "====================================\r\n",
        "\r\n",
        "**Defining Structural Metadata**\r\n",
        "--------------------------------\r\n",
        "\r\n",
        "The NISO primer identifies structural metadata as another primary kind of metadata—separate from descriptive metadata and administrative metadata. Specifically, structural metadata demonstrates the \"relationships of parts of resources to one another\" (Riley, 2017, p. 6).\r\n",
        "\r\n",
        "Why is this important? Consider for a moment what is meant by \"audiovisual\"—what are the characteristics of a film, for example? If you study preservation, you'll know that there is at least one audio track and at least one video track (more if there are multiple language versions and captions), and they all have to be coordinated to play at the right time. The parts of a video resource need to be in exact alignment. If you are curious, the ODLIS defines [audiovisual (AV)](https://products.abc-clio.com/ODLIS/odlis_a.aspx#audiovisual) in the following way:\r\n",
        "\r\n",
        "> A [work](https://products.abc-clio.com/ODLIS/odlis_w.aspx#work) in a [medium](https://products.abc-clio.com/ODLIS/odlis_m.aspx#medium) that combines sound and visual images, for example, a [motion picture](https://products.abc-clio.com/ODLIS/odlis_m.aspx#motionpicture) or [videorecording](https://products.abc-clio.com/ODLIS/odlis_v.aspx#videorecording) with a [sound track](https://products.abc-clio.com/ODLIS/odlis_s.aspx#soundtrack), or a [slide](https://products.abc-clio.com/ODLIS/odlis_s.aspx#slide) presentation synchronized with [audiotape](https://products.abc-clio.com/ODLIS/odlis_a.aspx#audiotape). [Directory](https://products.abc-clio.com/ODLIS/odlis_d.aspx#directory) [information](https://products.abc-clio.com/ODLIS/odlis_i.aspx#information) for products and services provided by the audiovisual industry is available in _AV Market Place (AVMP)_, [published](https://products.abc-clio.com/ODLIS/odlis_p.aspx#publishing) [annual](https://products.abc-clio.com/ODLIS/odlis_a.aspx#annual)ly by Information Today, Inc. Also spelled _audio-visual_ and [abbreviated](https://products.abc-clio.com/ODLIS/odlis_a.aspx#abbreviation) _a-v_. **_See also_**: [media](https://products.abc-clio.com/ODLIS/odlis_m.aspx#media).\r\n",
        "\r\n",
        "AV is not the only place where the parts need to be in alignment (see Table 1). With metadata that is stored in repositories, the primary way that structural metadata is considered is through multi-part objects meant to be displayed in a certain sequence. \r\n",
        "\r\n",
        "**Table 1 Example Properties and Primary Uses for Structural Metadata** **(Riley, 2017, p. 7)**\r\n",
        "\r\n",
        "| **Metadata Type** | **Example Properties** | **Primary Uses**                       |\r\n",
        "| ---------------------- | ---------------------------------------------- | ------------------------------------------- |\r\n",
        "| Structural metadata        | Sequence | Navigation\r\n",
        "||  Place in hierarchy |||\r\n",
        "\r\n",
        "### **Examples of Structural Metadata: Self-Study**\r\n",
        "\r\n",
        "In module 4, you learned about Brewster Kahle, founder of the Internet Archive ([https://www.archive.org/](https://www.archive.org/)) and the WayBack Machine.\r\n",
        "\r\n",
        "Take a few moments to visit the Internet Archive. Select an open access book, and look at the software that is available for turning pages in the book. How does the software know which files to display in which order? Easy! Structural metadata. In short, structural metadata helps the viewing software understand which file should be shown immediately after the file with page 8's content -- obviously, that would be the file with the content for page 9, but unless encoded correctly, the system has no way to know which file that is!\r\n",
        "\r\n",
        "#### **Next**\r\n",
        "\r\n",
        "_Next, this module looks to specifics about encoding. You already learned about encoding and standards for \"containers\" with MARC as the quintessential library-based example, but digital repositories use other standards that align more closely with broad practice in IT on the web and beyond._\r\n",
        "\r\n",
        "* * *\r\n",
        "\r\n",
        "#### Reference\r\n",
        "\r\n",
        "Riley, J. (2017). _Understanding metadata: What is metadata, and what is it for?_ National Information Standards Organization (NISO). [https://groups.niso.org/apps/group\\_public/download.php/17446/Understanding%20Metadata.pdf](https://groups.niso.org/apps/group_public/download.php/17446/Understanding%20Metadata.pdf)"
      ]
    }
  ]
}