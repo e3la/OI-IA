{
 "cells": [
  {
   "cell_type": "markdown",
   "metadata": {},
   "source": [
    "\"DIKW Pyramid\" (Wikipedia, 2020)\n",
    "================================\n",
    "\n",
    "> DIKW pyramid. (2020, August 1). In _Wikipedia._ [https://en.wikipedia.org/wiki/DIKW\\_pyramid (Links to an external site.)](https://en.wikipedia.org/wiki/DIKW_pyramid)\n",
    "\n",
    "#### Notes\n",
    "\n",
    "*   Look through this article, which is primarily based on research in LIS!\n",
    "*   Pay special attention to the perspectives on _information._ Contrast the term \"information\" with data, knowledge, and wisdom, which are all different from information.\n",
    "\n",
    "---"
   ]
  },
  {
   "cell_type": "code",
   "execution_count": 14,
   "metadata": {},
   "outputs": [
    {
     "data": {
      "text/html": [
       "\n",
       "        <iframe\n",
       "            width=\"900\"\n",
       "            height=\"650\"\n",
       "            src=\"./DIKW pyramid - Wikipedia.pdf\"\n",
       "            frameborder=\"0\"\n",
       "            allowfullscreen\n",
       "        ></iframe>\n",
       "        "
      ],
      "text/plain": [
       "<IPython.lib.display.IFrame at 0x19df3c15d90>"
      ]
     },
     "metadata": {},
     "output_type": "display_data"
    }
   ],
   "source": [
    "if True:\n",
    "    from IPython.display import IFrame    \n",
    "    display(IFrame(\"./DIKW pyramid - Wikipedia.pdf\", width=900, height=650))"
   ]
  },
  {
   "cell_type": "code",
   "execution_count": null,
   "metadata": {},
   "outputs": [],
   "source": []
  }
 ],
 "metadata": {
  "kernelspec": {
   "display_name": "Python 3",
   "language": "python",
   "name": "python3"
  },
  "language_info": {
   "codemirror_mode": {
    "name": "ipython",
    "version": 3
   },
   "file_extension": ".py",
   "mimetype": "text/x-python",
   "name": "python",
   "nbconvert_exporter": "python",
   "pygments_lexer": "ipython3",
   "version": "3.8.5"
  }
 },
 "nbformat": 4,
 "nbformat_minor": 4
}
