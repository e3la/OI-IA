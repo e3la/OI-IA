{
  "nbformat": 4,
  "nbformat_minor": 0,
  "metadata": {
    "colab": {
      "name": "mod8-n.ipynb",
      "provenance": [],
      "authorship_tag": "ABX9TyO99WyVrUFC9rcOIk+k0cyn",
      "include_colab_link": true
    },
    "kernelspec": {
      "name": "python3",
      "display_name": "Python 3"
    }
  },
  "cells": [
    {
      "cell_type": "markdown",
      "metadata": {
        "id": "view-in-github",
        "colab_type": "text"
      },
      "source": [
        "<a href=\"https://colab.research.google.com/github/e3la/Organizing-Information-in-Information-Agencies/blob/master/mod8_n.ipynb\" target=\"_parent\"><img src=\"https://colab.research.google.com/assets/colab-badge.svg\" alt=\"Open In Colab\"/></a>"
      ]
    },
    {
      "cell_type": "markdown",
      "metadata": {
        "id": "_imEkfPWHz0C"
      },
      "source": [
        "\"Documenting the Conversation\" (Bossaller & Moulaison Sandy, 2017)\r\n",
        "==================================================================\r\n",
        "\r\n",
        "Finally, consider how online catalogs are being integrated into search in certain library environments.\r\n",
        "\r\n",
        "> Bossaller, J., & Moulaison Sandy, H. (2017). Documenting the conversation: A systematic review of library discovery layers. _College & Research Libraries, 78_(5), 602–619. [https://doi.org/10.5860/crl.78.5.602](https://doi.org/10.5860/crl.78.5.602)\r\n",
        "\r\n",
        "#### Notes\r\n",
        "\r\n",
        "*   **Pay special attention to the history of the evolution of online catalogs in libraries.** This OER does not focus on how online catalogs came to look as they do today (though a bit of the evolution of related technology is covered in \"Module 4. Historical Approaches to IO\")\r\n",
        "*   Also, please note the definition of and implications for the term \"discovery layer\"—how does that differ from \"discovery system\", a term that is particularly relevant in this module covering \"systems\"? And what about \"discovery service,\" a term you saw on the previous page?\r\n",
        "*   This article is published in a journal that focuses on academic libraries. In academic library environments, why do information professionals beyond those working in IO find discovery layers useful to study? In what ways are they studying discovery? Why is this important?\r\n",
        "\r\n",
        "#### **Next**\r\n",
        "\r\n",
        "_The online catalog, OPAC, ILS, and discovery system will not work without bibliographic records. Where do the records come from? Many libraries make use of a cooperative cataloging environment to reduce redundant work._"
      ]
    }
  ]
}