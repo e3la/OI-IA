{
  "nbformat": 4,
  "nbformat_minor": 0,
  "metadata": {
    "colab": {
      "name": "mod9-l.ipynb",
      "provenance": [],
      "authorship_tag": "ABX9TyNVUvVlMVqE8ljp96RV1+7X",
      "include_colab_link": true
    },
    "kernelspec": {
      "name": "python3",
      "display_name": "Python 3"
    },
    "language_info": {
      "name": "python"
    }
  },
  "cells": [
    {
      "cell_type": "markdown",
      "metadata": {
        "id": "view-in-github",
        "colab_type": "text"
      },
      "source": [
        "<a href=\"https://colab.research.google.com/github/e3la/Organizing-Information-in-Information-Agencies/blob/master/mod9_l.ipynb\" target=\"_parent\"><img src=\"https://colab.research.google.com/assets/colab-badge.svg\" alt=\"Open In Colab\"/></a>"
      ]
    },
    {
      "cell_type": "markdown",
      "metadata": {
        "id": "5uz77yhfOfKq"
      },
      "source": [
        "Module 9. For Further Study\n",
        "===========================\n",
        "\n",
        " **![](https://missouri.instructure.com/courses/49361/files/8633280/download) For Further Study**\n",
        "=================================================================================================\n",
        "\n",
        "#### OpenDOAR as a Gateway to Open Access Content\n",
        "\n",
        "> Curious about digital content available around the world? Look to the impressive list of high-quality digital repositories available through the OpenDOAR gateway: [http://v2.sherpa.ac.uk/opendoar/](http://v2.sherpa.ac.uk/opendoar/)\n",
        "\n",
        "##### Notes\n",
        "\n",
        "*   Browse content by country: [http://v2.sherpa.ac.uk/view/repository\\_by\\_country/](http://v2.sherpa.ac.uk/view/repository_by_country/)\n",
        "*   Or use the [advanced search](http://v2.sherpa.ac.uk/cgi/search/repository/advanced) to identify certain kinds of content or in certain languages, etc.: [http://v2.sherpa.ac.uk/view/repository\\_visualisations/1.html](http://v2.sherpa.ac.uk/view/repository_visualisations/1.html) \n",
        "*   For a board overview of the OpenDOAR project, check out its Wikipedia page:\n",
        "    \n",
        "    OpenDOAR. (2020). Wikipedia. [https://en.wikipedia.org/wiki/OpenDOAR](https://en.wikipedia.org/wiki/OpenDOAR)\n",
        "    \n",
        "\n",
        "* * *\n",
        "\n",
        "#### InterPARES Trust\n",
        "\n",
        "> Read through the content at ITrust (InterPARES Trust): [https://interparestrust.org/trust.](https://interparestrust.org/trust) \n",
        "\n",
        "##### Notes\n",
        "\n",
        "*   Why are trustworthy digital libraries important?\n",
        "*   Look through the studies that were carried out as part of this project: [https://interparestrust.org/trust/about\\_research/studies](https://interparestrust.org/trust/about_research/studies)\n",
        "*   [](https://interparestrust.org/trust/about_research/studies)Reflect on how the work carried out pertains to trust and/or digital library design decisions.\n",
        "\n",
        "* * *\n",
        "\n",
        "#### GPO Digital Content Solutions\n",
        "\n",
        "> The Government Printing Office (GPO) created this site for departments in the United States government that publish content. Their goals include free public access, long-term preservation, and ways to authenticate integrity.  \n",
        ">   \n",
        "> \"GPO’s digital content solutions include access through a searchable public website, long-term digital preservation, and multiple processes to ensure content integrity is maintained over time.\"\n",
        "\n",
        "##### Notes\n",
        "\n",
        "*   [https://www.gpo.gov/how-to-work-with-us/agency/services-for-agencies/digital-content-solutions](https://www.gpo.gov/how-to-work-with-us/agency/services-for-agencies/digital-content-solutions)\n",
        "*   The contents of site highlight that digital libraries are often more than a software system with digital content. Various services can be incorporated into digital library and digitization processes. \n",
        "*   Check out the features of the GPO digital library, too: [https://www.govinfo.gov/](https://www.govinfo.gov/) \n",
        "\n",
        "* * *\n",
        "\n",
        "#### National Digital Stewardship Alliance (NDSA)\n",
        "\n",
        "> As you have learned, hosting a digital library is not enough. Ensuring long-term preservation of content is a critical role of digital libraries, institutional repositories, and data repositories. While some content may not be slated for permanence, much of what IO professionals work with will be targeted for preservation. NDSA is a membership group that focuses on advocacy, networking, and education related to digital preservation.\n",
        "\n",
        "##### Notes\n",
        "\n",
        "*   [https://ndsa.org/publications/](https://ndsa.org/publications/)\n",
        "*   Review some of the reports issued by NDSA. Note the issues addressed by the reports listed.\n",
        "\n",
        "* * *\n",
        "\n",
        "#### Digital Library Services at the University of Utah\n",
        "\n",
        "> \"The Marriott Library's Digital Library Services department supports faculty, staff, and students at the University of Utah along with a global user base by ensuring long term preservation and public access to digital primary source materials and by providing digital services to the University of Utah and partner organizations.\"\n",
        "\n",
        "##### Notes\n",
        "\n",
        "*   [https://lib.utah.edu/services/digital-library/](https://lib.utah.edu/services/digital-library/)\n",
        "*   This site is given as example of the types of services that may be offered in academic libraries. \n",
        "*   This is an interesting site to peruse. The department has done a good job in creating a website that will be useful to those interested in working with them on digitization projects. \n",
        "*   Note the related links on the bottom left that link to a price list, plus other digital libraries of interest.\n",
        "\n",
        "* * *\n",
        "\n",
        "#### How do I ... Manage My Research Output (Smithsonian Libraries)\n",
        "\n",
        "> \"Actively managing your data throughout the research process enables reproducibility, reusability and discovery, and can help maximize the impact of your research.\"\n",
        "\n",
        "##### Notes\n",
        "\n",
        "*   [https://library.si.edu/research/manage-my-research-output](https://library.si.edu/research/manage-my-research-output)\n",
        "*   If you are interested in the management of research data, you will find a wealth of information on this site. Data Librarians are a new entry in the field of librarianship. \n",
        "*   The process of organizing data starts with a data management plan (DMP).\n",
        "*   Note the link to a guide for choosing a data repository. At a university, the university's institutional repository would be another option for researchers.\n",
        "*   There are guidelines for file names, organizing files, and metadata.\n",
        "*   The document \"Research Data Management Best Practices\" includes an image of the Research Data Management Lifecycle. An IO professional has a role in many of the phases."
      ]
    }
  ]
}