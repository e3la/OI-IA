{
  "nbformat": 4,
  "nbformat_minor": 0,
  "metadata": {
    "colab": {
      "name": "mod10-l.ipynb",
      "provenance": [],
      "authorship_tag": "ABX9TyNR0whKGRPkwRTDyIXNmXxQ",
      "include_colab_link": true
    },
    "kernelspec": {
      "name": "python3",
      "display_name": "Python 3"
    },
    "language_info": {
      "name": "python"
    }
  },
  "cells": [
    {
      "cell_type": "markdown",
      "metadata": {
        "id": "view-in-github",
        "colab_type": "text"
      },
      "source": [
        "<a href=\"https://colab.research.google.com/github/e3la/Organizing-Information-in-Information-Agencies/blob/master/mod10_l.ipynb\" target=\"_parent\"><img src=\"https://colab.research.google.com/assets/colab-badge.svg\" alt=\"Open In Colab\"/></a>"
      ]
    },
    {
      "cell_type": "markdown",
      "metadata": {
        "id": "HrkMXBU1Fjsz"
      },
      "source": [
        "Schema.org\n",
        "==========\n",
        "\n",
        "BIBFRAME may be an idea that was ahead of its time, but that does not mean that LAM data cannot be integrated into the semantic web. \n",
        "\n",
        "Purists might say that Schema.org is not technically linked data because it does not address all of the linked data principles. However, it adheres to the tehnology in a way that makes content availble on the semantic web, so most folks agree that this is the spirit of Web 3.0 -- that computers can undertand the data as it is presented. But, what exactly is Schema.org?\n",
        "\n",
        "**Schema.org**\n",
        "--------------\n",
        "\n",
        "Schema.org is an encoding scheme developed by Google, Microsoft, Yahoo!, and Yandex (a Russian search engine) for encoding webpages. When webpages are encoded with Schema.org, data elements on those pages can be utilized by linked data projects.\n",
        "\n",
        "Library metadata can be encoded with an extension of Schema.org, making the metadata available for use in for linked data applications.\n",
        "\n",
        "The future path for bibliographic records created by libraries is not definite. \n",
        "\n",
        "**Worldcat.org**\n",
        "--------------\n",
        "\n",
        "To learn about OCLC & Linked data visit \n",
        "https://www.oclc.org/en/worldcat/oclc-and-linked-data.html\n",
        "\n",
        "#### **Find a Record via an Internet Search**\n",
        "\n",
        "One purpose for using Schema.org markup is so that data elements from the record can be displayed in internet searches. Search the following keywords in an internet browser such as Google or DuckDuckGo and look for the entry for the WorldCat record:\n",
        "\n",
        "worldcat find in a library Sea people the puzzle of Polynesia Christina Thompson \n",
        "\n",
        "(Note that keywords that would not typically be used by library users are included to maximize the chance of retrieving a WorldCat record.)\n",
        "\n",
        "Making bibliographic records discoverable on the web and through linked data are goals of RDA and BIBFRAME. These changes are steps toward ensuring that people searching for information resources are aware of resources available in libraries.\n",
        "\n",
        "#### **Next**\n",
        "\n",
        "_The next page shows a record in the Deutsche Digitale Bibliothek (the German Digital Library—but do not worry! No need to know German). The records for persons employ linked open data technology and will give an idea of what can be accomplished with linked open data._"
      ]
    }
  ]
}