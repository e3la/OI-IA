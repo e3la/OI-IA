{
  "nbformat": 4,
  "nbformat_minor": 0,
  "metadata": {
    "colab": {
      "name": "mod10-c-embedyoutube.ipynb",
      "provenance": [],
      "authorship_tag": "ABX9TyPQRO8l0nABio1sW+w4Wprg",
      "include_colab_link": true
    },
    "kernelspec": {
      "name": "python3",
      "display_name": "Python 3"
    },
    "language_info": {
      "name": "python"
    }
  },
  "cells": [
    {
      "cell_type": "markdown",
      "metadata": {
        "id": "view-in-github",
        "colab_type": "text"
      },
      "source": [
        "<a href=\"https://colab.research.google.com/github/e3la/Organizing-Information-in-Information-Agencies/blob/master/mod10_c_embedyoutube.ipynb\" target=\"_parent\"><img src=\"https://colab.research.google.com/assets/colab-badge.svg\" alt=\"Open In Colab\"/></a>"
      ]
    },
    {
      "cell_type": "markdown",
      "metadata": {
        "id": "LAtrh4UBZPyd"
      },
      "source": [
        "\"What is Linked Data\" (Sporny, 2012)\n",
        "====================================\n",
        "\n",
        "Often, seeing some examples in action can be helpful. Watch the following YouTube video. \n",
        "\n",
        "> Sporny, M. (2012). _What is linked data?_ \\[Video\\]. YouTube. https://youtu.be/4x\\_xzT5eF5Q \n",
        "\n",
        "#### Notes\n",
        "\n",
        "*   This is a quick, 12 minute, non-technical introduction to linked data. Remember that linked data is a technology that permits computers to understand content, and that this idea is a natural fit with LAM institutions given the way technology has progressed.\n",
        "*   As you watch, imagine how some of these ideas might apply to author or title or subject metadata.\n",
        "*   Pay attention to the techniques that are mentioned:\n",
        "    *   Data is deconstructed and packaged so that the information can be understood by machines.\n",
        "    *   Defining relationships is important. E.g., Jan is the parent of Tim.\n",
        "    *   Concepts and entities are expressed as URLs.\n",
        "    *   Knowledge graphs are a way to model the data.\n",
        "\n",
        "#### **Next**\n",
        "\n",
        "_Read an article that highlights the value of using linked data. When the National Museum of Art, Architecture and Design in Norway began a project to make content of a print encyclopedia of Norwegian artists available online, the project involved more than digitizing and posting pages. Find out how linked data was used to enhance the final product.  \n",
        "_"
      ]
    }
  ]
}