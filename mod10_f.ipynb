{
  "nbformat": 4,
  "nbformat_minor": 0,
  "metadata": {
    "colab": {
      "name": "mod10-f.ipynb",
      "provenance": [],
      "authorship_tag": "ABX9TyNSfyCGwCfkVrAd2/6SMo7Q",
      "include_colab_link": true
    },
    "kernelspec": {
      "name": "python3",
      "display_name": "Python 3"
    },
    "language_info": {
      "name": "python"
    }
  },
  "cells": [
    {
      "cell_type": "markdown",
      "metadata": {
        "id": "view-in-github",
        "colab_type": "text"
      },
      "source": [
        "<a href=\"https://colab.research.google.com/github/e3la/Organizing-Information-in-Information-Agencies/blob/master/mod10_f.ipynb\" target=\"_parent\"><img src=\"https://colab.research.google.com/assets/colab-badge.svg\" alt=\"Open In Colab\"/></a>"
      ]
    },
    {
      "cell_type": "code",
      "metadata": {
        "id": "1jMczsPwZ79B"
      },
      "source": [
        ""
      ],
      "execution_count": null,
      "outputs": []
    },
    {
      "cell_type": "markdown",
      "metadata": {
        "id": "JvsJmUCQZ8WX"
      },
      "source": [
        "\"An Overview of the Current State of Linked Open Data in Cataloging\" (Ullah et al., 2018)\n",
        "=========================================================================================\n",
        "\n",
        "The last two pages and resources focused on linked data as the instantiaton of the semantic web ideal. But how does this relate to libraries and cultural heritage institutions? \n",
        "\n",
        "This article by Irfan Ullah, Shah Khusro, Asim Ullah, and Muhammad Naeem focuses on the state of linked data in library catalog enrironments.\n",
        "\n",
        "> Ullah, I., Khusro, S., Ullah, A., & Naeem, M. (2018). An overview of the current state of linked and open data in cataloging. _Information Technology and Libraries_, _37_(4), 47-80. [https://doi.org/10.6017/ital.v37i4.10432](https://doi.org/10.6017/ital.v37i4.10432) \n",
        "\n",
        "##### Notes\n",
        "\n",
        "*   You have already learned about RDA in Module 5\n",
        "    *   [Metadata in LAMs](https://missouri.instructure.com/courses/49361/pages/metadata-in-lams \"Metadata in LAMs \")\n",
        "    *   Hint: RDA stands for Resource Description and Access. It is a descriptive cataloging standard that informs what and how information is recorded in bibliographic records. \n",
        "    *   If you are having trouble remembering what RDA is, now is really the time to make sure you understand before moving on!\n",
        "*   You already saw that RDA was revolutionary in moving cataloging metadata forward, but did you realize \\*how\\* it was meant to move cataloging forward?\n",
        "    *   Do you understand how RDA is linked data friendly, and will enable new approaches to integration into the semantic web? Read the article by Ullah et al. ( (2018) carefully for information about the role of RDA in the era of the semantic web.\n",
        "    *   Note that RDA focuses on discrete metadata elements, while the previous standard, AACR2, focused on metadata strings. Discrete metadata elements can be structured for linked data technologies.\n",
        "*   Side note about the source: The journal _ITAL_ (_Information Technoogy and Libraries,_ usually pronounced /eye-tal/) is the journal started by the ALA division called LITA (Library and Information Technology Association)\n",
        "    *   In 2020, LITA, a division, was combined with ALCTS, another ALA division, and LLAMA (yet another division) to create a brand new ALA division called Core: [http://www.ala.org/core/](http://www.ala.org/core/)\n",
        "    *   _ITAL_ as a journal, however, lives on! It continues to be a fantastic resource for technology-related research relating to libraries.\n",
        "\n",
        "#### **Next**\n",
        "\n",
        "_Will metadata created by libraries is not generally ready for linked data, linked data technologies are being used to enhance the metadata in catalogs. A video shows how this is being done.  \n",
        "_"
      ]
    }
  ]
}