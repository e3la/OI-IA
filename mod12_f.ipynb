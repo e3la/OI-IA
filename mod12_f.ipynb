{
  "nbformat": 4,
  "nbformat_minor": 0,
  "metadata": {
    "colab": {
      "name": "mod12-f.ipynb",
      "provenance": [],
      "authorship_tag": "ABX9TyN0aP/Q/pLKNaPbr0Y147S3",
      "include_colab_link": true
    },
    "kernelspec": {
      "name": "python3",
      "display_name": "Python 3"
    },
    "language_info": {
      "name": "python"
    }
  },
  "cells": [
    {
      "cell_type": "markdown",
      "metadata": {
        "id": "view-in-github",
        "colab_type": "text"
      },
      "source": [
        "<a href=\"https://colab.research.google.com/github/e3la/Organizing-Information-in-Information-Agencies/blob/master/mod12_f.ipynb\" target=\"_parent\"><img src=\"https://colab.research.google.com/assets/colab-badge.svg\" alt=\"Open In Colab\"/></a>"
      ]
    },
    {
      "cell_type": "markdown",
      "metadata": {
        "id": "vTMyTLLCRDv8"
      },
      "source": [
        "Bias in Recommender Systems\n",
        "===========================\n",
        "\n",
        "**Issue: Bias in Recommender Systems**\n",
        "--------------------------------------\n",
        "\n",
        "Recommender systems use various techniques to provide suggestions and/or to tailor a system for users or groups of users in a way that will provide better results. Think about it: if a system knows where you are, what your interests are, what you have used in the past, and what other people like you enjoy, it will be better able to find the best, most relevant resources to suggest to you. What can possibly go wrong?\n",
        "\n",
        "The Wikipedia article for [recommender system](https://en.wikipedia.org/wiki/Recommender_system)s states the following:\n",
        "\n",
        "> A **recommender system**, or a **recommendation system** (sometimes replacing 'system' with a synonym such as platform or engine), is a subclass of [information filtering system](https://en.wikipedia.org/wiki/Information_filtering_system \"Information filtering system\") that seeks to predict the \"rating\" or \"preference\" a user would give to an item.[\\[1\\]](https://en.wikipedia.org/w/index.php?title=Recommender_system&oldid=984410408#cite_note-handbook-1)[\\[2\\]](https://en.wikipedia.org/w/index.php?title=Recommender_system&oldid=984410408#cite_note-2) They are primarily used in commercial applications.\n",
        "\n",
        "![](https://missouri.instructure.com/courses/49361/files/8633265/download)  \n",
        "Netflix famously issued a challenge to programmers in 2006 to build a cutting edge recommender system. The prize? A million dollars (read about this online at any number of webpages, including [here](https://www.thrillist.com/entertainment/nation/the-netflix-prize)). If you are an avid Netflix user, then you already benefit from recommender systems that take the pain out of searching.\n",
        "\n",
        "Recommender systems may base recommendations on user data gathered during use of a system or based on the submission of personal information by users. They can perform a great service for users, but at what cost? With something like Netflix, perhaps films that challenge standard mores and values might be downplayed in favor of more mainstream entertainment? Much as the example with Google showed, there can be a lot that goes on \"under the hood\" at the discretion of the enterprise that owns the resource.\n",
        "\n",
        "Recommender systems are an important mechanism to support discovery of items to buy, books to read, or relevant information resources. Recommender systems make use of AI principles to support retrieval, and are very much of interest to data scientists and information professionals. \n",
        "\n",
        "#### What Is AI?\n",
        "\n",
        "Consider the following piece by NPR journalist Tania Lombrozo:\n",
        "\n",
        "> Lombrozo, T. (2014, September 29). Domesticated Robots and the art of being human. _NPR.Org_. [https://www.npr.org/sections/13.7/2014/09/29/352419627/domesticated-robots-and-the-art-of-being-human](https://www.npr.org/sections/13.7/2014/09/29/352419627/domesticated-robots-and-the-art-of-being-human)\n",
        "\n",
        "Artificial intelligence (AI) uses massive amounts of data to predict anything from future crime to someone's ability to pay back loans (for much more about this, see Cathy O'Neil's book _Weapons of Math_ _Destruction_). These systems, like IO systems, make biased assumptions about the nature of the world. \n",
        "\n",
        "#### What Are Potential Problems with AI and RS in Libraries?\n",
        "\n",
        "Potential issues with recommender systems include bias, a lack of understanding or transparency in how they work and, when they are based on user data, privacy of user information.\n",
        "\n",
        "To learn more about recommender systems in libraries, read the following proceedings from the 13th ACRL conference: \n",
        "\n",
        "> Tancheva, K. and Koennecke, J. (2007). Social navigation, recommender systems, and libraries. ACRL 13th National Conference Proceedings. p. 198–205. [http://www.ala.org/acrl/sites/ala.org.acrl/files/content/conferences/confsandpreconfs/national/baltimore/papers/198.pdf](http://www.ala.org/acrl/sites/ala.org.acrl/files/content/conferences/confsandpreconfs/national/baltimore/papers/198.pdf)\n",
        "> \n",
        "> **Notes**\n",
        "> \n",
        "> *   \"Most RSs are based on collaborative filtering (CF), which operates on the assumption that users who agreed with each other in the past are likely to agree with each other in the future.\" (p. 199)\n",
        "> *   \"The biggest problem with RSs applied to libraries is that of privacy. Research has shown that even though familiarity with the recommender does not impact the perceived usefulness of the recommendation, profile similarity and rating overlap have a significant impact on perceived usefulness.\" (p. 201)\n",
        "\n",
        "Now, consider LibraryThing: [https://www.librarything.com](https://www.librarything.com)\n",
        "\n",
        "LibraryThing includes recommendations for books. The following is an example of a record that displays recommendations for additional resources: [https://www.librarything.com/work/7424](https://www.librarything.com/work/7424)\n",
        "\n",
        "*   About LibraryThing Recommendations—[https://wiki.librarything.com/index.php/Recommendations](https://wiki.librarything.com/index.php/Recommendations)\n",
        "    *   \"How does the computer calculate Automatic Recommendations? … This algorithm also takes into account similar subject headings and tags for books in Your library. It uses subject headings assigned by libraries and the most common tags applied to your books by all LibraryThing members, so even if you don't tag, you can still generate recommendations. The computer adjusts recommendations (weights) based on tag/subject obscurity—so the fact that two books share the widely-used tag 'fiction' counts less towards making them similar than if they share the tag 'books about books' or 'dystopian steampunk'. If you share a lot of unusual books with another LT member, you may find that the algorithm suggests other items from these similar libraries.\"\n",
        "\n",
        "#### **Next**\n",
        "\n",
        "_Recommender systems can be a bit of a double-edged sword: They can provide users with good recommendations, but they remove agency, and in doing so, impose an external bias on the information retrieval act. Next, look to commercial systems in LAMs, many of which use recommender systems or other methods of improving search based on user-supplied data._ \n",
        "\n",
        "* * *\n",
        "\n",
        "#### Reference\n",
        "\n",
        "O'Neil, C. (2017). _Weapons of math destruction: How big data increases inequality and threatens democracy_. Penguin Books."
      ]
    }
  ]
}